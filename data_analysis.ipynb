{
 "cells": [
  {
   "cell_type": "code",
   "execution_count": 183,
   "id": "7e45275d",
   "metadata": {},
   "outputs": [],
   "source": [
    "from pyspark.sql import SparkSession\n",
    "from pyspark.sql.functions import col, regexp_replace, avg, round, when\n",
    "from pyspark.sql.types import FloatType"
   ]
  },
  {
   "cell_type": "code",
   "execution_count": 184,
   "id": "a4b527ea",
   "metadata": {},
   "outputs": [],
   "source": [
    "spark = SparkSession.builder \\\n",
    "    .appName(\"Fuel Prices in Brazil Analysis\") \\\n",
    "    .getOrCreate()"
   ]
  },
  {
   "cell_type": "code",
   "execution_count": 185,
   "id": "a08dac03",
   "metadata": {},
   "outputs": [
    {
     "name": "stdout",
     "output_type": "stream",
     "text": [
      "+--------------+--------------+---------------+--------------------+-------------------+--------------------+----------+--------------------+-------------------+---------+------------------+--------------+--------------+---------------+-----------------+--------+\n",
      "|Regiao - Sigla|Estado - Sigla|      Municipio|             Revenda|    CNPJ da Revenda|         Nome da Rua|Numero Rua|         Complemento|             Bairro|      Cep|           Produto|Data da Coleta|Valor de Venda|Valor de Compra|Unidade de Medida|Bandeira|\n",
      "+--------------+--------------+---------------+--------------------+-------------------+--------------------+----------+--------------------+-------------------+---------+------------------+--------------+--------------+---------------+-----------------+--------+\n",
      "|            SE|            SP|       SOROCABA|COMPETRO COMERCIO...| 00.003.188/0001-21|RUA HUMBERTO DE C...|       306|                null|     JARDIM ZULMIRA|18061-000|          GASOLINA|    24/03/2025|          5,65|           null|       R$ / litro|  BRANCA|\n",
      "|            SE|            SP|       SOROCABA|COMPETRO COMERCIO...| 00.003.188/0001-21|RUA HUMBERTO DE C...|       306|                null|     JARDIM ZULMIRA|18061-000|            ETANOL|    24/03/2025|          3,78|           null|       R$ / litro|  BRANCA|\n",
      "|             N|            AC|CRUZEIRO DO SUL|AMAZONIA COMERCIO...| 01.492.748/0003-83|  AVENIDA COPACABANA|       440|                null|         COPACABANA|69980-000|          GASOLINA|    27/03/2025|          8,09|           null|       R$ / litro|IPIRANGA|\n",
      "|             N|            AC|CRUZEIRO DO SUL|AMAZONIA COMERCIO...| 01.492.748/0003-83|  AVENIDA COPACABANA|       440|                null|         COPACABANA|69980-000|GASOLINA ADITIVADA|    27/03/2025|          8,19|           null|       R$ / litro|IPIRANGA|\n",
      "|             N|            AC|CRUZEIRO DO SUL|AMAZONIA COMERCIO...| 01.492.748/0003-83|  AVENIDA COPACABANA|       440|                null|         COPACABANA|69980-000|            ETANOL|    27/03/2025|          5,95|           null|       R$ / litro|IPIRANGA|\n",
      "|             N|            AC|     RIO BRANCO|CODEPE COMBUSTIVE...| 08.220.930/0001-62|RODOVIA BR-364 (R...|      2755|LOTE  01/02/03/04...| PORTAL DA AMAZONIA|69915-630|          GASOLINA|    27/03/2025|          7,62|           null|       R$ / litro|   VIBRA|\n",
      "|             N|            AC|     RIO BRANCO|CODEPE COMBUSTIVE...| 08.220.930/0001-62|RODOVIA BR-364 (R...|      2755|LOTE  01/02/03/04...| PORTAL DA AMAZONIA|69915-630|GASOLINA ADITIVADA|    27/03/2025|          7,65|           null|       R$ / litro|   VIBRA|\n",
      "|             N|            AC|     RIO BRANCO|CODEPE COMBUSTIVE...| 08.220.930/0001-62|RODOVIA BR-364 (R...|      2755|LOTE  01/02/03/04...| PORTAL DA AMAZONIA|69915-630|            ETANOL|    27/03/2025|          5,29|           null|       R$ / litro|   VIBRA|\n",
      "|             N|            AC|     RIO BRANCO|AUTO POSTO CASTAN...| 06.003.183/0001-85| ESTRADA DA FLORESTA|       S/N|                null|           FLORESTA|69906-380|          GASOLINA|    27/03/2025|          7,64|           null|       R$ / litro| EQUADOR|\n",
      "|             N|            AC|     RIO BRANCO|AUTO POSTO CASTAN...| 06.003.183/0001-85| ESTRADA DA FLORESTA|       S/N|                null|           FLORESTA|69906-380|GASOLINA ADITIVADA|    27/03/2025|          7,69|           null|       R$ / litro| EQUADOR|\n",
      "|             N|            AC|     RIO BRANCO|AUTO POSTO CASTAN...| 06.003.183/0001-85| ESTRADA DA FLORESTA|       S/N|                null|           FLORESTA|69906-380|            ETANOL|    27/03/2025|          5,49|           null|       R$ / litro| EQUADOR|\n",
      "|             N|            AC|     RIO BRANCO|AUTO POSTO CIDADE...| 06.321.359/0001-47|AVENIDA NACOES UN...|      2123|                null|              7 BEC|69918-093|          GASOLINA|    27/03/2025|          7,60|           null|       R$ / litro|   VIBRA|\n",
      "|             N|            AC|     RIO BRANCO|AUTO POSTO CIDADE...| 06.321.359/0001-47|AVENIDA NACOES UN...|      2123|                null|              7 BEC|69918-093|            ETANOL|    27/03/2025|          5,29|           null|       R$ / litro|   VIBRA|\n",
      "|             N|            AC|     RIO BRANCO|AUTO POSTO DISTRI...| 04.087.649/0001-42|              RUA 03|       S/N|LOTE:08 ZONA:A  ST:4|DISTRITO INDUSTRIAL|69917-100|          GASOLINA|    27/03/2025|          7,64|           null|       R$ / litro|   VIBRA|\n",
      "|             N|            AC|     RIO BRANCO|AUTO POSTO DISTRI...| 04.087.649/0001-42|              RUA 03|       S/N|LOTE:08 ZONA:A  ST:4|DISTRITO INDUSTRIAL|69917-100|GASOLINA ADITIVADA|    27/03/2025|          7,64|           null|       R$ / litro|   VIBRA|\n",
      "|             N|            AC|     RIO BRANCO|AUTO POSTO DISTRI...| 04.087.649/0001-42|              RUA 03|       S/N|LOTE:08 ZONA:A  ST:4|DISTRITO INDUSTRIAL|69917-100|            ETANOL|    27/03/2025|          5,49|           null|       R$ / litro|   VIBRA|\n",
      "|             N|            AC|     RIO BRANCO|AUTO POSTO SANTO ...| 14.412.076/0001-39|  RUA ISAURA PARENTE|      3265|                null|   EST EXPERIMENTAL|69908-210|          GASOLINA|    27/03/2025|          7,65|           null|       R$ / litro|   VIBRA|\n",
      "|             N|            AC|     RIO BRANCO|AUTO POSTO SANTO ...| 14.412.076/0001-39|  RUA ISAURA PARENTE|      3265|                null|   EST EXPERIMENTAL|69908-210|GASOLINA ADITIVADA|    27/03/2025|          7,73|           null|       R$ / litro|   VIBRA|\n",
      "|             N|            AC|     RIO BRANCO|AUTO POSTO SANTO ...| 14.412.076/0001-39|  RUA ISAURA PARENTE|      3265|                null|   EST EXPERIMENTAL|69908-210|            ETANOL|    27/03/2025|          5,32|           null|       R$ / litro|   VIBRA|\n",
      "|            NE|            AL|      ARAPIRACA|AUTO POSTO M M GA...| 08.738.994/0001-50|      RODOVIA AL-220|      5848|            KM    96|        BOM SUCESSO|57309-035|          GASOLINA|    24/03/2025|          6,26|           null|       R$ / litro|   VIBRA|\n",
      "+--------------+--------------+---------------+--------------------+-------------------+--------------------+----------+--------------------+-------------------+---------+------------------+--------------+--------------+---------------+-----------------+--------+\n",
      "only showing top 20 rows\n",
      "\n"
     ]
    }
   ],
   "source": [
    "df_gasoline_ethanol = spark.read.format(\"parquet\").load(\"Gasoline and Ethanol Prices.parquet\")\n",
    "df_gasoline_ethanol.show()"
   ]
  },
  {
   "cell_type": "code",
   "execution_count": 186,
   "id": "0f9a6d56",
   "metadata": {},
   "outputs": [
    {
     "name": "stdout",
     "output_type": "stream",
     "text": [
      "+--------------+--------------+-------------------+--------------------+-------------------+--------------------+----------+--------------------+------------------+---------+----------+--------------+--------------+---------------+-----------------+--------+\n",
      "|Regiao - Sigla|Estado - Sigla|          Municipio|             Revenda|    CNPJ da Revenda|         Nome da Rua|Numero Rua|         Complemento|            Bairro|      Cep|   Produto|Data da Coleta|Valor de Venda|Valor de Compra|Unidade de Medida|Bandeira|\n",
      "+--------------+--------------+-------------------+--------------------+-------------------+--------------------+----------+--------------------+------------------+---------+----------+--------------+--------------+---------------+-----------------+--------+\n",
      "|             N|            AC|    CRUZEIRO DO SUL|AMAZONIA COMERCIO...| 01.492.748/0003-83|  AVENIDA COPACABANA|       440|                null|        COPACABANA|69980-000|    DIESEL|    27/03/2025|          8,17|           null|       R$ / litro|IPIRANGA|\n",
      "|             N|            AC|    CRUZEIRO DO SUL|AMAZONIA COMERCIO...| 01.492.748/0003-83|  AVENIDA COPACABANA|       440|                null|        COPACABANA|69980-000|DIESEL S10|    27/03/2025|          8,19|           null|       R$ / litro|IPIRANGA|\n",
      "|             N|            AC|         RIO BRANCO|CODEPE COMBUSTIVE...| 08.220.930/0001-62|RODOVIA BR-364 (R...|      2755|LOTE  01/02/03/04...|PORTAL DA AMAZONIA|69915-630|    DIESEL|    27/03/2025|          7,79|           null|       R$ / litro|   VIBRA|\n",
      "|             N|            AC|         RIO BRANCO|CODEPE COMBUSTIVE...| 08.220.930/0001-62|RODOVIA BR-364 (R...|      2755|LOTE  01/02/03/04...|PORTAL DA AMAZONIA|69915-630|DIESEL S10|    27/03/2025|          7,85|           null|       R$ / litro|   VIBRA|\n",
      "|             N|            AC|         RIO BRANCO|AUTO POSTO CASTAN...| 06.003.183/0001-85| ESTRADA DA FLORESTA|       S/N|                null|          FLORESTA|69906-380|    DIESEL|    27/03/2025|          7,79|           null|       R$ / litro| EQUADOR|\n",
      "|             N|            AC|         RIO BRANCO|AUTO POSTO CASTAN...| 06.003.183/0001-85| ESTRADA DA FLORESTA|       S/N|                null|          FLORESTA|69906-380|DIESEL S10|    27/03/2025|          7,84|           null|       R$ / litro| EQUADOR|\n",
      "|             N|            AC|         RIO BRANCO|AUTO POSTO CIDADE...| 06.321.359/0001-47|AVENIDA NACOES UN...|      2123|                null|             7 BEC|69918-093|    DIESEL|    27/03/2025|          7,73|           null|       R$ / litro|   VIBRA|\n",
      "|             N|            AC|         RIO BRANCO|AUTO POSTO CIDADE...| 06.321.359/0001-47|AVENIDA NACOES UN...|      2123|                null|             7 BEC|69918-093|DIESEL S10|    27/03/2025|          7,78|           null|       R$ / litro|   VIBRA|\n",
      "|             N|            AC|         RIO BRANCO|AUTO POSTO SANTO ...| 14.412.076/0001-39|  RUA ISAURA PARENTE|      3265|                null|  EST EXPERIMENTAL|69908-210|    DIESEL|    27/03/2025|          7,73|           null|       R$ / litro|   VIBRA|\n",
      "|             N|            AC|         RIO BRANCO|AUTO POSTO SANTO ...| 14.412.076/0001-39|  RUA ISAURA PARENTE|      3265|                null|  EST EXPERIMENTAL|69908-210|DIESEL S10|    27/03/2025|          7,80|           null|       R$ / litro|   VIBRA|\n",
      "|            NE|            AL|          ARAPIRACA|AUTO POSTO MASSAR...| 07.248.398/0001-29|      RODOVIA AL 220|      4698|                null|          PLANALTO|57308-000|    DIESEL|    24/03/2025|          6,69|           null|       R$ / litro|  BRANCA|\n",
      "|            NE|            AL|          ARAPIRACA|DISTRIBUIDORA DE ...| 12.396.339/0001-38|RUA QUINZE DE NOV...|       451|                null|          BRASILIA|57313-015|DIESEL S10|    24/03/2025|          6,59|           null|       R$ / litro|  RAIZEN|\n",
      "|            NE|            AL|          ARAPIRACA|IBN PINTO E SILVA...| 01.242.690/0001-58|      RODOVIA AL-110|       678|            KM    70|       CANAFISTULA|57302-802|DIESEL S10|    24/03/2025|          6,69|           null|       R$ / litro|  BRANCA|\n",
      "|            NE|            AL|    DELMIRO GOUVEIA|AUTO POSTO FREITA...| 12.436.978/0001-80|RUA FLORIANO PEIXOTO|       247|                null|            CENTRO|57480-000|DIESEL S10|    26/03/2025|          7,03|           null|       R$ / litro|   VIBRA|\n",
      "|            NE|            AL|    DELMIRO GOUVEIA|COMERCIO DE COMBU...| 04.431.113/0001-00|     AVENIDA CAXANGA|       126|                null|       PEDRA VELHA|57480-000|    DIESEL|    26/03/2025|          6,95|           null|       R$ / litro|  BRANCA|\n",
      "|            NE|            AL|    DELMIRO GOUVEIA|COMERCIO DE COMBU...| 04.431.113/0001-00|     AVENIDA CAXANGA|       126|                null|       PEDRA VELHA|57480-000|DIESEL S10|    26/03/2025|          6,99|           null|       R$ / litro|  BRANCA|\n",
      "|            NE|            AL|PALMEIRA DOS INDIOS|SEVERINO S. LOPES...| 05.331.412/0002-09|AVENIDA MUNIZ FALCAO|      1640|                null|   JOSE MAIA COSTA|57602-490|DIESEL S10|    27/03/2025|          6,59|           null|       R$ / litro|   VIBRA|\n",
      "|            NE|            AL|PALMEIRA DOS INDIOS|A. B. LESSA NETO ...| 05.562.589/0001-35|AVENIDA VIEIRA DE...|      1888|                null|        VILA MARIA|57607-570|DIESEL S10|    27/03/2025|          6,58|           null|       R$ / litro|   VIBRA|\n",
      "|            NE|            AL|PALMEIRA DOS INDIOS|  BALBINO & CIA LTDA| 08.623.068/0001-39|AVENIDA MUNIZ FALCAO|         1|                null|   JOSE MAIA COSTA|57602-490|DIESEL S10|    27/03/2025|          6,69|           null|       R$ / litro|  RAIZEN|\n",
      "|            NE|            AL|          RIO LARGO|OLIVEIRA & FREITA...| 01.600.494/0001-08|LOTEAMENTO VILA RICA|       S/N|LOTE  12         ...|      MATA DO ROLO|57100-000|DIESEL S10|    24/03/2025|          6,64|           null|       R$ / litro|IPIRANGA|\n",
      "+--------------+--------------+-------------------+--------------------+-------------------+--------------------+----------+--------------------+------------------+---------+----------+--------------+--------------+---------------+-----------------+--------+\n",
      "only showing top 20 rows\n",
      "\n"
     ]
    }
   ],
   "source": [
    "df_diesel_cng = spark.read.format(\"parquet\").load(\"Diesel and CNG Prices.parquet\")\n",
    "df_diesel_cng.show()"
   ]
  },
  {
   "cell_type": "code",
   "execution_count": 187,
   "id": "f75d2e03",
   "metadata": {},
   "outputs": [
    {
     "name": "stdout",
     "output_type": "stream",
     "text": [
      "+--------------+--------------+-------------+--------------------+-------------------+--------------------+----------+--------------------+--------------------+---------+-------+--------------+--------------+---------------+-----------------+--------------------+\n",
      "|Regiao - Sigla|Estado - Sigla|    Municipio|             Revenda|    CNPJ da Revenda|         Nome da Rua|Numero Rua|         Complemento|              Bairro|      Cep|Produto|Data da Coleta|Valor de Venda|Valor de Compra|Unidade de Medida|            Bandeira|\n",
      "+--------------+--------------+-------------+--------------------+-------------------+--------------------+----------+--------------------+--------------------+---------+-------+--------------+--------------+---------------+-----------------+--------------------+\n",
      "|            CO|            MS| CAMPO GRANDE|COMPANHIA ULTRAGA...| 61.602.199/0024-09|RUA AMARO CASTRO ...|      1852|                null|VILA NOVA CAMPO G...|79106-361|    GLP|    24/03/2025|        110,00|           null|       R$ / 13 kg|            ULTRAGAZ|\n",
      "|            SE|            MG|MONTES CLAROS|SUPERGASBRAS ENER...| 19.791.896/0070-24|AVENIDA DEP. PLIN...|      3220|                null|    JARDIM PALMEIRAS|39402-194|    GLP|    24/03/2025|        115,00|           null|       R$ / 13 kg|SUPERGASBRAS ENERGIA|\n",
      "|             N|            AC|   RIO BRANCO|CODEPE COMBUSTIVE...| 08.220.930/0001-62|RODOVIA BR-364 (R...|      2755|LOTE  01/02/03/04...|  PORTAL DA AMAZONIA|69915-630|    GLP|    27/03/2025|        125,00|           null|       R$ / 13 kg|               FOGAS|\n",
      "|             N|            AC|   RIO BRANCO|AUTO POSTO ISAURA...| 04.594.586/0001-10|  RUA ISAURA PARENTE|      1412|                null|ESTACAO EXPERIMENTAL|69918-216|    GLP|    27/03/2025|        108,00|           null|       R$ / 13 kg|           AMAZONGÁS|\n",
      "|             N|            AC|   RIO BRANCO|AUTO POSTO CASTAN...| 06.003.183/0001-85| ESTRADA DA FLORESTA|       S/N|                null|            FLORESTA|69906-380|    GLP|    27/03/2025|        127,00|           null|       R$ / 13 kg|               FOGAS|\n",
      "|             N|            AC|   RIO BRANCO| POSTO VILLAGE LTDA.| 06.906.483/0001-74|RUA ANTONIO DA RO...|       S/N|CONJ. VILLAGE W. ...|        VILA IVONETE|69914-610|    GLP|    27/03/2025|        120,00|           null|       R$ / 13 kg|               FOGAS|\n",
      "|             N|            AC|   RIO BRANCO|AUTO POSTO CIDADE...| 06.321.359/0001-47|AVENIDA NACOES UN...|      2123|                null|               7 BEC|69918-093|    GLP|    27/03/2025|        118,00|           null|       R$ / 13 kg|               FOGAS|\n",
      "|             N|            AC|   RIO BRANCO|COMDEPE COMERCIO ...| 01.198.443/0002-82|ESTRADA JARBAS PA...|       115|                null|              PLACAS|69900-970|    GLP|    27/03/2025|        128,00|           null|       R$ / 13 kg|               FOGAS|\n",
      "|             N|            AC|   RIO BRANCO|AUTO POSTO DISTRI...| 04.087.649/0001-42|              RUA 03|       S/N|LOTE:08 ZONA:A  ST:4| DISTRITO INDUSTRIAL|69917-100|    GLP|    27/03/2025|        122,00|           null|       R$ / 13 kg|               FOGAS|\n",
      "|             N|            AC|   RIO BRANCO|AUTO POSTO SANTO ...| 14.412.076/0001-39|  RUA ISAURA PARENTE|      3265|                null|    EST EXPERIMENTAL|69908-210|    GLP|    27/03/2025|        127,00|           null|       R$ / 13 kg|               FOGAS|\n",
      "|             N|            AC|   RIO BRANCO|POSTO FLORESTA E ...| 04.767.269/0001-59| ESTRADA DA FLORESTA|       684|                null|            FLORESTA|69906-380|    GLP|    27/03/2025|        116,00|           null|       R$ / 13 kg|           AMAZONGÁS|\n",
      "|             N|            AC|   RIO BRANCO|FREITAS COMERCIO ...| 04.587.754/0001-40|       AVENIDA CEARA|      3491|                null|              7O BEC|69918-108|    GLP|    27/03/2025|        125,00|           null|       R$ / 13 kg|               FOGAS|\n",
      "|             N|            AM|    PARINTINS|F.J. COMERCIO DE ...| 09.368.602/0001-70|         RUA PARAIBA|        41|      CONJ  MACURANY|      RAIMUNDO MUNIZ|69151-456|    GLP|    27/03/2025|        134,00|           null|       R$ / 13 kg|               FOGAS|\n",
      "|            NE|            BA|       ILHEUS|COMERCIAL SAVOIA ...| 02.366.787/0001-35|AVENIDA RAYMUNDO ...|       S/N|    LOTES 26 27 E 28|       JARDIM SAVOIA|45658-250|    GLP|    27/03/2025|        153,00|           null|       R$ / 13 kg|             BAHIANA|\n",
      "|            NE|            BA|       JEQUIE|STOCK COMERCIO DE...| 13.707.245/0001-03|RUA BRIG SA BITEN...|         5|                null|         JEQUIEZINHO|45208-087|    GLP|    24/03/2025|        120,00|           null|       R$ / 13 kg|            LIQUIGÁS|\n",
      "|            CO|            DF|     BRASILIA|AUTO SHOPPING DER...| 37.063.328/0009-14| QI 19 LOTES 02 E 04|       S/N|    SETOR INDUSTRIAL|          TAGUATINGA|72120-190|    GLP|    24/03/2025|         94,99|           null|       R$ / 13 kg|            ULTRAGAZ|\n",
      "|            CO|            DF|     BRASILIA|CASCOL COMBUSTIVE...| 00.306.597/0015-00|QUADRA QR 516 CON...|         1|                null|       SAMAMBAIA SUL|70772-500|    GLP|    27/03/2025|         99,99|           null|       R$ / 13 kg|        COPA ENERGIA|\n",
      "|            SE|            ES|     LINHARES|POSTO OURO NEGRO ...| 02.468.894/0001-74|AVENIDA SAMUEL BA...|      2319|                null|              COLINA|29901-401|    GLP|    26/03/2025|        115,00|           null|       R$ / 13 kg|              BRANCA|\n",
      "|            NE|            MA|     SAO LUIS|LIMA COMERCIAL DE...| 69.418.101/0003-45|AVENIDA DOS FRANC...|        25|                null|           TIRIRICAL|65036-280|    GLP|    27/03/2025|        110,00|           null|       R$ / 13 kg|            LIQUIGÁS|\n",
      "|            NE|            MA|     SAO LUIS|ANTONIA LIANE GOM...| 08.585.377/0001-61|AVENIDA LOURENCO ...|         8|         QUADRA 44-A|JARDIM SAO CRISTO...|65055-380|    GLP|    25/03/2025|        115,00|           null|       R$ / 13 kg|            LIQUIGÁS|\n",
      "+--------------+--------------+-------------+--------------------+-------------------+--------------------+----------+--------------------+--------------------+---------+-------+--------------+--------------+---------------+-----------------+--------------------+\n",
      "only showing top 20 rows\n",
      "\n"
     ]
    }
   ],
   "source": [
    "df_lpg = spark.read.format(\"parquet\").load(\"LPG Prices.parquet\")\n",
    "df_lpg.show()"
   ]
  },
  {
   "cell_type": "code",
   "execution_count": 188,
   "id": "f449cb45",
   "metadata": {},
   "outputs": [
    {
     "name": "stdout",
     "output_type": "stream",
     "text": [
      "+--------------+--------------+---------------+--------------------+-------------------+--------------------+----------+--------------------+-------------------+---------+------------------+--------------+--------------+---------------+-----------------+--------+\n",
      "|Regiao - Sigla|Estado - Sigla|      Municipio|             Revenda|    CNPJ da Revenda|         Nome da Rua|Numero Rua|         Complemento|             Bairro|      Cep|           Produto|Data da Coleta|Valor de Venda|Valor de Compra|Unidade de Medida|Bandeira|\n",
      "+--------------+--------------+---------------+--------------------+-------------------+--------------------+----------+--------------------+-------------------+---------+------------------+--------------+--------------+---------------+-----------------+--------+\n",
      "|            SE|            SP|       SOROCABA|COMPETRO COMERCIO...| 00.003.188/0001-21|RUA HUMBERTO DE C...|       306|                null|     JARDIM ZULMIRA|18061-000|          GASOLINA|    24/03/2025|          5,65|           null|       R$ / litro|  BRANCA|\n",
      "|            SE|            SP|       SOROCABA|COMPETRO COMERCIO...| 00.003.188/0001-21|RUA HUMBERTO DE C...|       306|                null|     JARDIM ZULMIRA|18061-000|            ETANOL|    24/03/2025|          3,78|           null|       R$ / litro|  BRANCA|\n",
      "|             N|            AC|CRUZEIRO DO SUL|AMAZONIA COMERCIO...| 01.492.748/0003-83|  AVENIDA COPACABANA|       440|                null|         COPACABANA|69980-000|          GASOLINA|    27/03/2025|          8,09|           null|       R$ / litro|IPIRANGA|\n",
      "|             N|            AC|CRUZEIRO DO SUL|AMAZONIA COMERCIO...| 01.492.748/0003-83|  AVENIDA COPACABANA|       440|                null|         COPACABANA|69980-000|GASOLINA ADITIVADA|    27/03/2025|          8,19|           null|       R$ / litro|IPIRANGA|\n",
      "|             N|            AC|CRUZEIRO DO SUL|AMAZONIA COMERCIO...| 01.492.748/0003-83|  AVENIDA COPACABANA|       440|                null|         COPACABANA|69980-000|            ETANOL|    27/03/2025|          5,95|           null|       R$ / litro|IPIRANGA|\n",
      "|             N|            AC|     RIO BRANCO|CODEPE COMBUSTIVE...| 08.220.930/0001-62|RODOVIA BR-364 (R...|      2755|LOTE  01/02/03/04...| PORTAL DA AMAZONIA|69915-630|          GASOLINA|    27/03/2025|          7,62|           null|       R$ / litro|   VIBRA|\n",
      "|             N|            AC|     RIO BRANCO|CODEPE COMBUSTIVE...| 08.220.930/0001-62|RODOVIA BR-364 (R...|      2755|LOTE  01/02/03/04...| PORTAL DA AMAZONIA|69915-630|GASOLINA ADITIVADA|    27/03/2025|          7,65|           null|       R$ / litro|   VIBRA|\n",
      "|             N|            AC|     RIO BRANCO|CODEPE COMBUSTIVE...| 08.220.930/0001-62|RODOVIA BR-364 (R...|      2755|LOTE  01/02/03/04...| PORTAL DA AMAZONIA|69915-630|            ETANOL|    27/03/2025|          5,29|           null|       R$ / litro|   VIBRA|\n",
      "|             N|            AC|     RIO BRANCO|AUTO POSTO CASTAN...| 06.003.183/0001-85| ESTRADA DA FLORESTA|       S/N|                null|           FLORESTA|69906-380|          GASOLINA|    27/03/2025|          7,64|           null|       R$ / litro| EQUADOR|\n",
      "|             N|            AC|     RIO BRANCO|AUTO POSTO CASTAN...| 06.003.183/0001-85| ESTRADA DA FLORESTA|       S/N|                null|           FLORESTA|69906-380|GASOLINA ADITIVADA|    27/03/2025|          7,69|           null|       R$ / litro| EQUADOR|\n",
      "|             N|            AC|     RIO BRANCO|AUTO POSTO CASTAN...| 06.003.183/0001-85| ESTRADA DA FLORESTA|       S/N|                null|           FLORESTA|69906-380|            ETANOL|    27/03/2025|          5,49|           null|       R$ / litro| EQUADOR|\n",
      "|             N|            AC|     RIO BRANCO|AUTO POSTO CIDADE...| 06.321.359/0001-47|AVENIDA NACOES UN...|      2123|                null|              7 BEC|69918-093|          GASOLINA|    27/03/2025|          7,60|           null|       R$ / litro|   VIBRA|\n",
      "|             N|            AC|     RIO BRANCO|AUTO POSTO CIDADE...| 06.321.359/0001-47|AVENIDA NACOES UN...|      2123|                null|              7 BEC|69918-093|            ETANOL|    27/03/2025|          5,29|           null|       R$ / litro|   VIBRA|\n",
      "|             N|            AC|     RIO BRANCO|AUTO POSTO DISTRI...| 04.087.649/0001-42|              RUA 03|       S/N|LOTE:08 ZONA:A  ST:4|DISTRITO INDUSTRIAL|69917-100|          GASOLINA|    27/03/2025|          7,64|           null|       R$ / litro|   VIBRA|\n",
      "|             N|            AC|     RIO BRANCO|AUTO POSTO DISTRI...| 04.087.649/0001-42|              RUA 03|       S/N|LOTE:08 ZONA:A  ST:4|DISTRITO INDUSTRIAL|69917-100|GASOLINA ADITIVADA|    27/03/2025|          7,64|           null|       R$ / litro|   VIBRA|\n",
      "|             N|            AC|     RIO BRANCO|AUTO POSTO DISTRI...| 04.087.649/0001-42|              RUA 03|       S/N|LOTE:08 ZONA:A  ST:4|DISTRITO INDUSTRIAL|69917-100|            ETANOL|    27/03/2025|          5,49|           null|       R$ / litro|   VIBRA|\n",
      "|             N|            AC|     RIO BRANCO|AUTO POSTO SANTO ...| 14.412.076/0001-39|  RUA ISAURA PARENTE|      3265|                null|   EST EXPERIMENTAL|69908-210|          GASOLINA|    27/03/2025|          7,65|           null|       R$ / litro|   VIBRA|\n",
      "|             N|            AC|     RIO BRANCO|AUTO POSTO SANTO ...| 14.412.076/0001-39|  RUA ISAURA PARENTE|      3265|                null|   EST EXPERIMENTAL|69908-210|GASOLINA ADITIVADA|    27/03/2025|          7,73|           null|       R$ / litro|   VIBRA|\n",
      "|             N|            AC|     RIO BRANCO|AUTO POSTO SANTO ...| 14.412.076/0001-39|  RUA ISAURA PARENTE|      3265|                null|   EST EXPERIMENTAL|69908-210|            ETANOL|    27/03/2025|          5,32|           null|       R$ / litro|   VIBRA|\n",
      "|            NE|            AL|      ARAPIRACA|AUTO POSTO M M GA...| 08.738.994/0001-50|      RODOVIA AL-220|      5848|            KM    96|        BOM SUCESSO|57309-035|          GASOLINA|    24/03/2025|          6,26|           null|       R$ / litro|   VIBRA|\n",
      "+--------------+--------------+---------------+--------------------+-------------------+--------------------+----------+--------------------+-------------------+---------+------------------+--------------+--------------+---------------+-----------------+--------+\n",
      "only showing top 20 rows\n",
      "\n"
     ]
    }
   ],
   "source": [
    "df_fuels = df_gasoline_ethanol.union(df_diesel_cng).union(df_lpg)\n",
    "df_fuels.show()"
   ]
  },
  {
   "cell_type": "code",
   "execution_count": 189,
   "id": "80567fad",
   "metadata": {},
   "outputs": [
    {
     "data": {
      "text/plain": [
       "StructType([StructField('Regiao - Sigla', StringType(), True), StructField('Estado - Sigla', StringType(), True), StructField('Municipio', StringType(), True), StructField('Revenda', StringType(), True), StructField('CNPJ da Revenda', StringType(), True), StructField('Nome da Rua', StringType(), True), StructField('Numero Rua', StringType(), True), StructField('Complemento', StringType(), True), StructField('Bairro', StringType(), True), StructField('Cep', StringType(), True), StructField('Produto', StringType(), True), StructField('Data da Coleta', StringType(), True), StructField('Valor de Venda', StringType(), True), StructField('Valor de Compra', DoubleType(), True), StructField('Unidade de Medida', StringType(), True), StructField('Bandeira', StringType(), True)])"
      ]
     },
     "execution_count": 189,
     "metadata": {},
     "output_type": "execute_result"
    }
   ],
   "source": [
    "df_fuels.schema"
   ]
  },
  {
   "cell_type": "code",
   "execution_count": 190,
   "id": "f4d8282d",
   "metadata": {},
   "outputs": [
    {
     "name": "stdout",
     "output_type": "stream",
     "text": [
      "+--------------+--------------+---------------+--------------------+------------------+--------------+---------------+--------+\n",
      "|Regiao - Sigla|Estado - Sigla|      Municipio|             Revenda|           Produto|Valor de Venda|Valor de Compra|Bandeira|\n",
      "+--------------+--------------+---------------+--------------------+------------------+--------------+---------------+--------+\n",
      "|            SE|            SP|       SOROCABA|COMPETRO COMERCIO...|          GASOLINA|          5,65|           null|  BRANCA|\n",
      "|            SE|            SP|       SOROCABA|COMPETRO COMERCIO...|            ETANOL|          3,78|           null|  BRANCA|\n",
      "|             N|            AC|CRUZEIRO DO SUL|AMAZONIA COMERCIO...|          GASOLINA|          8,09|           null|IPIRANGA|\n",
      "|             N|            AC|CRUZEIRO DO SUL|AMAZONIA COMERCIO...|GASOLINA ADITIVADA|          8,19|           null|IPIRANGA|\n",
      "|             N|            AC|CRUZEIRO DO SUL|AMAZONIA COMERCIO...|            ETANOL|          5,95|           null|IPIRANGA|\n",
      "|             N|            AC|     RIO BRANCO|CODEPE COMBUSTIVE...|          GASOLINA|          7,62|           null|   VIBRA|\n",
      "|             N|            AC|     RIO BRANCO|CODEPE COMBUSTIVE...|GASOLINA ADITIVADA|          7,65|           null|   VIBRA|\n",
      "|             N|            AC|     RIO BRANCO|CODEPE COMBUSTIVE...|            ETANOL|          5,29|           null|   VIBRA|\n",
      "|             N|            AC|     RIO BRANCO|AUTO POSTO CASTAN...|          GASOLINA|          7,64|           null| EQUADOR|\n",
      "|             N|            AC|     RIO BRANCO|AUTO POSTO CASTAN...|GASOLINA ADITIVADA|          7,69|           null| EQUADOR|\n",
      "|             N|            AC|     RIO BRANCO|AUTO POSTO CASTAN...|            ETANOL|          5,49|           null| EQUADOR|\n",
      "|             N|            AC|     RIO BRANCO|AUTO POSTO CIDADE...|          GASOLINA|          7,60|           null|   VIBRA|\n",
      "|             N|            AC|     RIO BRANCO|AUTO POSTO CIDADE...|            ETANOL|          5,29|           null|   VIBRA|\n",
      "|             N|            AC|     RIO BRANCO|AUTO POSTO DISTRI...|          GASOLINA|          7,64|           null|   VIBRA|\n",
      "|             N|            AC|     RIO BRANCO|AUTO POSTO DISTRI...|GASOLINA ADITIVADA|          7,64|           null|   VIBRA|\n",
      "|             N|            AC|     RIO BRANCO|AUTO POSTO DISTRI...|            ETANOL|          5,49|           null|   VIBRA|\n",
      "|             N|            AC|     RIO BRANCO|AUTO POSTO SANTO ...|          GASOLINA|          7,65|           null|   VIBRA|\n",
      "|             N|            AC|     RIO BRANCO|AUTO POSTO SANTO ...|GASOLINA ADITIVADA|          7,73|           null|   VIBRA|\n",
      "|             N|            AC|     RIO BRANCO|AUTO POSTO SANTO ...|            ETANOL|          5,32|           null|   VIBRA|\n",
      "|            NE|            AL|      ARAPIRACA|AUTO POSTO M M GA...|          GASOLINA|          6,26|           null|   VIBRA|\n",
      "+--------------+--------------+---------------+--------------------+------------------+--------------+---------------+--------+\n",
      "only showing top 20 rows\n",
      "\n"
     ]
    }
   ],
   "source": [
    "df_fuels = df_fuels.select(\"Regiao - Sigla\", \"Estado - Sigla\", \"Municipio\", \"Revenda\", \"Produto\", \"Valor de Venda\", \"Valor de Compra\", \"Bandeira\")\n",
    "df_fuels.show()"
   ]
  },
  {
   "cell_type": "code",
   "execution_count": 191,
   "id": "135fdc50",
   "metadata": {},
   "outputs": [
    {
     "name": "stdout",
     "output_type": "stream",
     "text": [
      "+------+-----+---------------+--------------------+------------------+-----------+--------------+----------+\n",
      "|Region|State|           City|         Gas Station|           Product|Sales Price|Purchase Price|Fuel Brand|\n",
      "+------+-----+---------------+--------------------+------------------+-----------+--------------+----------+\n",
      "|    SE|   SP|       SOROCABA|COMPETRO COMERCIO...|          GASOLINA|       5,65|          null|    BRANCA|\n",
      "|    SE|   SP|       SOROCABA|COMPETRO COMERCIO...|            ETANOL|       3,78|          null|    BRANCA|\n",
      "|     N|   AC|CRUZEIRO DO SUL|AMAZONIA COMERCIO...|          GASOLINA|       8,09|          null|  IPIRANGA|\n",
      "|     N|   AC|CRUZEIRO DO SUL|AMAZONIA COMERCIO...|GASOLINA ADITIVADA|       8,19|          null|  IPIRANGA|\n",
      "|     N|   AC|CRUZEIRO DO SUL|AMAZONIA COMERCIO...|            ETANOL|       5,95|          null|  IPIRANGA|\n",
      "|     N|   AC|     RIO BRANCO|CODEPE COMBUSTIVE...|          GASOLINA|       7,62|          null|     VIBRA|\n",
      "|     N|   AC|     RIO BRANCO|CODEPE COMBUSTIVE...|GASOLINA ADITIVADA|       7,65|          null|     VIBRA|\n",
      "|     N|   AC|     RIO BRANCO|CODEPE COMBUSTIVE...|            ETANOL|       5,29|          null|     VIBRA|\n",
      "|     N|   AC|     RIO BRANCO|AUTO POSTO CASTAN...|          GASOLINA|       7,64|          null|   EQUADOR|\n",
      "|     N|   AC|     RIO BRANCO|AUTO POSTO CASTAN...|GASOLINA ADITIVADA|       7,69|          null|   EQUADOR|\n",
      "|     N|   AC|     RIO BRANCO|AUTO POSTO CASTAN...|            ETANOL|       5,49|          null|   EQUADOR|\n",
      "|     N|   AC|     RIO BRANCO|AUTO POSTO CIDADE...|          GASOLINA|       7,60|          null|     VIBRA|\n",
      "|     N|   AC|     RIO BRANCO|AUTO POSTO CIDADE...|            ETANOL|       5,29|          null|     VIBRA|\n",
      "|     N|   AC|     RIO BRANCO|AUTO POSTO DISTRI...|          GASOLINA|       7,64|          null|     VIBRA|\n",
      "|     N|   AC|     RIO BRANCO|AUTO POSTO DISTRI...|GASOLINA ADITIVADA|       7,64|          null|     VIBRA|\n",
      "|     N|   AC|     RIO BRANCO|AUTO POSTO DISTRI...|            ETANOL|       5,49|          null|     VIBRA|\n",
      "|     N|   AC|     RIO BRANCO|AUTO POSTO SANTO ...|          GASOLINA|       7,65|          null|     VIBRA|\n",
      "|     N|   AC|     RIO BRANCO|AUTO POSTO SANTO ...|GASOLINA ADITIVADA|       7,73|          null|     VIBRA|\n",
      "|     N|   AC|     RIO BRANCO|AUTO POSTO SANTO ...|            ETANOL|       5,32|          null|     VIBRA|\n",
      "|    NE|   AL|      ARAPIRACA|AUTO POSTO M M GA...|          GASOLINA|       6,26|          null|     VIBRA|\n",
      "+------+-----+---------------+--------------------+------------------+-----------+--------------+----------+\n",
      "only showing top 20 rows\n",
      "\n"
     ]
    }
   ],
   "source": [
    "df_fuels = df_fuels.withColumnRenamed(\"Regiao - Sigla\", \"Region\") \\\n",
    "    .withColumnRenamed(\"Estado - Sigla\", \"State\") \\\n",
    "    .withColumnRenamed(\"Municipio\", \"City\") \\\n",
    "    .withColumnRenamed(\"Revenda\", \"Gas Station\") \\\n",
    "    .withColumnRenamed(\"Produto\", \"Product\") \\\n",
    "    .withColumnRenamed(\"Valor de Venda\", \"Sales Price\") \\\n",
    "    .withColumnRenamed(\"Valor de Compra\", \"Purchase Price\") \\\n",
    "    .withColumnRenamed(\"Bandeira\", \"Fuel Brand\")\n",
    "df_fuels.show()"
   ]
  },
  {
   "cell_type": "code",
   "execution_count": 192,
   "id": "e5ce7468",
   "metadata": {},
   "outputs": [
    {
     "name": "stdout",
     "output_type": "stream",
     "text": [
      "+------+-----+---------------+--------------------+----------------+-----------+--------------+----------+\n",
      "|Region|State|           City|         Gas Station|         Product|Sales Price|Purchase Price|Fuel Brand|\n",
      "+------+-----+---------------+--------------------+----------------+-----------+--------------+----------+\n",
      "|    SE|   SP|       SOROCABA|COMPETRO COMERCIO...|        Gasoline|       5,65|          null|    BRANCA|\n",
      "|    SE|   SP|       SOROCABA|COMPETRO COMERCIO...|         Ethanol|       3,78|          null|    BRANCA|\n",
      "|     N|   AC|CRUZEIRO DO SUL|AMAZONIA COMERCIO...|        Gasoline|       8,09|          null|  IPIRANGA|\n",
      "|     N|   AC|CRUZEIRO DO SUL|AMAZONIA COMERCIO...|Premium Gasoline|       8,19|          null|  IPIRANGA|\n",
      "|     N|   AC|CRUZEIRO DO SUL|AMAZONIA COMERCIO...|         Ethanol|       5,95|          null|  IPIRANGA|\n",
      "|     N|   AC|     RIO BRANCO|CODEPE COMBUSTIVE...|        Gasoline|       7,62|          null|     VIBRA|\n",
      "|     N|   AC|     RIO BRANCO|CODEPE COMBUSTIVE...|Premium Gasoline|       7,65|          null|     VIBRA|\n",
      "|     N|   AC|     RIO BRANCO|CODEPE COMBUSTIVE...|         Ethanol|       5,29|          null|     VIBRA|\n",
      "|     N|   AC|     RIO BRANCO|AUTO POSTO CASTAN...|        Gasoline|       7,64|          null|   EQUADOR|\n",
      "|     N|   AC|     RIO BRANCO|AUTO POSTO CASTAN...|Premium Gasoline|       7,69|          null|   EQUADOR|\n",
      "|     N|   AC|     RIO BRANCO|AUTO POSTO CASTAN...|         Ethanol|       5,49|          null|   EQUADOR|\n",
      "|     N|   AC|     RIO BRANCO|AUTO POSTO CIDADE...|        Gasoline|       7,60|          null|     VIBRA|\n",
      "|     N|   AC|     RIO BRANCO|AUTO POSTO CIDADE...|         Ethanol|       5,29|          null|     VIBRA|\n",
      "|     N|   AC|     RIO BRANCO|AUTO POSTO DISTRI...|        Gasoline|       7,64|          null|     VIBRA|\n",
      "|     N|   AC|     RIO BRANCO|AUTO POSTO DISTRI...|Premium Gasoline|       7,64|          null|     VIBRA|\n",
      "|     N|   AC|     RIO BRANCO|AUTO POSTO DISTRI...|         Ethanol|       5,49|          null|     VIBRA|\n",
      "|     N|   AC|     RIO BRANCO|AUTO POSTO SANTO ...|        Gasoline|       7,65|          null|     VIBRA|\n",
      "|     N|   AC|     RIO BRANCO|AUTO POSTO SANTO ...|Premium Gasoline|       7,73|          null|     VIBRA|\n",
      "|     N|   AC|     RIO BRANCO|AUTO POSTO SANTO ...|         Ethanol|       5,32|          null|     VIBRA|\n",
      "|    NE|   AL|      ARAPIRACA|AUTO POSTO M M GA...|        Gasoline|       6,26|          null|     VIBRA|\n",
      "+------+-----+---------------+--------------------+----------------+-----------+--------------+----------+\n",
      "only showing top 20 rows\n",
      "\n"
     ]
    }
   ],
   "source": [
    "df_fuels = df_fuels.withColumn(\n",
    "    \"Product\", \n",
    "    when(df_fuels[\"Product\"] == \"ETANOL\", \"Ethanol\")\n",
    "    .when(df_fuels[\"Product\"] == \"GASOLINA\", \"Gasoline\")\n",
    "    .when(df_fuels[\"Product\"] == \"GASOLINA ADITIVADA\", \"Premium Gasoline\")\n",
    "    .when(df_fuels[\"Product\"] == \"DIESEL\", \"Diesel\")\n",
    "    .when(df_fuels[\"Product\"] == \"DIESEL S10\", \"Diesel S10\")\n",
    "    .when(df_fuels[\"Product\"] == \"GLP\", \"LPG\")\n",
    "    .when(df_fuels[\"Product\"] == \"GNV\", \"CNG\")\n",
    "    .otherwise(df_fuels[\"Product\"])\n",
    ")\n",
    "df_fuels.show()"
   ]
  },
  {
   "cell_type": "code",
   "execution_count": 193,
   "id": "9cf420a0",
   "metadata": {},
   "outputs": [
    {
     "name": "stdout",
     "output_type": "stream",
     "text": [
      "+------+-----+---------------+--------------------+----------------+-----------+--------------+----------+\n",
      "|Region|State|           City|         Gas Station|         Product|Sales Price|Purchase Price|Fuel Brand|\n",
      "+------+-----+---------------+--------------------+----------------+-----------+--------------+----------+\n",
      "|    SE|   SP|       SOROCABA|COMPETRO COMERCIO...|        Gasoline|       5.65|          null|    BRANCA|\n",
      "|    SE|   SP|       SOROCABA|COMPETRO COMERCIO...|         Ethanol|       3.78|          null|    BRANCA|\n",
      "|     N|   AC|CRUZEIRO DO SUL|AMAZONIA COMERCIO...|        Gasoline|       8.09|          null|  IPIRANGA|\n",
      "|     N|   AC|CRUZEIRO DO SUL|AMAZONIA COMERCIO...|Premium Gasoline|       8.19|          null|  IPIRANGA|\n",
      "|     N|   AC|CRUZEIRO DO SUL|AMAZONIA COMERCIO...|         Ethanol|       5.95|          null|  IPIRANGA|\n",
      "|     N|   AC|     RIO BRANCO|CODEPE COMBUSTIVE...|        Gasoline|       7.62|          null|     VIBRA|\n",
      "|     N|   AC|     RIO BRANCO|CODEPE COMBUSTIVE...|Premium Gasoline|       7.65|          null|     VIBRA|\n",
      "|     N|   AC|     RIO BRANCO|CODEPE COMBUSTIVE...|         Ethanol|       5.29|          null|     VIBRA|\n",
      "|     N|   AC|     RIO BRANCO|AUTO POSTO CASTAN...|        Gasoline|       7.64|          null|   EQUADOR|\n",
      "|     N|   AC|     RIO BRANCO|AUTO POSTO CASTAN...|Premium Gasoline|       7.69|          null|   EQUADOR|\n",
      "+------+-----+---------------+--------------------+----------------+-----------+--------------+----------+\n",
      "only showing top 10 rows\n",
      "\n"
     ]
    }
   ],
   "source": [
    "df_fuels = df_fuels.withColumn(\"Sales Price\", regexp_replace(\"Sales Price\", \",\", \".\"))\n",
    "df_fuels.show(10)"
   ]
  },
  {
   "cell_type": "code",
   "execution_count": 194,
   "id": "ea713ec5",
   "metadata": {},
   "outputs": [
    {
     "name": "stdout",
     "output_type": "stream",
     "text": [
      "+------+-----+---------------+--------------------+----------------+-----------+--------------+----------+\n",
      "|Region|State|           City|         Gas Station|         Product|Sales Price|Purchase Price|Fuel Brand|\n",
      "+------+-----+---------------+--------------------+----------------+-----------+--------------+----------+\n",
      "|    SE|   SP|       SOROCABA|COMPETRO COMERCIO...|        Gasoline|       5.65|          null|    BRANCA|\n",
      "|    SE|   SP|       SOROCABA|COMPETRO COMERCIO...|         Ethanol|       3.78|          null|    BRANCA|\n",
      "|     N|   AC|CRUZEIRO DO SUL|AMAZONIA COMERCIO...|        Gasoline|       8.09|          null|  IPIRANGA|\n",
      "|     N|   AC|CRUZEIRO DO SUL|AMAZONIA COMERCIO...|Premium Gasoline|       8.19|          null|  IPIRANGA|\n",
      "|     N|   AC|CRUZEIRO DO SUL|AMAZONIA COMERCIO...|         Ethanol|       5.95|          null|  IPIRANGA|\n",
      "|     N|   AC|     RIO BRANCO|CODEPE COMBUSTIVE...|        Gasoline|       7.62|          null|     VIBRA|\n",
      "|     N|   AC|     RIO BRANCO|CODEPE COMBUSTIVE...|Premium Gasoline|       7.65|          null|     VIBRA|\n",
      "|     N|   AC|     RIO BRANCO|CODEPE COMBUSTIVE...|         Ethanol|       5.29|          null|     VIBRA|\n",
      "|     N|   AC|     RIO BRANCO|AUTO POSTO CASTAN...|        Gasoline|       7.64|          null|   EQUADOR|\n",
      "|     N|   AC|     RIO BRANCO|AUTO POSTO CASTAN...|Premium Gasoline|       7.69|          null|   EQUADOR|\n",
      "+------+-----+---------------+--------------------+----------------+-----------+--------------+----------+\n",
      "only showing top 10 rows\n",
      "\n"
     ]
    }
   ],
   "source": [
    "df_fuels = df_fuels.withColumn(\"Sales Price\", col(\"Sales Price\").cast(FloatType()))\n",
    "df_fuels.show(10)"
   ]
  },
  {
   "cell_type": "code",
   "execution_count": 195,
   "id": "9532cd24",
   "metadata": {},
   "outputs": [
    {
     "name": "stdout",
     "output_type": "stream",
     "text": [
      "+------+-----+----+-----------+-------+-----------+--------------+----------+\n",
      "|Region|State|City|Gas Station|Product|Sales Price|Purchase Price|Fuel Brand|\n",
      "+------+-----+----+-----------+-------+-----------+--------------+----------+\n",
      "+------+-----+----+-----------+-------+-----------+--------------+----------+\n",
      "\n"
     ]
    }
   ],
   "source": [
    "df_fuels.filter(col(\"Sales Price\").isNull()).show()"
   ]
  },
  {
   "cell_type": "markdown",
   "id": "9c12d1a4",
   "metadata": {},
   "source": [
    "# National Average Price"
   ]
  },
  {
   "cell_type": "code",
   "execution_count": 196,
   "id": "dd6d418b",
   "metadata": {},
   "outputs": [
    {
     "name": "stdout",
     "output_type": "stream",
     "text": [
      "+----------------+-------------------+\n",
      "|         Product|Average Sales Price|\n",
      "+----------------+-------------------+\n",
      "|             LPG|             108.58|\n",
      "|Premium Gasoline|               6.52|\n",
      "|      Diesel S10|                6.4|\n",
      "|          Diesel|               6.35|\n",
      "|        Gasoline|               6.33|\n",
      "|             CNG|               4.82|\n",
      "|         Ethanol|               4.52|\n",
      "+----------------+-------------------+\n",
      "\n"
     ]
    }
   ],
   "source": [
    "df_fuels.groupBy(\"Product\") \\\n",
    "    .agg(round(avg(\"Sales Price\"), 2).alias(\"Average Sales Price\")) \\\n",
    "    .orderBy('Average Sales Price', ascending=False) \\\n",
    "    .show()"
   ]
  },
  {
   "cell_type": "markdown",
   "id": "21a254f0",
   "metadata": {},
   "source": [
    "# Ethanol Prices"
   ]
  },
  {
   "cell_type": "code",
   "execution_count": 197,
   "id": "8ab18d84",
   "metadata": {},
   "outputs": [
    {
     "name": "stdout",
     "output_type": "stream",
     "text": [
      "+------+-----+-------------------+--------------------+-------+-----------+--------------+----------+\n",
      "|Region|State|               City|         Gas Station|Product|Sales Price|Purchase Price|Fuel Brand|\n",
      "+------+-----+-------------------+--------------------+-------+-----------+--------------+----------+\n",
      "|    SE|   SP|           SOROCABA|COMPETRO COMERCIO...|Ethanol|       3.78|          null|    BRANCA|\n",
      "|     N|   AC|    CRUZEIRO DO SUL|AMAZONIA COMERCIO...|Ethanol|       5.95|          null|  IPIRANGA|\n",
      "|     N|   AC|         RIO BRANCO|CODEPE COMBUSTIVE...|Ethanol|       5.29|          null|     VIBRA|\n",
      "|     N|   AC|         RIO BRANCO|AUTO POSTO CASTAN...|Ethanol|       5.49|          null|   EQUADOR|\n",
      "|     N|   AC|         RIO BRANCO|AUTO POSTO CIDADE...|Ethanol|       5.29|          null|     VIBRA|\n",
      "|     N|   AC|         RIO BRANCO|AUTO POSTO DISTRI...|Ethanol|       5.49|          null|     VIBRA|\n",
      "|     N|   AC|         RIO BRANCO|AUTO POSTO SANTO ...|Ethanol|       5.32|          null|     VIBRA|\n",
      "|    NE|   AL|          ARAPIRACA|AUTO POSTO M M GA...|Ethanol|       4.99|          null|     VIBRA|\n",
      "|    NE|   AL|          ARAPIRACA|AUTO POSTO MASSAR...|Ethanol|       4.98|          null|    BRANCA|\n",
      "|    NE|   AL|          ARAPIRACA|DISTRIBUIDORA DE ...|Ethanol|       5.09|          null|    RAIZEN|\n",
      "|    NE|   AL|          ARAPIRACA|IBN PINTO E SILVA...|Ethanol|       4.99|          null|    BRANCA|\n",
      "|    NE|   AL|    DELMIRO GOUVEIA|AUTO POSTO DA PED...|Ethanol|       5.12|          null|     VIBRA|\n",
      "|    NE|   AL|    DELMIRO GOUVEIA|COMERCIO DE COMBU...|Ethanol|       5.08|          null|    BRANCA|\n",
      "|    NE|   AL|PALMEIRA DOS INDIOS|SEVERINO S. LOPES...|Ethanol|       4.99|          null|     VIBRA|\n",
      "|    NE|   AL|PALMEIRA DOS INDIOS|A. B. LESSA NETO ...|Ethanol|       5.09|          null|     VIBRA|\n",
      "|    NE|   AL|          RIO LARGO|OLIVEIRA & FREITA...|Ethanol|       5.19|          null|  IPIRANGA|\n",
      "|    NE|   AL|          RIO LARGO|AUTO POSTO FORENE...|Ethanol|       4.79|          null|     VIBRA|\n",
      "|    NE|   AL|          RIO LARGO|AUTO POSTO PIONEI...|Ethanol|       4.89|          null|     VIBRA|\n",
      "|     N|   AP|             MACAPA|SEPE TIARAJU EMPR...|Ethanol|       5.33|          null|    BRANCA|\n",
      "|     N|   AP|             MACAPA|COMERCIAL GRAO DE...|Ethanol|       5.33|          null|    BRANCA|\n",
      "+------+-----+-------------------+--------------------+-------+-----------+--------------+----------+\n",
      "only showing top 20 rows\n",
      "\n"
     ]
    }
   ],
   "source": [
    "df_ethanol = df_fuels.filter(df_fuels[\"Product\"] == \"Ethanol\")\n",
    "df_ethanol.show()"
   ]
  },
  {
   "cell_type": "markdown",
   "id": "faf66093",
   "metadata": {},
   "source": [
    "### Ethanol Prices by Region"
   ]
  },
  {
   "cell_type": "code",
   "execution_count": 198,
   "id": "675082e8",
   "metadata": {},
   "outputs": [
    {
     "name": "stdout",
     "output_type": "stream",
     "text": [
      "+------+---------------------------+\n",
      "|Region|Average Ethanol Sales Price|\n",
      "+------+---------------------------+\n",
      "|     N|                       5.11|\n",
      "|    NE|                       4.91|\n",
      "|     S|                        4.7|\n",
      "|    SE|                        4.3|\n",
      "|    CO|                       4.28|\n",
      "+------+---------------------------+\n",
      "\n"
     ]
    }
   ],
   "source": [
    "df_ethanol.groupBy(\"Region\") \\\n",
    "    .agg(round(avg(\"Sales Price\"), 2).alias(\"Average Ethanol Sales Price\")) \\\n",
    "    .orderBy(\"Average Ethanol Sales Price\", ascending=False) \\\n",
    "    .show()"
   ]
  },
  {
   "cell_type": "markdown",
   "id": "2a5c3d71",
   "metadata": {},
   "source": [
    "### Ethanol Prices by State"
   ]
  },
  {
   "cell_type": "code",
   "execution_count": 199,
   "id": "0c2714dc",
   "metadata": {},
   "outputs": [],
   "source": [
    "ethanol_by_state = df_ethanol.groupBy(\"State\") \\\n",
    "    .agg(round(avg(\"Sales Price\"), 2).alias(\"Average Ethanol Sales Price\"))"
   ]
  },
  {
   "cell_type": "code",
   "execution_count": 200,
   "id": "7d691e98",
   "metadata": {},
   "outputs": [
    {
     "name": "stdout",
     "output_type": "stream",
     "text": [
      "+-----+---------------------------+\n",
      "|State|Average Ethanol Sales Price|\n",
      "+-----+---------------------------+\n",
      "|   AC|                       5.57|\n",
      "|   AM|                       5.48|\n",
      "|   AP|                       5.47|\n",
      "|   RO|                       5.25|\n",
      "|   CE|                       5.25|\n",
      "|   RR|                       5.16|\n",
      "|   MA|                       5.04|\n",
      "|   AL|                       4.98|\n",
      "|   RN|                       4.96|\n",
      "|   RS|                       4.94|\n",
      "+-----+---------------------------+\n",
      "only showing top 10 rows\n",
      "\n"
     ]
    }
   ],
   "source": [
    "ethanol_by_state.orderBy(\"Average Ethanol Sales Price\", ascending=False).show(10)"
   ]
  },
  {
   "cell_type": "code",
   "execution_count": 201,
   "id": "7e5e0b3d",
   "metadata": {},
   "outputs": [
    {
     "name": "stdout",
     "output_type": "stream",
     "text": [
      "+-----+---------------------------+\n",
      "|State|Average Ethanol Sales Price|\n",
      "+-----+---------------------------+\n",
      "|   MT|                       4.09|\n",
      "|   SP|                       4.16|\n",
      "|   MS|                        4.2|\n",
      "|   GO|                       4.32|\n",
      "|   MG|                       4.38|\n",
      "|   PR|                       4.53|\n",
      "|   ES|                       4.59|\n",
      "|   PB|                       4.62|\n",
      "|   RJ|                       4.69|\n",
      "|   DF|                       4.71|\n",
      "+-----+---------------------------+\n",
      "only showing top 10 rows\n",
      "\n"
     ]
    }
   ],
   "source": [
    "ethanol_by_state.orderBy(\"Average Ethanol Sales Price\", ascending=True).show(10)"
   ]
  },
  {
   "cell_type": "markdown",
   "id": "808469f1",
   "metadata": {},
   "source": [
    "### Ethanol Prices by City"
   ]
  },
  {
   "cell_type": "code",
   "execution_count": 202,
   "id": "0da43db2",
   "metadata": {},
   "outputs": [],
   "source": [
    "ethanol_by_city = df_ethanol.groupBy(\"City\", \"State\", \"Region\") \\\n",
    "    .agg(round(avg(\"Sales Price\"), 2).alias(\"Average Ethanol Sales Price\"))"
   ]
  },
  {
   "cell_type": "code",
   "execution_count": 203,
   "id": "05fb7d7e",
   "metadata": {},
   "outputs": [
    {
     "name": "stdout",
     "output_type": "stream",
     "text": [
      "+--------------------+-----+------+---------------------------+\n",
      "|                City|State|Region|Average Ethanol Sales Price|\n",
      "+--------------------+-----+------+---------------------------+\n",
      "|     CRUZEIRO DO SUL|   AC|     N|                       5.98|\n",
      "|             VILHENA|   RO|     N|                       5.74|\n",
      "|SANTANA DO LIVRAM...|   RS|     S|                       5.68|\n",
      "|            ALTAMIRA|   PA|     N|                       5.61|\n",
      "|           ITAPIPOCA|   CE|    NE|                        5.6|\n",
      "|                CODO|   MA|    NE|                       5.57|\n",
      "|              MANAUS|   AM|     N|                       5.49|\n",
      "|              MACAPA|   AP|     N|                       5.47|\n",
      "|             CRATEUS|   CE|    NE|                       5.47|\n",
      "|         PORTO VELHO|   RO|     N|                       5.46|\n",
      "+--------------------+-----+------+---------------------------+\n",
      "only showing top 10 rows\n",
      "\n"
     ]
    }
   ],
   "source": [
    "ethanol_by_city.orderBy(\"Average Ethanol Sales Price\", ascending=False).show(10)"
   ]
  },
  {
   "cell_type": "code",
   "execution_count": 204,
   "id": "b7c4aade",
   "metadata": {},
   "outputs": [
    {
     "name": "stdout",
     "output_type": "stream",
     "text": [
      "+--------------------+-----+------+---------------------------+\n",
      "|                City|State|Region|Average Ethanol Sales Price|\n",
      "+--------------------+-----+------+---------------------------+\n",
      "|                LINS|   SP|    SE|                       3.79|\n",
      "|           ARACATUBA|   SP|    SE|                       3.79|\n",
      "|SAO JOSE DO RIO P...|   SP|    SE|                       3.83|\n",
      "|             BIRIGUI|   SP|    SE|                       3.85|\n",
      "|            ANAPOLIS|   GO|    CO|                       3.87|\n",
      "|            GOIATUBA|   GO|    CO|                       3.93|\n",
      "|             MARILIA|   SP|    SE|                       3.94|\n",
      "|          UBERLANDIA|   MG|    SE|                       3.94|\n",
      "|              FRANCA|   SP|    SE|                       3.94|\n",
      "|          ADAMANTINA|   SP|    SE|                       3.96|\n",
      "+--------------------+-----+------+---------------------------+\n",
      "only showing top 10 rows\n",
      "\n"
     ]
    }
   ],
   "source": [
    "ethanol_by_city.orderBy(\"Average Ethanol Sales Price\", ascending=True).show(10)"
   ]
  },
  {
   "cell_type": "markdown",
   "id": "752f46eb",
   "metadata": {},
   "source": [
    "### Ethanol Prices by Brand"
   ]
  },
  {
   "cell_type": "code",
   "execution_count": 205,
   "id": "58965d7d",
   "metadata": {},
   "outputs": [],
   "source": [
    "ethanol_by_brand = df_fuels.filter(col(\"Product\") == \"Ethanol\") \\\n",
    "    .groupBy(\"Fuel Brand\") \\\n",
    "    .agg(round(avg(\"Sales Price\"), 2).alias(\"Average Ethanol Sales Price\"))"
   ]
  },
  {
   "cell_type": "code",
   "execution_count": 206,
   "id": "38dd309f",
   "metadata": {},
   "outputs": [
    {
     "name": "stdout",
     "output_type": "stream",
     "text": [
      "+-----------------+---------------------------+\n",
      "|       Fuel Brand|Average Ethanol Sales Price|\n",
      "+-----------------+---------------------------+\n",
      "|RZD DISTRIBUIDORA|                       5.49|\n",
      "|          ATEM' S|                       5.47|\n",
      "|          EQUADOR|                       5.35|\n",
      "|              FAN|                       5.22|\n",
      "|               SP|                       5.21|\n",
      "|            SABBÁ|                       5.02|\n",
      "|      RAIZEN MIME|                       4.99|\n",
      "|      SANTA LUCIA|                       4.99|\n",
      "|           DISLUB|                       4.96|\n",
      "|         ON PETRO|                       4.93|\n",
      "+-----------------+---------------------------+\n",
      "only showing top 10 rows\n",
      "\n"
     ]
    }
   ],
   "source": [
    "ethanol_by_brand.orderBy(\"Average Ethanol Sales Price\", ascending=False).show(10)"
   ]
  },
  {
   "cell_type": "code",
   "execution_count": 207,
   "id": "7029fb32",
   "metadata": {},
   "outputs": [
    {
     "name": "stdout",
     "output_type": "stream",
     "text": [
      "+----------------+---------------------------+\n",
      "|      Fuel Brand|Average Ethanol Sales Price|\n",
      "+----------------+---------------------------+\n",
      "|       ROYAL FIC|                       3.79|\n",
      "|          D`MAIS|                       4.03|\n",
      "|SIM DISTRIBUIDOR|                       4.04|\n",
      "|            WATT|                       4.16|\n",
      "|           IDAZA|                       4.25|\n",
      "|        CIAPETRO|                       4.27|\n",
      "|          TAURUS|                       4.31|\n",
      "|   TOTALENERGIES|                       4.37|\n",
      "|      PETROSERRA|                        4.4|\n",
      "|          BRANCA|                       4.41|\n",
      "+----------------+---------------------------+\n",
      "only showing top 10 rows\n",
      "\n"
     ]
    }
   ],
   "source": [
    "ethanol_by_brand.orderBy(\"Average Ethanol Sales Price\", ascending=True).show(10)"
   ]
  },
  {
   "cell_type": "markdown",
   "id": "ef6f50a7",
   "metadata": {},
   "source": [
    "### Ethanol Prices by Gas Station"
   ]
  },
  {
   "cell_type": "code",
   "execution_count": 208,
   "id": "311954e0",
   "metadata": {},
   "outputs": [
    {
     "name": "stdout",
     "output_type": "stream",
     "text": [
      "+------+-----+---------------+--------------------+----------------+-----------+--------------+----------+\n",
      "|Region|State|           City|         Gas Station|         Product|Sales Price|Purchase Price|Fuel Brand|\n",
      "+------+-----+---------------+--------------------+----------------+-----------+--------------+----------+\n",
      "|    SE|   SP|       SOROCABA|COMPETRO COMERCIO...|        Gasoline|       5.65|          null|    BRANCA|\n",
      "|    SE|   SP|       SOROCABA|COMPETRO COMERCIO...|         Ethanol|       3.78|          null|    BRANCA|\n",
      "|     N|   AC|CRUZEIRO DO SUL|AMAZONIA COMERCIO...|        Gasoline|       8.09|          null|  IPIRANGA|\n",
      "|     N|   AC|CRUZEIRO DO SUL|AMAZONIA COMERCIO...|Premium Gasoline|       8.19|          null|  IPIRANGA|\n",
      "|     N|   AC|CRUZEIRO DO SUL|AMAZONIA COMERCIO...|         Ethanol|       5.95|          null|  IPIRANGA|\n",
      "|     N|   AC|     RIO BRANCO|CODEPE COMBUSTIVE...|        Gasoline|       7.62|          null|     VIBRA|\n",
      "|     N|   AC|     RIO BRANCO|CODEPE COMBUSTIVE...|Premium Gasoline|       7.65|          null|     VIBRA|\n",
      "|     N|   AC|     RIO BRANCO|CODEPE COMBUSTIVE...|         Ethanol|       5.29|          null|     VIBRA|\n",
      "|     N|   AC|     RIO BRANCO|AUTO POSTO CASTAN...|        Gasoline|       7.64|          null|   EQUADOR|\n",
      "|     N|   AC|     RIO BRANCO|AUTO POSTO CASTAN...|Premium Gasoline|       7.69|          null|   EQUADOR|\n",
      "|     N|   AC|     RIO BRANCO|AUTO POSTO CASTAN...|         Ethanol|       5.49|          null|   EQUADOR|\n",
      "|     N|   AC|     RIO BRANCO|AUTO POSTO CIDADE...|        Gasoline|        7.6|          null|     VIBRA|\n",
      "|     N|   AC|     RIO BRANCO|AUTO POSTO CIDADE...|         Ethanol|       5.29|          null|     VIBRA|\n",
      "|     N|   AC|     RIO BRANCO|AUTO POSTO DISTRI...|        Gasoline|       7.64|          null|     VIBRA|\n",
      "|     N|   AC|     RIO BRANCO|AUTO POSTO DISTRI...|Premium Gasoline|       7.64|          null|     VIBRA|\n",
      "|     N|   AC|     RIO BRANCO|AUTO POSTO DISTRI...|         Ethanol|       5.49|          null|     VIBRA|\n",
      "|     N|   AC|     RIO BRANCO|AUTO POSTO SANTO ...|        Gasoline|       7.65|          null|     VIBRA|\n",
      "|     N|   AC|     RIO BRANCO|AUTO POSTO SANTO ...|Premium Gasoline|       7.73|          null|     VIBRA|\n",
      "|     N|   AC|     RIO BRANCO|AUTO POSTO SANTO ...|         Ethanol|       5.32|          null|     VIBRA|\n",
      "|    NE|   AL|      ARAPIRACA|AUTO POSTO M M GA...|        Gasoline|       6.26|          null|     VIBRA|\n",
      "+------+-----+---------------+--------------------+----------------+-----------+--------------+----------+\n",
      "only showing top 20 rows\n",
      "\n"
     ]
    }
   ],
   "source": [
    "df_fuels.show()"
   ]
  },
  {
   "cell_type": "code",
   "execution_count": 211,
   "id": "b6071d04",
   "metadata": {},
   "outputs": [],
   "source": [
    "ethanol_by_gas_station = df_fuels.filter(col(\"Product\") == \"Ethanol\") \\\n",
    "    .groupBy(\"Gas Station\", \"City\", \"State\", \"Region\") \\\n",
    "    .agg(round(avg(\"Sales Price\"), 2).alias(\"Average Ethanol Sales Price\"))"
   ]
  },
  {
   "cell_type": "code",
   "execution_count": 212,
   "id": "c34f4652",
   "metadata": {},
   "outputs": [
    {
     "name": "stdout",
     "output_type": "stream",
     "text": [
      "+--------------------+---------------+-----+------+---------------------------+\n",
      "|         Gas Station|           City|State|Region|Average Ethanol Sales Price|\n",
      "+--------------------+---------------+-----+------+---------------------------+\n",
      "|COMERCIAL ALTO SA...|  SERRA TALHADA|   PE|    NE|                       6.49|\n",
      "|SADI DALLACORTE E...|        CHAPECO|   SC|     S|                       6.36|\n",
      "|C M DERIVADOS DE ...|      FORTALEZA|   CE|    NE|                       6.09|\n",
      "| S & G PETROLEO LTDA|CRUZEIRO DO SUL|   AC|     N|                       6.08|\n",
      "|PG COMERCIO E TRA...|        VACARIA|   RS|     S|                       6.05|\n",
      "| SKY AUTO POSTO LTDA|      SAO PAULO|   SP|    SE|                       5.99|\n",
      "|AUTO POSTO DUQUE ...|      SAO PAULO|   SP|    SE|                       5.99|\n",
      "|MASTER POSTO COME...|         SOBRAL|   CE|    NE|                       5.99|\n",
      "|AUTO POSTO R&R AL...|        BARUERI|   SP|    SE|                       5.99|\n",
      "|AUTO POSTO CATARI...|        VILHENA|   RO|     N|                       5.99|\n",
      "+--------------------+---------------+-----+------+---------------------------+\n",
      "only showing top 10 rows\n",
      "\n"
     ]
    }
   ],
   "source": [
    "ethanol_by_gas_station.orderBy(\"Average Ethanol Sales Price\", ascending=False).show(10)"
   ]
  },
  {
   "cell_type": "code",
   "execution_count": 213,
   "id": "c62dc269",
   "metadata": {},
   "outputs": [
    {
     "name": "stdout",
     "output_type": "stream",
     "text": [
      "+--------------------+---------------+-----+------+---------------------------+\n",
      "|         Gas Station|           City|State|Region|Average Ethanol Sales Price|\n",
      "+--------------------+---------------+-----+------+---------------------------+\n",
      "|COMERCIAL ALTO SA...|  SERRA TALHADA|   PE|    NE|                       6.49|\n",
      "|SADI DALLACORTE E...|        CHAPECO|   SC|     S|                       6.36|\n",
      "|C M DERIVADOS DE ...|      FORTALEZA|   CE|    NE|                       6.09|\n",
      "| S & G PETROLEO LTDA|CRUZEIRO DO SUL|   AC|     N|                       6.08|\n",
      "|PG COMERCIO E TRA...|        VACARIA|   RS|     S|                       6.05|\n",
      "| SKY AUTO POSTO LTDA|      SAO PAULO|   SP|    SE|                       5.99|\n",
      "|AUTO POSTO DUQUE ...|      SAO PAULO|   SP|    SE|                       5.99|\n",
      "|MASTER POSTO COME...|         SOBRAL|   CE|    NE|                       5.99|\n",
      "|AUTO POSTO R&R AL...|        BARUERI|   SP|    SE|                       5.99|\n",
      "|AUTO POSTO CATARI...|        VILHENA|   RO|     N|                       5.99|\n",
      "+--------------------+---------------+-----+------+---------------------------+\n",
      "only showing top 10 rows\n",
      "\n"
     ]
    }
   ],
   "source": [
    "ethanol_by_gas_station.orderBy(\"Average Ethanol Sales Price\", ascending=False).show(10)"
   ]
  },
  {
   "cell_type": "code",
   "execution_count": null,
   "id": "a1caa90b",
   "metadata": {},
   "outputs": [],
   "source": []
  },
  {
   "cell_type": "code",
   "execution_count": null,
   "id": "35c7490b",
   "metadata": {},
   "outputs": [],
   "source": []
  },
  {
   "cell_type": "markdown",
   "id": "e7d87b13",
   "metadata": {},
   "source": [
    "# Gasoline Prices"
   ]
  },
  {
   "cell_type": "code",
   "execution_count": null,
   "id": "62eb368d",
   "metadata": {},
   "outputs": [
    {
     "name": "stdout",
     "output_type": "stream",
     "text": [
      "+------+-----+-------------------+--------------------+-------+-----------+--------------+----------+\n",
      "|Region|State|               City|         Gas Station|Product|Sales Price|Purchase Price|Fuel Brand|\n",
      "+------+-----+-------------------+--------------------+-------+-----------+--------------+----------+\n",
      "|    SE|   SP|           SOROCABA|COMPETRO COMERCIO...|Ethanol|       3.78|          null|    BRANCA|\n",
      "|     N|   AC|    CRUZEIRO DO SUL|AMAZONIA COMERCIO...|Ethanol|       5.95|          null|  IPIRANGA|\n",
      "|     N|   AC|         RIO BRANCO|CODEPE COMBUSTIVE...|Ethanol|       5.29|          null|     VIBRA|\n",
      "|     N|   AC|         RIO BRANCO|AUTO POSTO CASTAN...|Ethanol|       5.49|          null|   EQUADOR|\n",
      "|     N|   AC|         RIO BRANCO|AUTO POSTO CIDADE...|Ethanol|       5.29|          null|     VIBRA|\n",
      "|     N|   AC|         RIO BRANCO|AUTO POSTO DISTRI...|Ethanol|       5.49|          null|     VIBRA|\n",
      "|     N|   AC|         RIO BRANCO|AUTO POSTO SANTO ...|Ethanol|       5.32|          null|     VIBRA|\n",
      "|    NE|   AL|          ARAPIRACA|AUTO POSTO M M GA...|Ethanol|       4.99|          null|     VIBRA|\n",
      "|    NE|   AL|          ARAPIRACA|AUTO POSTO MASSAR...|Ethanol|       4.98|          null|    BRANCA|\n",
      "|    NE|   AL|          ARAPIRACA|DISTRIBUIDORA DE ...|Ethanol|       5.09|          null|    RAIZEN|\n",
      "|    NE|   AL|          ARAPIRACA|IBN PINTO E SILVA...|Ethanol|       4.99|          null|    BRANCA|\n",
      "|    NE|   AL|    DELMIRO GOUVEIA|AUTO POSTO DA PED...|Ethanol|       5.12|          null|     VIBRA|\n",
      "|    NE|   AL|    DELMIRO GOUVEIA|COMERCIO DE COMBU...|Ethanol|       5.08|          null|    BRANCA|\n",
      "|    NE|   AL|PALMEIRA DOS INDIOS|SEVERINO S. LOPES...|Ethanol|       4.99|          null|     VIBRA|\n",
      "|    NE|   AL|PALMEIRA DOS INDIOS|A. B. LESSA NETO ...|Ethanol|       5.09|          null|     VIBRA|\n",
      "|    NE|   AL|          RIO LARGO|OLIVEIRA & FREITA...|Ethanol|       5.19|          null|  IPIRANGA|\n",
      "|    NE|   AL|          RIO LARGO|AUTO POSTO FORENE...|Ethanol|       4.79|          null|     VIBRA|\n",
      "|    NE|   AL|          RIO LARGO|AUTO POSTO PIONEI...|Ethanol|       4.89|          null|     VIBRA|\n",
      "|     N|   AP|             MACAPA|SEPE TIARAJU EMPR...|Ethanol|       5.33|          null|    BRANCA|\n",
      "|     N|   AP|             MACAPA|COMERCIAL GRAO DE...|Ethanol|       5.33|          null|    BRANCA|\n",
      "+------+-----+-------------------+--------------------+-------+-----------+--------------+----------+\n",
      "only showing top 20 rows\n",
      "\n"
     ]
    }
   ],
   "source": [
    "df_gasoline = df_fuels.filter(df_fuels[\"Product\"] == \"Gasoline\")\n",
    "df_gasoline.show()"
   ]
  },
  {
   "cell_type": "markdown",
   "id": "04dc0718",
   "metadata": {},
   "source": [
    "### Ethanol Prices by Region"
   ]
  },
  {
   "cell_type": "code",
   "execution_count": null,
   "id": "c4af26ee",
   "metadata": {},
   "outputs": [
    {
     "name": "stdout",
     "output_type": "stream",
     "text": [
      "+------+---------------------------+\n",
      "|Region|Average Ethanol Sales Price|\n",
      "+------+---------------------------+\n",
      "|     N|                       5.11|\n",
      "|    NE|                       4.91|\n",
      "|     S|                        4.7|\n",
      "|    SE|                        4.3|\n",
      "|    CO|                       4.28|\n",
      "+------+---------------------------+\n",
      "\n"
     ]
    }
   ],
   "source": [
    "df_gasoline.groupBy(\"Region\") \\\n",
    "    .agg(round(avg(\"Sales Price\"), 2).alias(\"Average Gasoline Sales Price\")) \\\n",
    "    .orderBy(\"Average Gasoline Sales Price\", ascending=False) \\\n",
    "    .show()"
   ]
  },
  {
   "cell_type": "markdown",
   "id": "7f5909e8",
   "metadata": {},
   "source": [
    "### Gasoline Prices by State"
   ]
  },
  {
   "cell_type": "code",
   "execution_count": null,
   "id": "60d94437",
   "metadata": {},
   "outputs": [],
   "source": [
    "gasoline_by_state = df_gasoline.groupBy(\"State\") \\\n",
    "    .agg(round(avg(\"Sales Price\"), 2).alias(\"Average Gasoline Sales Price\"))"
   ]
  },
  {
   "cell_type": "code",
   "execution_count": null,
   "id": "66c797b0",
   "metadata": {},
   "outputs": [
    {
     "name": "stdout",
     "output_type": "stream",
     "text": [
      "+-----+---------------------------+\n",
      "|State|Average Ethanol Sales Price|\n",
      "+-----+---------------------------+\n",
      "|   AC|                       5.57|\n",
      "|   AM|                       5.48|\n",
      "|   AP|                       5.47|\n",
      "|   RO|                       5.25|\n",
      "|   CE|                       5.25|\n",
      "|   RR|                       5.16|\n",
      "|   MA|                       5.04|\n",
      "|   AL|                       4.98|\n",
      "|   RN|                       4.96|\n",
      "|   RS|                       4.94|\n",
      "+-----+---------------------------+\n",
      "only showing top 10 rows\n",
      "\n"
     ]
    }
   ],
   "source": [
    "gasoline_by_state.orderBy(\"Average Gasoline Sales Price\", ascending=False).show(10)"
   ]
  },
  {
   "cell_type": "code",
   "execution_count": null,
   "id": "cdecace8",
   "metadata": {},
   "outputs": [
    {
     "name": "stdout",
     "output_type": "stream",
     "text": [
      "+-----+---------------------------+\n",
      "|State|Average Ethanol Sales Price|\n",
      "+-----+---------------------------+\n",
      "|   MT|                       4.09|\n",
      "|   SP|                       4.16|\n",
      "|   MS|                        4.2|\n",
      "|   GO|                       4.32|\n",
      "|   MG|                       4.38|\n",
      "|   PR|                       4.53|\n",
      "|   ES|                       4.59|\n",
      "|   PB|                       4.62|\n",
      "|   RJ|                       4.69|\n",
      "|   DF|                       4.71|\n",
      "+-----+---------------------------+\n",
      "only showing top 10 rows\n",
      "\n"
     ]
    }
   ],
   "source": [
    "gasoline_by_state.orderBy(\"Average Gasoline Sales Price\", ascending=True).show(10)"
   ]
  },
  {
   "cell_type": "markdown",
   "id": "30495494",
   "metadata": {},
   "source": [
    "### Gasoline Prices by City"
   ]
  },
  {
   "cell_type": "code",
   "execution_count": null,
   "id": "b87cb489",
   "metadata": {},
   "outputs": [],
   "source": [
    "gasoline_by_city = df_gasoline.groupBy(\"City\", \"State\", \"Region\") \\\n",
    "    .agg(round(avg(\"Sales Price\"), 2).alias(\"Average Gasoline Sales Price\"))"
   ]
  },
  {
   "cell_type": "code",
   "execution_count": null,
   "id": "61b1fa1e",
   "metadata": {},
   "outputs": [
    {
     "name": "stdout",
     "output_type": "stream",
     "text": [
      "+--------------------+-----+------+---------------------------+\n",
      "|                City|State|Region|Average Ethanol Sales Price|\n",
      "+--------------------+-----+------+---------------------------+\n",
      "|     CRUZEIRO DO SUL|   AC|     N|                       5.98|\n",
      "|             VILHENA|   RO|     N|                       5.74|\n",
      "|SANTANA DO LIVRAM...|   RS|     S|                       5.68|\n",
      "|            ALTAMIRA|   PA|     N|                       5.61|\n",
      "|           ITAPIPOCA|   CE|    NE|                        5.6|\n",
      "|                CODO|   MA|    NE|                       5.57|\n",
      "|              MANAUS|   AM|     N|                       5.49|\n",
      "|              MACAPA|   AP|     N|                       5.47|\n",
      "|             CRATEUS|   CE|    NE|                       5.47|\n",
      "|         PORTO VELHO|   RO|     N|                       5.46|\n",
      "+--------------------+-----+------+---------------------------+\n",
      "only showing top 10 rows\n",
      "\n"
     ]
    }
   ],
   "source": [
    "gasoline_by_city.orderBy(\"Average Gasoline Sales Price\", ascending=False).show(10)"
   ]
  },
  {
   "cell_type": "code",
   "execution_count": null,
   "id": "3650bf66",
   "metadata": {},
   "outputs": [
    {
     "name": "stdout",
     "output_type": "stream",
     "text": [
      "+--------------------+-----+------+---------------------------+\n",
      "|                City|State|Region|Average Ethanol Sales Price|\n",
      "+--------------------+-----+------+---------------------------+\n",
      "|                LINS|   SP|    SE|                       3.79|\n",
      "|           ARACATUBA|   SP|    SE|                       3.79|\n",
      "|SAO JOSE DO RIO P...|   SP|    SE|                       3.83|\n",
      "|             BIRIGUI|   SP|    SE|                       3.85|\n",
      "|            ANAPOLIS|   GO|    CO|                       3.87|\n",
      "|            GOIATUBA|   GO|    CO|                       3.93|\n",
      "|             MARILIA|   SP|    SE|                       3.94|\n",
      "|          UBERLANDIA|   MG|    SE|                       3.94|\n",
      "|              FRANCA|   SP|    SE|                       3.94|\n",
      "|          ADAMANTINA|   SP|    SE|                       3.96|\n",
      "+--------------------+-----+------+---------------------------+\n",
      "only showing top 10 rows\n",
      "\n"
     ]
    }
   ],
   "source": [
    "gasoline_by_city.orderBy(\"Average Gasoline Sales Price\", ascending=True).show(10)"
   ]
  },
  {
   "cell_type": "markdown",
   "id": "4934b79d",
   "metadata": {},
   "source": [
    "### Gasoline Prices by Brand"
   ]
  },
  {
   "cell_type": "code",
   "execution_count": null,
   "id": "65abf4c5",
   "metadata": {},
   "outputs": [],
   "source": [
    "gasoline_by_brand = df_fuels.filter(col(\"Product\") == \"Gasoline\") \\\n",
    "    .groupBy(\"Fuel Brand\") \\\n",
    "    .agg(round(avg(\"Sales Price\"), 2).alias(\"Average Gasoline Sales Price\"))"
   ]
  },
  {
   "cell_type": "code",
   "execution_count": null,
   "id": "fcdbcbd1",
   "metadata": {},
   "outputs": [
    {
     "name": "stdout",
     "output_type": "stream",
     "text": [
      "+-----------------+---------------------------+\n",
      "|       Fuel Brand|Average Ethanol Sales Price|\n",
      "+-----------------+---------------------------+\n",
      "|RZD DISTRIBUIDORA|                       5.49|\n",
      "|          ATEM' S|                       5.47|\n",
      "|          EQUADOR|                       5.35|\n",
      "|              FAN|                       5.22|\n",
      "|               SP|                       5.21|\n",
      "|            SABBÁ|                       5.02|\n",
      "|      RAIZEN MIME|                       4.99|\n",
      "|      SANTA LUCIA|                       4.99|\n",
      "|           DISLUB|                       4.96|\n",
      "|         ON PETRO|                       4.93|\n",
      "+-----------------+---------------------------+\n",
      "only showing top 10 rows\n",
      "\n"
     ]
    }
   ],
   "source": [
    "ethanol_by_brand.orderBy(\"Average Ethanol Sales Price\", ascending=False).show(10)"
   ]
  },
  {
   "cell_type": "code",
   "execution_count": null,
   "id": "cb5c764e",
   "metadata": {},
   "outputs": [
    {
     "name": "stdout",
     "output_type": "stream",
     "text": [
      "+----------------+---------------------------+\n",
      "|      Fuel Brand|Average Ethanol Sales Price|\n",
      "+----------------+---------------------------+\n",
      "|       ROYAL FIC|                       3.79|\n",
      "|          D`MAIS|                       4.03|\n",
      "|SIM DISTRIBUIDOR|                       4.04|\n",
      "|            WATT|                       4.16|\n",
      "|           IDAZA|                       4.25|\n",
      "|        CIAPETRO|                       4.27|\n",
      "|          TAURUS|                       4.31|\n",
      "|   TOTALENERGIES|                       4.37|\n",
      "|      PETROSERRA|                        4.4|\n",
      "|          BRANCA|                       4.41|\n",
      "+----------------+---------------------------+\n",
      "only showing top 10 rows\n",
      "\n"
     ]
    }
   ],
   "source": [
    "ethanol_by_brand.orderBy(\"Average Ethanol Sales Price\", ascending=True).show(10)"
   ]
  },
  {
   "cell_type": "markdown",
   "id": "305e4d88",
   "metadata": {},
   "source": [
    "### Ethanol Prices by Gas Station"
   ]
  },
  {
   "cell_type": "code",
   "execution_count": null,
   "id": "fffa8682",
   "metadata": {},
   "outputs": [
    {
     "name": "stdout",
     "output_type": "stream",
     "text": [
      "+------+-----+---------------+--------------------+----------------+-----------+--------------+----------+\n",
      "|Region|State|           City|         Gas Station|         Product|Sales Price|Purchase Price|Fuel Brand|\n",
      "+------+-----+---------------+--------------------+----------------+-----------+--------------+----------+\n",
      "|    SE|   SP|       SOROCABA|COMPETRO COMERCIO...|        Gasoline|       5.65|          null|    BRANCA|\n",
      "|    SE|   SP|       SOROCABA|COMPETRO COMERCIO...|         Ethanol|       3.78|          null|    BRANCA|\n",
      "|     N|   AC|CRUZEIRO DO SUL|AMAZONIA COMERCIO...|        Gasoline|       8.09|          null|  IPIRANGA|\n",
      "|     N|   AC|CRUZEIRO DO SUL|AMAZONIA COMERCIO...|Premium Gasoline|       8.19|          null|  IPIRANGA|\n",
      "|     N|   AC|CRUZEIRO DO SUL|AMAZONIA COMERCIO...|         Ethanol|       5.95|          null|  IPIRANGA|\n",
      "|     N|   AC|     RIO BRANCO|CODEPE COMBUSTIVE...|        Gasoline|       7.62|          null|     VIBRA|\n",
      "|     N|   AC|     RIO BRANCO|CODEPE COMBUSTIVE...|Premium Gasoline|       7.65|          null|     VIBRA|\n",
      "|     N|   AC|     RIO BRANCO|CODEPE COMBUSTIVE...|         Ethanol|       5.29|          null|     VIBRA|\n",
      "|     N|   AC|     RIO BRANCO|AUTO POSTO CASTAN...|        Gasoline|       7.64|          null|   EQUADOR|\n",
      "|     N|   AC|     RIO BRANCO|AUTO POSTO CASTAN...|Premium Gasoline|       7.69|          null|   EQUADOR|\n",
      "|     N|   AC|     RIO BRANCO|AUTO POSTO CASTAN...|         Ethanol|       5.49|          null|   EQUADOR|\n",
      "|     N|   AC|     RIO BRANCO|AUTO POSTO CIDADE...|        Gasoline|        7.6|          null|     VIBRA|\n",
      "|     N|   AC|     RIO BRANCO|AUTO POSTO CIDADE...|         Ethanol|       5.29|          null|     VIBRA|\n",
      "|     N|   AC|     RIO BRANCO|AUTO POSTO DISTRI...|        Gasoline|       7.64|          null|     VIBRA|\n",
      "|     N|   AC|     RIO BRANCO|AUTO POSTO DISTRI...|Premium Gasoline|       7.64|          null|     VIBRA|\n",
      "|     N|   AC|     RIO BRANCO|AUTO POSTO DISTRI...|         Ethanol|       5.49|          null|     VIBRA|\n",
      "|     N|   AC|     RIO BRANCO|AUTO POSTO SANTO ...|        Gasoline|       7.65|          null|     VIBRA|\n",
      "|     N|   AC|     RIO BRANCO|AUTO POSTO SANTO ...|Premium Gasoline|       7.73|          null|     VIBRA|\n",
      "|     N|   AC|     RIO BRANCO|AUTO POSTO SANTO ...|         Ethanol|       5.32|          null|     VIBRA|\n",
      "|    NE|   AL|      ARAPIRACA|AUTO POSTO M M GA...|        Gasoline|       6.26|          null|     VIBRA|\n",
      "+------+-----+---------------+--------------------+----------------+-----------+--------------+----------+\n",
      "only showing top 20 rows\n",
      "\n"
     ]
    }
   ],
   "source": [
    "df_fuels.show()"
   ]
  },
  {
   "cell_type": "code",
   "execution_count": null,
   "id": "614e7abf",
   "metadata": {},
   "outputs": [],
   "source": [
    "ethanol_by_gas_station = df_fuels.filter(col(\"Product\") == \"Ethanol\") \\\n",
    "    .groupBy(\"Gas Station\", \"City\", \"State\", \"Region\") \\\n",
    "    .agg(round(avg(\"Sales Price\"), 2).alias(\"Average Ethanol Sales Price\"))"
   ]
  },
  {
   "cell_type": "code",
   "execution_count": null,
   "id": "3f6396da",
   "metadata": {},
   "outputs": [
    {
     "name": "stdout",
     "output_type": "stream",
     "text": [
      "+--------------------+---------------+-----+------+---------------------------+\n",
      "|         Gas Station|           City|State|Region|Average Ethanol Sales Price|\n",
      "+--------------------+---------------+-----+------+---------------------------+\n",
      "|COMERCIAL ALTO SA...|  SERRA TALHADA|   PE|    NE|                       6.49|\n",
      "|SADI DALLACORTE E...|        CHAPECO|   SC|     S|                       6.36|\n",
      "|C M DERIVADOS DE ...|      FORTALEZA|   CE|    NE|                       6.09|\n",
      "| S & G PETROLEO LTDA|CRUZEIRO DO SUL|   AC|     N|                       6.08|\n",
      "|PG COMERCIO E TRA...|        VACARIA|   RS|     S|                       6.05|\n",
      "| SKY AUTO POSTO LTDA|      SAO PAULO|   SP|    SE|                       5.99|\n",
      "|AUTO POSTO DUQUE ...|      SAO PAULO|   SP|    SE|                       5.99|\n",
      "|MASTER POSTO COME...|         SOBRAL|   CE|    NE|                       5.99|\n",
      "|AUTO POSTO R&R AL...|        BARUERI|   SP|    SE|                       5.99|\n",
      "|AUTO POSTO CATARI...|        VILHENA|   RO|     N|                       5.99|\n",
      "+--------------------+---------------+-----+------+---------------------------+\n",
      "only showing top 10 rows\n",
      "\n"
     ]
    }
   ],
   "source": [
    "ethanol_by_gas_station.orderBy(\"Average Ethanol Sales Price\", ascending=False).show(10)"
   ]
  },
  {
   "cell_type": "code",
   "execution_count": null,
   "id": "9bc19386",
   "metadata": {},
   "outputs": [
    {
     "name": "stdout",
     "output_type": "stream",
     "text": [
      "+--------------------+---------------+-----+------+---------------------------+\n",
      "|         Gas Station|           City|State|Region|Average Ethanol Sales Price|\n",
      "+--------------------+---------------+-----+------+---------------------------+\n",
      "|COMERCIAL ALTO SA...|  SERRA TALHADA|   PE|    NE|                       6.49|\n",
      "|SADI DALLACORTE E...|        CHAPECO|   SC|     S|                       6.36|\n",
      "|C M DERIVADOS DE ...|      FORTALEZA|   CE|    NE|                       6.09|\n",
      "| S & G PETROLEO LTDA|CRUZEIRO DO SUL|   AC|     N|                       6.08|\n",
      "|PG COMERCIO E TRA...|        VACARIA|   RS|     S|                       6.05|\n",
      "| SKY AUTO POSTO LTDA|      SAO PAULO|   SP|    SE|                       5.99|\n",
      "|AUTO POSTO DUQUE ...|      SAO PAULO|   SP|    SE|                       5.99|\n",
      "|MASTER POSTO COME...|         SOBRAL|   CE|    NE|                       5.99|\n",
      "|AUTO POSTO R&R AL...|        BARUERI|   SP|    SE|                       5.99|\n",
      "|AUTO POSTO CATARI...|        VILHENA|   RO|     N|                       5.99|\n",
      "+--------------------+---------------+-----+------+---------------------------+\n",
      "only showing top 10 rows\n",
      "\n"
     ]
    }
   ],
   "source": [
    "ethanol_by_gas_station.orderBy(\"Average Ethanol Sales Price\", ascending=False).show(10)"
   ]
  },
  {
   "cell_type": "code",
   "execution_count": null,
   "id": "9ac5e809",
   "metadata": {},
   "outputs": [],
   "source": []
  },
  {
   "cell_type": "markdown",
   "id": "7602734a",
   "metadata": {},
   "source": [
    "# Premium Gasoline Prices"
   ]
  },
  {
   "cell_type": "code",
   "execution_count": null,
   "id": "bfd109cc",
   "metadata": {},
   "outputs": [
    {
     "name": "stdout",
     "output_type": "stream",
     "text": [
      "+------+-----+-------------------+--------------------+-------+-----------+--------------+----------+\n",
      "|Region|State|               City|         Gas Station|Product|Sales Price|Purchase Price|Fuel Brand|\n",
      "+------+-----+-------------------+--------------------+-------+-----------+--------------+----------+\n",
      "|    SE|   SP|           SOROCABA|COMPETRO COMERCIO...|Ethanol|       3.78|          null|    BRANCA|\n",
      "|     N|   AC|    CRUZEIRO DO SUL|AMAZONIA COMERCIO...|Ethanol|       5.95|          null|  IPIRANGA|\n",
      "|     N|   AC|         RIO BRANCO|CODEPE COMBUSTIVE...|Ethanol|       5.29|          null|     VIBRA|\n",
      "|     N|   AC|         RIO BRANCO|AUTO POSTO CASTAN...|Ethanol|       5.49|          null|   EQUADOR|\n",
      "|     N|   AC|         RIO BRANCO|AUTO POSTO CIDADE...|Ethanol|       5.29|          null|     VIBRA|\n",
      "|     N|   AC|         RIO BRANCO|AUTO POSTO DISTRI...|Ethanol|       5.49|          null|     VIBRA|\n",
      "|     N|   AC|         RIO BRANCO|AUTO POSTO SANTO ...|Ethanol|       5.32|          null|     VIBRA|\n",
      "|    NE|   AL|          ARAPIRACA|AUTO POSTO M M GA...|Ethanol|       4.99|          null|     VIBRA|\n",
      "|    NE|   AL|          ARAPIRACA|AUTO POSTO MASSAR...|Ethanol|       4.98|          null|    BRANCA|\n",
      "|    NE|   AL|          ARAPIRACA|DISTRIBUIDORA DE ...|Ethanol|       5.09|          null|    RAIZEN|\n",
      "|    NE|   AL|          ARAPIRACA|IBN PINTO E SILVA...|Ethanol|       4.99|          null|    BRANCA|\n",
      "|    NE|   AL|    DELMIRO GOUVEIA|AUTO POSTO DA PED...|Ethanol|       5.12|          null|     VIBRA|\n",
      "|    NE|   AL|    DELMIRO GOUVEIA|COMERCIO DE COMBU...|Ethanol|       5.08|          null|    BRANCA|\n",
      "|    NE|   AL|PALMEIRA DOS INDIOS|SEVERINO S. LOPES...|Ethanol|       4.99|          null|     VIBRA|\n",
      "|    NE|   AL|PALMEIRA DOS INDIOS|A. B. LESSA NETO ...|Ethanol|       5.09|          null|     VIBRA|\n",
      "|    NE|   AL|          RIO LARGO|OLIVEIRA & FREITA...|Ethanol|       5.19|          null|  IPIRANGA|\n",
      "|    NE|   AL|          RIO LARGO|AUTO POSTO FORENE...|Ethanol|       4.79|          null|     VIBRA|\n",
      "|    NE|   AL|          RIO LARGO|AUTO POSTO PIONEI...|Ethanol|       4.89|          null|     VIBRA|\n",
      "|     N|   AP|             MACAPA|SEPE TIARAJU EMPR...|Ethanol|       5.33|          null|    BRANCA|\n",
      "|     N|   AP|             MACAPA|COMERCIAL GRAO DE...|Ethanol|       5.33|          null|    BRANCA|\n",
      "+------+-----+-------------------+--------------------+-------+-----------+--------------+----------+\n",
      "only showing top 20 rows\n",
      "\n"
     ]
    }
   ],
   "source": [
    "df_ethanol = df_fuels.filter(df_fuels[\"Product\"] == \"Ethanol\")\n",
    "df_ethanol.show()"
   ]
  },
  {
   "cell_type": "markdown",
   "id": "9f1b8d5f",
   "metadata": {},
   "source": [
    "### Ethanol Prices by Region"
   ]
  },
  {
   "cell_type": "code",
   "execution_count": null,
   "id": "f92d8fca",
   "metadata": {},
   "outputs": [
    {
     "name": "stdout",
     "output_type": "stream",
     "text": [
      "+------+---------------------------+\n",
      "|Region|Average Ethanol Sales Price|\n",
      "+------+---------------------------+\n",
      "|     N|                       5.11|\n",
      "|    NE|                       4.91|\n",
      "|     S|                        4.7|\n",
      "|    SE|                        4.3|\n",
      "|    CO|                       4.28|\n",
      "+------+---------------------------+\n",
      "\n"
     ]
    }
   ],
   "source": [
    "df_ethanol.groupBy(\"Region\") \\\n",
    "    .agg(round(avg(\"Sales Price\"), 2).alias(\"Average Ethanol Sales Price\")) \\\n",
    "    .orderBy(\"Average Ethanol Sales Price\", ascending=False) \\\n",
    "    .show()"
   ]
  },
  {
   "cell_type": "markdown",
   "id": "3e7c8187",
   "metadata": {},
   "source": [
    "### Ethanol Prices by State"
   ]
  },
  {
   "cell_type": "code",
   "execution_count": null,
   "id": "0a93d9f9",
   "metadata": {},
   "outputs": [],
   "source": [
    "ethanol_by_state = df_ethanol.groupBy(\"State\") \\\n",
    "    .agg(round(avg(\"Sales Price\"), 2).alias(\"Average Ethanol Sales Price\"))"
   ]
  },
  {
   "cell_type": "code",
   "execution_count": null,
   "id": "f77ce9e2",
   "metadata": {},
   "outputs": [
    {
     "name": "stdout",
     "output_type": "stream",
     "text": [
      "+-----+---------------------------+\n",
      "|State|Average Ethanol Sales Price|\n",
      "+-----+---------------------------+\n",
      "|   AC|                       5.57|\n",
      "|   AM|                       5.48|\n",
      "|   AP|                       5.47|\n",
      "|   RO|                       5.25|\n",
      "|   CE|                       5.25|\n",
      "|   RR|                       5.16|\n",
      "|   MA|                       5.04|\n",
      "|   AL|                       4.98|\n",
      "|   RN|                       4.96|\n",
      "|   RS|                       4.94|\n",
      "+-----+---------------------------+\n",
      "only showing top 10 rows\n",
      "\n"
     ]
    }
   ],
   "source": [
    "ethanol_by_state.orderBy(\"Average Ethanol Sales Price\", ascending=False).show(10)"
   ]
  },
  {
   "cell_type": "code",
   "execution_count": null,
   "id": "d8a0b2a3",
   "metadata": {},
   "outputs": [
    {
     "name": "stdout",
     "output_type": "stream",
     "text": [
      "+-----+---------------------------+\n",
      "|State|Average Ethanol Sales Price|\n",
      "+-----+---------------------------+\n",
      "|   MT|                       4.09|\n",
      "|   SP|                       4.16|\n",
      "|   MS|                        4.2|\n",
      "|   GO|                       4.32|\n",
      "|   MG|                       4.38|\n",
      "|   PR|                       4.53|\n",
      "|   ES|                       4.59|\n",
      "|   PB|                       4.62|\n",
      "|   RJ|                       4.69|\n",
      "|   DF|                       4.71|\n",
      "+-----+---------------------------+\n",
      "only showing top 10 rows\n",
      "\n"
     ]
    }
   ],
   "source": [
    "ethanol_by_state.orderBy(\"Average Ethanol Sales Price\", ascending=True).show(10)"
   ]
  },
  {
   "cell_type": "markdown",
   "id": "95ec3b1b",
   "metadata": {},
   "source": [
    "### Ethanol Prices by City"
   ]
  },
  {
   "cell_type": "code",
   "execution_count": null,
   "id": "abf34952",
   "metadata": {},
   "outputs": [],
   "source": [
    "ethanol_by_city = df_ethanol.groupBy(\"City\", \"State\", \"Region\") \\\n",
    "    .agg(round(avg(\"Sales Price\"), 2).alias(\"Average Ethanol Sales Price\"))"
   ]
  },
  {
   "cell_type": "code",
   "execution_count": null,
   "id": "8e193a11",
   "metadata": {},
   "outputs": [
    {
     "name": "stdout",
     "output_type": "stream",
     "text": [
      "+--------------------+-----+------+---------------------------+\n",
      "|                City|State|Region|Average Ethanol Sales Price|\n",
      "+--------------------+-----+------+---------------------------+\n",
      "|     CRUZEIRO DO SUL|   AC|     N|                       5.98|\n",
      "|             VILHENA|   RO|     N|                       5.74|\n",
      "|SANTANA DO LIVRAM...|   RS|     S|                       5.68|\n",
      "|            ALTAMIRA|   PA|     N|                       5.61|\n",
      "|           ITAPIPOCA|   CE|    NE|                        5.6|\n",
      "|                CODO|   MA|    NE|                       5.57|\n",
      "|              MANAUS|   AM|     N|                       5.49|\n",
      "|              MACAPA|   AP|     N|                       5.47|\n",
      "|             CRATEUS|   CE|    NE|                       5.47|\n",
      "|         PORTO VELHO|   RO|     N|                       5.46|\n",
      "+--------------------+-----+------+---------------------------+\n",
      "only showing top 10 rows\n",
      "\n"
     ]
    }
   ],
   "source": [
    "ethanol_by_city.orderBy(\"Average Ethanol Sales Price\", ascending=False).show(10)"
   ]
  },
  {
   "cell_type": "code",
   "execution_count": null,
   "id": "34f0136c",
   "metadata": {},
   "outputs": [
    {
     "name": "stdout",
     "output_type": "stream",
     "text": [
      "+--------------------+-----+------+---------------------------+\n",
      "|                City|State|Region|Average Ethanol Sales Price|\n",
      "+--------------------+-----+------+---------------------------+\n",
      "|                LINS|   SP|    SE|                       3.79|\n",
      "|           ARACATUBA|   SP|    SE|                       3.79|\n",
      "|SAO JOSE DO RIO P...|   SP|    SE|                       3.83|\n",
      "|             BIRIGUI|   SP|    SE|                       3.85|\n",
      "|            ANAPOLIS|   GO|    CO|                       3.87|\n",
      "|            GOIATUBA|   GO|    CO|                       3.93|\n",
      "|             MARILIA|   SP|    SE|                       3.94|\n",
      "|          UBERLANDIA|   MG|    SE|                       3.94|\n",
      "|              FRANCA|   SP|    SE|                       3.94|\n",
      "|          ADAMANTINA|   SP|    SE|                       3.96|\n",
      "+--------------------+-----+------+---------------------------+\n",
      "only showing top 10 rows\n",
      "\n"
     ]
    }
   ],
   "source": [
    "ethanol_by_city.orderBy(\"Average Ethanol Sales Price\", ascending=True).show(10)"
   ]
  },
  {
   "cell_type": "markdown",
   "id": "6045f982",
   "metadata": {},
   "source": [
    "### Ethanol Prices by Brand"
   ]
  },
  {
   "cell_type": "code",
   "execution_count": null,
   "id": "11da47dd",
   "metadata": {},
   "outputs": [],
   "source": [
    "ethanol_by_brand = df_fuels.filter(col(\"Product\") == \"Ethanol\") \\\n",
    "    .groupBy(\"Fuel Brand\") \\\n",
    "    .agg(round(avg(\"Sales Price\"), 2).alias(\"Average Ethanol Sales Price\"))"
   ]
  },
  {
   "cell_type": "code",
   "execution_count": null,
   "id": "e8c55376",
   "metadata": {},
   "outputs": [
    {
     "name": "stdout",
     "output_type": "stream",
     "text": [
      "+-----------------+---------------------------+\n",
      "|       Fuel Brand|Average Ethanol Sales Price|\n",
      "+-----------------+---------------------------+\n",
      "|RZD DISTRIBUIDORA|                       5.49|\n",
      "|          ATEM' S|                       5.47|\n",
      "|          EQUADOR|                       5.35|\n",
      "|              FAN|                       5.22|\n",
      "|               SP|                       5.21|\n",
      "|            SABBÁ|                       5.02|\n",
      "|      RAIZEN MIME|                       4.99|\n",
      "|      SANTA LUCIA|                       4.99|\n",
      "|           DISLUB|                       4.96|\n",
      "|         ON PETRO|                       4.93|\n",
      "+-----------------+---------------------------+\n",
      "only showing top 10 rows\n",
      "\n"
     ]
    }
   ],
   "source": [
    "ethanol_by_brand.orderBy(\"Average Ethanol Sales Price\", ascending=False).show(10)"
   ]
  },
  {
   "cell_type": "code",
   "execution_count": null,
   "id": "d671dc67",
   "metadata": {},
   "outputs": [
    {
     "name": "stdout",
     "output_type": "stream",
     "text": [
      "+----------------+---------------------------+\n",
      "|      Fuel Brand|Average Ethanol Sales Price|\n",
      "+----------------+---------------------------+\n",
      "|       ROYAL FIC|                       3.79|\n",
      "|          D`MAIS|                       4.03|\n",
      "|SIM DISTRIBUIDOR|                       4.04|\n",
      "|            WATT|                       4.16|\n",
      "|           IDAZA|                       4.25|\n",
      "|        CIAPETRO|                       4.27|\n",
      "|          TAURUS|                       4.31|\n",
      "|   TOTALENERGIES|                       4.37|\n",
      "|      PETROSERRA|                        4.4|\n",
      "|          BRANCA|                       4.41|\n",
      "+----------------+---------------------------+\n",
      "only showing top 10 rows\n",
      "\n"
     ]
    }
   ],
   "source": [
    "ethanol_by_brand.orderBy(\"Average Ethanol Sales Price\", ascending=True).show(10)"
   ]
  },
  {
   "cell_type": "markdown",
   "id": "06748cfa",
   "metadata": {},
   "source": [
    "### Ethanol Prices by Gas Station"
   ]
  },
  {
   "cell_type": "code",
   "execution_count": null,
   "id": "5067a1b7",
   "metadata": {},
   "outputs": [
    {
     "name": "stdout",
     "output_type": "stream",
     "text": [
      "+------+-----+---------------+--------------------+----------------+-----------+--------------+----------+\n",
      "|Region|State|           City|         Gas Station|         Product|Sales Price|Purchase Price|Fuel Brand|\n",
      "+------+-----+---------------+--------------------+----------------+-----------+--------------+----------+\n",
      "|    SE|   SP|       SOROCABA|COMPETRO COMERCIO...|        Gasoline|       5.65|          null|    BRANCA|\n",
      "|    SE|   SP|       SOROCABA|COMPETRO COMERCIO...|         Ethanol|       3.78|          null|    BRANCA|\n",
      "|     N|   AC|CRUZEIRO DO SUL|AMAZONIA COMERCIO...|        Gasoline|       8.09|          null|  IPIRANGA|\n",
      "|     N|   AC|CRUZEIRO DO SUL|AMAZONIA COMERCIO...|Premium Gasoline|       8.19|          null|  IPIRANGA|\n",
      "|     N|   AC|CRUZEIRO DO SUL|AMAZONIA COMERCIO...|         Ethanol|       5.95|          null|  IPIRANGA|\n",
      "|     N|   AC|     RIO BRANCO|CODEPE COMBUSTIVE...|        Gasoline|       7.62|          null|     VIBRA|\n",
      "|     N|   AC|     RIO BRANCO|CODEPE COMBUSTIVE...|Premium Gasoline|       7.65|          null|     VIBRA|\n",
      "|     N|   AC|     RIO BRANCO|CODEPE COMBUSTIVE...|         Ethanol|       5.29|          null|     VIBRA|\n",
      "|     N|   AC|     RIO BRANCO|AUTO POSTO CASTAN...|        Gasoline|       7.64|          null|   EQUADOR|\n",
      "|     N|   AC|     RIO BRANCO|AUTO POSTO CASTAN...|Premium Gasoline|       7.69|          null|   EQUADOR|\n",
      "|     N|   AC|     RIO BRANCO|AUTO POSTO CASTAN...|         Ethanol|       5.49|          null|   EQUADOR|\n",
      "|     N|   AC|     RIO BRANCO|AUTO POSTO CIDADE...|        Gasoline|        7.6|          null|     VIBRA|\n",
      "|     N|   AC|     RIO BRANCO|AUTO POSTO CIDADE...|         Ethanol|       5.29|          null|     VIBRA|\n",
      "|     N|   AC|     RIO BRANCO|AUTO POSTO DISTRI...|        Gasoline|       7.64|          null|     VIBRA|\n",
      "|     N|   AC|     RIO BRANCO|AUTO POSTO DISTRI...|Premium Gasoline|       7.64|          null|     VIBRA|\n",
      "|     N|   AC|     RIO BRANCO|AUTO POSTO DISTRI...|         Ethanol|       5.49|          null|     VIBRA|\n",
      "|     N|   AC|     RIO BRANCO|AUTO POSTO SANTO ...|        Gasoline|       7.65|          null|     VIBRA|\n",
      "|     N|   AC|     RIO BRANCO|AUTO POSTO SANTO ...|Premium Gasoline|       7.73|          null|     VIBRA|\n",
      "|     N|   AC|     RIO BRANCO|AUTO POSTO SANTO ...|         Ethanol|       5.32|          null|     VIBRA|\n",
      "|    NE|   AL|      ARAPIRACA|AUTO POSTO M M GA...|        Gasoline|       6.26|          null|     VIBRA|\n",
      "+------+-----+---------------+--------------------+----------------+-----------+--------------+----------+\n",
      "only showing top 20 rows\n",
      "\n"
     ]
    }
   ],
   "source": [
    "df_fuels.show()"
   ]
  },
  {
   "cell_type": "code",
   "execution_count": null,
   "id": "afe5b556",
   "metadata": {},
   "outputs": [],
   "source": [
    "ethanol_by_gas_station = df_fuels.filter(col(\"Product\") == \"Ethanol\") \\\n",
    "    .groupBy(\"Gas Station\", \"City\", \"State\", \"Region\") \\\n",
    "    .agg(round(avg(\"Sales Price\"), 2).alias(\"Average Ethanol Sales Price\"))"
   ]
  },
  {
   "cell_type": "code",
   "execution_count": null,
   "id": "312ced2e",
   "metadata": {},
   "outputs": [
    {
     "name": "stdout",
     "output_type": "stream",
     "text": [
      "+--------------------+---------------+-----+------+---------------------------+\n",
      "|         Gas Station|           City|State|Region|Average Ethanol Sales Price|\n",
      "+--------------------+---------------+-----+------+---------------------------+\n",
      "|COMERCIAL ALTO SA...|  SERRA TALHADA|   PE|    NE|                       6.49|\n",
      "|SADI DALLACORTE E...|        CHAPECO|   SC|     S|                       6.36|\n",
      "|C M DERIVADOS DE ...|      FORTALEZA|   CE|    NE|                       6.09|\n",
      "| S & G PETROLEO LTDA|CRUZEIRO DO SUL|   AC|     N|                       6.08|\n",
      "|PG COMERCIO E TRA...|        VACARIA|   RS|     S|                       6.05|\n",
      "| SKY AUTO POSTO LTDA|      SAO PAULO|   SP|    SE|                       5.99|\n",
      "|AUTO POSTO DUQUE ...|      SAO PAULO|   SP|    SE|                       5.99|\n",
      "|MASTER POSTO COME...|         SOBRAL|   CE|    NE|                       5.99|\n",
      "|AUTO POSTO R&R AL...|        BARUERI|   SP|    SE|                       5.99|\n",
      "|AUTO POSTO CATARI...|        VILHENA|   RO|     N|                       5.99|\n",
      "+--------------------+---------------+-----+------+---------------------------+\n",
      "only showing top 10 rows\n",
      "\n"
     ]
    }
   ],
   "source": [
    "ethanol_by_gas_station.orderBy(\"Average Ethanol Sales Price\", ascending=False).show(10)"
   ]
  },
  {
   "cell_type": "code",
   "execution_count": null,
   "id": "390c96aa",
   "metadata": {},
   "outputs": [
    {
     "name": "stdout",
     "output_type": "stream",
     "text": [
      "+--------------------+---------------+-----+------+---------------------------+\n",
      "|         Gas Station|           City|State|Region|Average Ethanol Sales Price|\n",
      "+--------------------+---------------+-----+------+---------------------------+\n",
      "|COMERCIAL ALTO SA...|  SERRA TALHADA|   PE|    NE|                       6.49|\n",
      "|SADI DALLACORTE E...|        CHAPECO|   SC|     S|                       6.36|\n",
      "|C M DERIVADOS DE ...|      FORTALEZA|   CE|    NE|                       6.09|\n",
      "| S & G PETROLEO LTDA|CRUZEIRO DO SUL|   AC|     N|                       6.08|\n",
      "|PG COMERCIO E TRA...|        VACARIA|   RS|     S|                       6.05|\n",
      "| SKY AUTO POSTO LTDA|      SAO PAULO|   SP|    SE|                       5.99|\n",
      "|AUTO POSTO DUQUE ...|      SAO PAULO|   SP|    SE|                       5.99|\n",
      "|MASTER POSTO COME...|         SOBRAL|   CE|    NE|                       5.99|\n",
      "|AUTO POSTO R&R AL...|        BARUERI|   SP|    SE|                       5.99|\n",
      "|AUTO POSTO CATARI...|        VILHENA|   RO|     N|                       5.99|\n",
      "+--------------------+---------------+-----+------+---------------------------+\n",
      "only showing top 10 rows\n",
      "\n"
     ]
    }
   ],
   "source": [
    "ethanol_by_gas_station.orderBy(\"Average Ethanol Sales Price\", ascending=False).show(10)"
   ]
  },
  {
   "cell_type": "code",
   "execution_count": null,
   "id": "b00d24e5",
   "metadata": {},
   "outputs": [],
   "source": []
  },
  {
   "cell_type": "markdown",
   "id": "20af1099",
   "metadata": {},
   "source": [
    "# Diesel Prices"
   ]
  },
  {
   "cell_type": "code",
   "execution_count": null,
   "id": "4628298d",
   "metadata": {},
   "outputs": [
    {
     "name": "stdout",
     "output_type": "stream",
     "text": [
      "+------+-----+-------------------+--------------------+-------+-----------+--------------+----------+\n",
      "|Region|State|               City|         Gas Station|Product|Sales Price|Purchase Price|Fuel Brand|\n",
      "+------+-----+-------------------+--------------------+-------+-----------+--------------+----------+\n",
      "|    SE|   SP|           SOROCABA|COMPETRO COMERCIO...|Ethanol|       3.78|          null|    BRANCA|\n",
      "|     N|   AC|    CRUZEIRO DO SUL|AMAZONIA COMERCIO...|Ethanol|       5.95|          null|  IPIRANGA|\n",
      "|     N|   AC|         RIO BRANCO|CODEPE COMBUSTIVE...|Ethanol|       5.29|          null|     VIBRA|\n",
      "|     N|   AC|         RIO BRANCO|AUTO POSTO CASTAN...|Ethanol|       5.49|          null|   EQUADOR|\n",
      "|     N|   AC|         RIO BRANCO|AUTO POSTO CIDADE...|Ethanol|       5.29|          null|     VIBRA|\n",
      "|     N|   AC|         RIO BRANCO|AUTO POSTO DISTRI...|Ethanol|       5.49|          null|     VIBRA|\n",
      "|     N|   AC|         RIO BRANCO|AUTO POSTO SANTO ...|Ethanol|       5.32|          null|     VIBRA|\n",
      "|    NE|   AL|          ARAPIRACA|AUTO POSTO M M GA...|Ethanol|       4.99|          null|     VIBRA|\n",
      "|    NE|   AL|          ARAPIRACA|AUTO POSTO MASSAR...|Ethanol|       4.98|          null|    BRANCA|\n",
      "|    NE|   AL|          ARAPIRACA|DISTRIBUIDORA DE ...|Ethanol|       5.09|          null|    RAIZEN|\n",
      "|    NE|   AL|          ARAPIRACA|IBN PINTO E SILVA...|Ethanol|       4.99|          null|    BRANCA|\n",
      "|    NE|   AL|    DELMIRO GOUVEIA|AUTO POSTO DA PED...|Ethanol|       5.12|          null|     VIBRA|\n",
      "|    NE|   AL|    DELMIRO GOUVEIA|COMERCIO DE COMBU...|Ethanol|       5.08|          null|    BRANCA|\n",
      "|    NE|   AL|PALMEIRA DOS INDIOS|SEVERINO S. LOPES...|Ethanol|       4.99|          null|     VIBRA|\n",
      "|    NE|   AL|PALMEIRA DOS INDIOS|A. B. LESSA NETO ...|Ethanol|       5.09|          null|     VIBRA|\n",
      "|    NE|   AL|          RIO LARGO|OLIVEIRA & FREITA...|Ethanol|       5.19|          null|  IPIRANGA|\n",
      "|    NE|   AL|          RIO LARGO|AUTO POSTO FORENE...|Ethanol|       4.79|          null|     VIBRA|\n",
      "|    NE|   AL|          RIO LARGO|AUTO POSTO PIONEI...|Ethanol|       4.89|          null|     VIBRA|\n",
      "|     N|   AP|             MACAPA|SEPE TIARAJU EMPR...|Ethanol|       5.33|          null|    BRANCA|\n",
      "|     N|   AP|             MACAPA|COMERCIAL GRAO DE...|Ethanol|       5.33|          null|    BRANCA|\n",
      "+------+-----+-------------------+--------------------+-------+-----------+--------------+----------+\n",
      "only showing top 20 rows\n",
      "\n"
     ]
    }
   ],
   "source": [
    "df_ethanol = df_fuels.filter(df_fuels[\"Product\"] == \"Ethanol\")\n",
    "df_ethanol.show()"
   ]
  },
  {
   "cell_type": "markdown",
   "id": "410203f1",
   "metadata": {},
   "source": [
    "### Ethanol Prices by Region"
   ]
  },
  {
   "cell_type": "code",
   "execution_count": null,
   "id": "d9889927",
   "metadata": {},
   "outputs": [
    {
     "name": "stdout",
     "output_type": "stream",
     "text": [
      "+------+---------------------------+\n",
      "|Region|Average Ethanol Sales Price|\n",
      "+------+---------------------------+\n",
      "|     N|                       5.11|\n",
      "|    NE|                       4.91|\n",
      "|     S|                        4.7|\n",
      "|    SE|                        4.3|\n",
      "|    CO|                       4.28|\n",
      "+------+---------------------------+\n",
      "\n"
     ]
    }
   ],
   "source": [
    "df_ethanol.groupBy(\"Region\") \\\n",
    "    .agg(round(avg(\"Sales Price\"), 2).alias(\"Average Ethanol Sales Price\")) \\\n",
    "    .orderBy(\"Average Ethanol Sales Price\", ascending=False) \\\n",
    "    .show()"
   ]
  },
  {
   "cell_type": "markdown",
   "id": "9db24a7d",
   "metadata": {},
   "source": [
    "### Ethanol Prices by State"
   ]
  },
  {
   "cell_type": "code",
   "execution_count": null,
   "id": "2046be65",
   "metadata": {},
   "outputs": [],
   "source": [
    "ethanol_by_state = df_ethanol.groupBy(\"State\") \\\n",
    "    .agg(round(avg(\"Sales Price\"), 2).alias(\"Average Ethanol Sales Price\"))"
   ]
  },
  {
   "cell_type": "code",
   "execution_count": null,
   "id": "1e5e8a21",
   "metadata": {},
   "outputs": [
    {
     "name": "stdout",
     "output_type": "stream",
     "text": [
      "+-----+---------------------------+\n",
      "|State|Average Ethanol Sales Price|\n",
      "+-----+---------------------------+\n",
      "|   AC|                       5.57|\n",
      "|   AM|                       5.48|\n",
      "|   AP|                       5.47|\n",
      "|   RO|                       5.25|\n",
      "|   CE|                       5.25|\n",
      "|   RR|                       5.16|\n",
      "|   MA|                       5.04|\n",
      "|   AL|                       4.98|\n",
      "|   RN|                       4.96|\n",
      "|   RS|                       4.94|\n",
      "+-----+---------------------------+\n",
      "only showing top 10 rows\n",
      "\n"
     ]
    }
   ],
   "source": [
    "ethanol_by_state.orderBy(\"Average Ethanol Sales Price\", ascending=False).show(10)"
   ]
  },
  {
   "cell_type": "code",
   "execution_count": null,
   "id": "62fe6659",
   "metadata": {},
   "outputs": [
    {
     "name": "stdout",
     "output_type": "stream",
     "text": [
      "+-----+---------------------------+\n",
      "|State|Average Ethanol Sales Price|\n",
      "+-----+---------------------------+\n",
      "|   MT|                       4.09|\n",
      "|   SP|                       4.16|\n",
      "|   MS|                        4.2|\n",
      "|   GO|                       4.32|\n",
      "|   MG|                       4.38|\n",
      "|   PR|                       4.53|\n",
      "|   ES|                       4.59|\n",
      "|   PB|                       4.62|\n",
      "|   RJ|                       4.69|\n",
      "|   DF|                       4.71|\n",
      "+-----+---------------------------+\n",
      "only showing top 10 rows\n",
      "\n"
     ]
    }
   ],
   "source": [
    "ethanol_by_state.orderBy(\"Average Ethanol Sales Price\", ascending=True).show(10)"
   ]
  },
  {
   "cell_type": "markdown",
   "id": "87efbac6",
   "metadata": {},
   "source": [
    "### Ethanol Prices by City"
   ]
  },
  {
   "cell_type": "code",
   "execution_count": null,
   "id": "9126163c",
   "metadata": {},
   "outputs": [],
   "source": [
    "ethanol_by_city = df_ethanol.groupBy(\"City\", \"State\", \"Region\") \\\n",
    "    .agg(round(avg(\"Sales Price\"), 2).alias(\"Average Ethanol Sales Price\"))"
   ]
  },
  {
   "cell_type": "code",
   "execution_count": null,
   "id": "73c05c80",
   "metadata": {},
   "outputs": [
    {
     "name": "stdout",
     "output_type": "stream",
     "text": [
      "+--------------------+-----+------+---------------------------+\n",
      "|                City|State|Region|Average Ethanol Sales Price|\n",
      "+--------------------+-----+------+---------------------------+\n",
      "|     CRUZEIRO DO SUL|   AC|     N|                       5.98|\n",
      "|             VILHENA|   RO|     N|                       5.74|\n",
      "|SANTANA DO LIVRAM...|   RS|     S|                       5.68|\n",
      "|            ALTAMIRA|   PA|     N|                       5.61|\n",
      "|           ITAPIPOCA|   CE|    NE|                        5.6|\n",
      "|                CODO|   MA|    NE|                       5.57|\n",
      "|              MANAUS|   AM|     N|                       5.49|\n",
      "|              MACAPA|   AP|     N|                       5.47|\n",
      "|             CRATEUS|   CE|    NE|                       5.47|\n",
      "|         PORTO VELHO|   RO|     N|                       5.46|\n",
      "+--------------------+-----+------+---------------------------+\n",
      "only showing top 10 rows\n",
      "\n"
     ]
    }
   ],
   "source": [
    "ethanol_by_city.orderBy(\"Average Ethanol Sales Price\", ascending=False).show(10)"
   ]
  },
  {
   "cell_type": "code",
   "execution_count": null,
   "id": "ac8a4ffa",
   "metadata": {},
   "outputs": [
    {
     "name": "stdout",
     "output_type": "stream",
     "text": [
      "+--------------------+-----+------+---------------------------+\n",
      "|                City|State|Region|Average Ethanol Sales Price|\n",
      "+--------------------+-----+------+---------------------------+\n",
      "|                LINS|   SP|    SE|                       3.79|\n",
      "|           ARACATUBA|   SP|    SE|                       3.79|\n",
      "|SAO JOSE DO RIO P...|   SP|    SE|                       3.83|\n",
      "|             BIRIGUI|   SP|    SE|                       3.85|\n",
      "|            ANAPOLIS|   GO|    CO|                       3.87|\n",
      "|            GOIATUBA|   GO|    CO|                       3.93|\n",
      "|             MARILIA|   SP|    SE|                       3.94|\n",
      "|          UBERLANDIA|   MG|    SE|                       3.94|\n",
      "|              FRANCA|   SP|    SE|                       3.94|\n",
      "|          ADAMANTINA|   SP|    SE|                       3.96|\n",
      "+--------------------+-----+------+---------------------------+\n",
      "only showing top 10 rows\n",
      "\n"
     ]
    }
   ],
   "source": [
    "ethanol_by_city.orderBy(\"Average Ethanol Sales Price\", ascending=True).show(10)"
   ]
  },
  {
   "cell_type": "markdown",
   "id": "d0025abe",
   "metadata": {},
   "source": [
    "### Ethanol Prices by Brand"
   ]
  },
  {
   "cell_type": "code",
   "execution_count": null,
   "id": "b38f4100",
   "metadata": {},
   "outputs": [],
   "source": [
    "ethanol_by_brand = df_fuels.filter(col(\"Product\") == \"Ethanol\") \\\n",
    "    .groupBy(\"Fuel Brand\") \\\n",
    "    .agg(round(avg(\"Sales Price\"), 2).alias(\"Average Ethanol Sales Price\"))"
   ]
  },
  {
   "cell_type": "code",
   "execution_count": null,
   "id": "07a72f20",
   "metadata": {},
   "outputs": [
    {
     "name": "stdout",
     "output_type": "stream",
     "text": [
      "+-----------------+---------------------------+\n",
      "|       Fuel Brand|Average Ethanol Sales Price|\n",
      "+-----------------+---------------------------+\n",
      "|RZD DISTRIBUIDORA|                       5.49|\n",
      "|          ATEM' S|                       5.47|\n",
      "|          EQUADOR|                       5.35|\n",
      "|              FAN|                       5.22|\n",
      "|               SP|                       5.21|\n",
      "|            SABBÁ|                       5.02|\n",
      "|      RAIZEN MIME|                       4.99|\n",
      "|      SANTA LUCIA|                       4.99|\n",
      "|           DISLUB|                       4.96|\n",
      "|         ON PETRO|                       4.93|\n",
      "+-----------------+---------------------------+\n",
      "only showing top 10 rows\n",
      "\n"
     ]
    }
   ],
   "source": [
    "ethanol_by_brand.orderBy(\"Average Ethanol Sales Price\", ascending=False).show(10)"
   ]
  },
  {
   "cell_type": "code",
   "execution_count": null,
   "id": "bfe0c50d",
   "metadata": {},
   "outputs": [
    {
     "name": "stdout",
     "output_type": "stream",
     "text": [
      "+----------------+---------------------------+\n",
      "|      Fuel Brand|Average Ethanol Sales Price|\n",
      "+----------------+---------------------------+\n",
      "|       ROYAL FIC|                       3.79|\n",
      "|          D`MAIS|                       4.03|\n",
      "|SIM DISTRIBUIDOR|                       4.04|\n",
      "|            WATT|                       4.16|\n",
      "|           IDAZA|                       4.25|\n",
      "|        CIAPETRO|                       4.27|\n",
      "|          TAURUS|                       4.31|\n",
      "|   TOTALENERGIES|                       4.37|\n",
      "|      PETROSERRA|                        4.4|\n",
      "|          BRANCA|                       4.41|\n",
      "+----------------+---------------------------+\n",
      "only showing top 10 rows\n",
      "\n"
     ]
    }
   ],
   "source": [
    "ethanol_by_brand.orderBy(\"Average Ethanol Sales Price\", ascending=True).show(10)"
   ]
  },
  {
   "cell_type": "markdown",
   "id": "1ea41947",
   "metadata": {},
   "source": [
    "### Ethanol Prices by Gas Station"
   ]
  },
  {
   "cell_type": "code",
   "execution_count": null,
   "id": "66931638",
   "metadata": {},
   "outputs": [
    {
     "name": "stdout",
     "output_type": "stream",
     "text": [
      "+------+-----+---------------+--------------------+----------------+-----------+--------------+----------+\n",
      "|Region|State|           City|         Gas Station|         Product|Sales Price|Purchase Price|Fuel Brand|\n",
      "+------+-----+---------------+--------------------+----------------+-----------+--------------+----------+\n",
      "|    SE|   SP|       SOROCABA|COMPETRO COMERCIO...|        Gasoline|       5.65|          null|    BRANCA|\n",
      "|    SE|   SP|       SOROCABA|COMPETRO COMERCIO...|         Ethanol|       3.78|          null|    BRANCA|\n",
      "|     N|   AC|CRUZEIRO DO SUL|AMAZONIA COMERCIO...|        Gasoline|       8.09|          null|  IPIRANGA|\n",
      "|     N|   AC|CRUZEIRO DO SUL|AMAZONIA COMERCIO...|Premium Gasoline|       8.19|          null|  IPIRANGA|\n",
      "|     N|   AC|CRUZEIRO DO SUL|AMAZONIA COMERCIO...|         Ethanol|       5.95|          null|  IPIRANGA|\n",
      "|     N|   AC|     RIO BRANCO|CODEPE COMBUSTIVE...|        Gasoline|       7.62|          null|     VIBRA|\n",
      "|     N|   AC|     RIO BRANCO|CODEPE COMBUSTIVE...|Premium Gasoline|       7.65|          null|     VIBRA|\n",
      "|     N|   AC|     RIO BRANCO|CODEPE COMBUSTIVE...|         Ethanol|       5.29|          null|     VIBRA|\n",
      "|     N|   AC|     RIO BRANCO|AUTO POSTO CASTAN...|        Gasoline|       7.64|          null|   EQUADOR|\n",
      "|     N|   AC|     RIO BRANCO|AUTO POSTO CASTAN...|Premium Gasoline|       7.69|          null|   EQUADOR|\n",
      "|     N|   AC|     RIO BRANCO|AUTO POSTO CASTAN...|         Ethanol|       5.49|          null|   EQUADOR|\n",
      "|     N|   AC|     RIO BRANCO|AUTO POSTO CIDADE...|        Gasoline|        7.6|          null|     VIBRA|\n",
      "|     N|   AC|     RIO BRANCO|AUTO POSTO CIDADE...|         Ethanol|       5.29|          null|     VIBRA|\n",
      "|     N|   AC|     RIO BRANCO|AUTO POSTO DISTRI...|        Gasoline|       7.64|          null|     VIBRA|\n",
      "|     N|   AC|     RIO BRANCO|AUTO POSTO DISTRI...|Premium Gasoline|       7.64|          null|     VIBRA|\n",
      "|     N|   AC|     RIO BRANCO|AUTO POSTO DISTRI...|         Ethanol|       5.49|          null|     VIBRA|\n",
      "|     N|   AC|     RIO BRANCO|AUTO POSTO SANTO ...|        Gasoline|       7.65|          null|     VIBRA|\n",
      "|     N|   AC|     RIO BRANCO|AUTO POSTO SANTO ...|Premium Gasoline|       7.73|          null|     VIBRA|\n",
      "|     N|   AC|     RIO BRANCO|AUTO POSTO SANTO ...|         Ethanol|       5.32|          null|     VIBRA|\n",
      "|    NE|   AL|      ARAPIRACA|AUTO POSTO M M GA...|        Gasoline|       6.26|          null|     VIBRA|\n",
      "+------+-----+---------------+--------------------+----------------+-----------+--------------+----------+\n",
      "only showing top 20 rows\n",
      "\n"
     ]
    }
   ],
   "source": [
    "df_fuels.show()"
   ]
  },
  {
   "cell_type": "code",
   "execution_count": null,
   "id": "af4c0974",
   "metadata": {},
   "outputs": [],
   "source": [
    "ethanol_by_gas_station = df_fuels.filter(col(\"Product\") == \"Ethanol\") \\\n",
    "    .groupBy(\"Gas Station\", \"City\", \"State\", \"Region\") \\\n",
    "    .agg(round(avg(\"Sales Price\"), 2).alias(\"Average Ethanol Sales Price\"))"
   ]
  },
  {
   "cell_type": "code",
   "execution_count": null,
   "id": "c8376baa",
   "metadata": {},
   "outputs": [
    {
     "name": "stdout",
     "output_type": "stream",
     "text": [
      "+--------------------+---------------+-----+------+---------------------------+\n",
      "|         Gas Station|           City|State|Region|Average Ethanol Sales Price|\n",
      "+--------------------+---------------+-----+------+---------------------------+\n",
      "|COMERCIAL ALTO SA...|  SERRA TALHADA|   PE|    NE|                       6.49|\n",
      "|SADI DALLACORTE E...|        CHAPECO|   SC|     S|                       6.36|\n",
      "|C M DERIVADOS DE ...|      FORTALEZA|   CE|    NE|                       6.09|\n",
      "| S & G PETROLEO LTDA|CRUZEIRO DO SUL|   AC|     N|                       6.08|\n",
      "|PG COMERCIO E TRA...|        VACARIA|   RS|     S|                       6.05|\n",
      "| SKY AUTO POSTO LTDA|      SAO PAULO|   SP|    SE|                       5.99|\n",
      "|AUTO POSTO DUQUE ...|      SAO PAULO|   SP|    SE|                       5.99|\n",
      "|MASTER POSTO COME...|         SOBRAL|   CE|    NE|                       5.99|\n",
      "|AUTO POSTO R&R AL...|        BARUERI|   SP|    SE|                       5.99|\n",
      "|AUTO POSTO CATARI...|        VILHENA|   RO|     N|                       5.99|\n",
      "+--------------------+---------------+-----+------+---------------------------+\n",
      "only showing top 10 rows\n",
      "\n"
     ]
    }
   ],
   "source": [
    "ethanol_by_gas_station.orderBy(\"Average Ethanol Sales Price\", ascending=False).show(10)"
   ]
  },
  {
   "cell_type": "code",
   "execution_count": null,
   "id": "769e93ef",
   "metadata": {},
   "outputs": [
    {
     "name": "stdout",
     "output_type": "stream",
     "text": [
      "+--------------------+---------------+-----+------+---------------------------+\n",
      "|         Gas Station|           City|State|Region|Average Ethanol Sales Price|\n",
      "+--------------------+---------------+-----+------+---------------------------+\n",
      "|COMERCIAL ALTO SA...|  SERRA TALHADA|   PE|    NE|                       6.49|\n",
      "|SADI DALLACORTE E...|        CHAPECO|   SC|     S|                       6.36|\n",
      "|C M DERIVADOS DE ...|      FORTALEZA|   CE|    NE|                       6.09|\n",
      "| S & G PETROLEO LTDA|CRUZEIRO DO SUL|   AC|     N|                       6.08|\n",
      "|PG COMERCIO E TRA...|        VACARIA|   RS|     S|                       6.05|\n",
      "| SKY AUTO POSTO LTDA|      SAO PAULO|   SP|    SE|                       5.99|\n",
      "|AUTO POSTO DUQUE ...|      SAO PAULO|   SP|    SE|                       5.99|\n",
      "|MASTER POSTO COME...|         SOBRAL|   CE|    NE|                       5.99|\n",
      "|AUTO POSTO R&R AL...|        BARUERI|   SP|    SE|                       5.99|\n",
      "|AUTO POSTO CATARI...|        VILHENA|   RO|     N|                       5.99|\n",
      "+--------------------+---------------+-----+------+---------------------------+\n",
      "only showing top 10 rows\n",
      "\n"
     ]
    }
   ],
   "source": [
    "ethanol_by_gas_station.orderBy(\"Average Ethanol Sales Price\", ascending=False).show(10)"
   ]
  },
  {
   "cell_type": "code",
   "execution_count": null,
   "id": "23e0e689",
   "metadata": {},
   "outputs": [],
   "source": []
  },
  {
   "cell_type": "markdown",
   "id": "f5c92052",
   "metadata": {},
   "source": [
    "# Diesel S10 Prices"
   ]
  },
  {
   "cell_type": "code",
   "execution_count": null,
   "id": "2491da45",
   "metadata": {},
   "outputs": [
    {
     "name": "stdout",
     "output_type": "stream",
     "text": [
      "+------+-----+-------------------+--------------------+-------+-----------+--------------+----------+\n",
      "|Region|State|               City|         Gas Station|Product|Sales Price|Purchase Price|Fuel Brand|\n",
      "+------+-----+-------------------+--------------------+-------+-----------+--------------+----------+\n",
      "|    SE|   SP|           SOROCABA|COMPETRO COMERCIO...|Ethanol|       3.78|          null|    BRANCA|\n",
      "|     N|   AC|    CRUZEIRO DO SUL|AMAZONIA COMERCIO...|Ethanol|       5.95|          null|  IPIRANGA|\n",
      "|     N|   AC|         RIO BRANCO|CODEPE COMBUSTIVE...|Ethanol|       5.29|          null|     VIBRA|\n",
      "|     N|   AC|         RIO BRANCO|AUTO POSTO CASTAN...|Ethanol|       5.49|          null|   EQUADOR|\n",
      "|     N|   AC|         RIO BRANCO|AUTO POSTO CIDADE...|Ethanol|       5.29|          null|     VIBRA|\n",
      "|     N|   AC|         RIO BRANCO|AUTO POSTO DISTRI...|Ethanol|       5.49|          null|     VIBRA|\n",
      "|     N|   AC|         RIO BRANCO|AUTO POSTO SANTO ...|Ethanol|       5.32|          null|     VIBRA|\n",
      "|    NE|   AL|          ARAPIRACA|AUTO POSTO M M GA...|Ethanol|       4.99|          null|     VIBRA|\n",
      "|    NE|   AL|          ARAPIRACA|AUTO POSTO MASSAR...|Ethanol|       4.98|          null|    BRANCA|\n",
      "|    NE|   AL|          ARAPIRACA|DISTRIBUIDORA DE ...|Ethanol|       5.09|          null|    RAIZEN|\n",
      "|    NE|   AL|          ARAPIRACA|IBN PINTO E SILVA...|Ethanol|       4.99|          null|    BRANCA|\n",
      "|    NE|   AL|    DELMIRO GOUVEIA|AUTO POSTO DA PED...|Ethanol|       5.12|          null|     VIBRA|\n",
      "|    NE|   AL|    DELMIRO GOUVEIA|COMERCIO DE COMBU...|Ethanol|       5.08|          null|    BRANCA|\n",
      "|    NE|   AL|PALMEIRA DOS INDIOS|SEVERINO S. LOPES...|Ethanol|       4.99|          null|     VIBRA|\n",
      "|    NE|   AL|PALMEIRA DOS INDIOS|A. B. LESSA NETO ...|Ethanol|       5.09|          null|     VIBRA|\n",
      "|    NE|   AL|          RIO LARGO|OLIVEIRA & FREITA...|Ethanol|       5.19|          null|  IPIRANGA|\n",
      "|    NE|   AL|          RIO LARGO|AUTO POSTO FORENE...|Ethanol|       4.79|          null|     VIBRA|\n",
      "|    NE|   AL|          RIO LARGO|AUTO POSTO PIONEI...|Ethanol|       4.89|          null|     VIBRA|\n",
      "|     N|   AP|             MACAPA|SEPE TIARAJU EMPR...|Ethanol|       5.33|          null|    BRANCA|\n",
      "|     N|   AP|             MACAPA|COMERCIAL GRAO DE...|Ethanol|       5.33|          null|    BRANCA|\n",
      "+------+-----+-------------------+--------------------+-------+-----------+--------------+----------+\n",
      "only showing top 20 rows\n",
      "\n"
     ]
    }
   ],
   "source": [
    "df_ethanol = df_fuels.filter(df_fuels[\"Product\"] == \"Ethanol\")\n",
    "df_ethanol.show()"
   ]
  },
  {
   "cell_type": "markdown",
   "id": "e9bedb42",
   "metadata": {},
   "source": [
    "### Ethanol Prices by Region"
   ]
  },
  {
   "cell_type": "code",
   "execution_count": null,
   "id": "7084b31e",
   "metadata": {},
   "outputs": [
    {
     "name": "stdout",
     "output_type": "stream",
     "text": [
      "+------+---------------------------+\n",
      "|Region|Average Ethanol Sales Price|\n",
      "+------+---------------------------+\n",
      "|     N|                       5.11|\n",
      "|    NE|                       4.91|\n",
      "|     S|                        4.7|\n",
      "|    SE|                        4.3|\n",
      "|    CO|                       4.28|\n",
      "+------+---------------------------+\n",
      "\n"
     ]
    }
   ],
   "source": [
    "df_ethanol.groupBy(\"Region\") \\\n",
    "    .agg(round(avg(\"Sales Price\"), 2).alias(\"Average Ethanol Sales Price\")) \\\n",
    "    .orderBy(\"Average Ethanol Sales Price\", ascending=False) \\\n",
    "    .show()"
   ]
  },
  {
   "cell_type": "markdown",
   "id": "b841a99c",
   "metadata": {},
   "source": [
    "### Ethanol Prices by State"
   ]
  },
  {
   "cell_type": "code",
   "execution_count": null,
   "id": "fa3d10c4",
   "metadata": {},
   "outputs": [],
   "source": [
    "ethanol_by_state = df_ethanol.groupBy(\"State\") \\\n",
    "    .agg(round(avg(\"Sales Price\"), 2).alias(\"Average Ethanol Sales Price\"))"
   ]
  },
  {
   "cell_type": "code",
   "execution_count": null,
   "id": "b04f9c62",
   "metadata": {},
   "outputs": [
    {
     "name": "stdout",
     "output_type": "stream",
     "text": [
      "+-----+---------------------------+\n",
      "|State|Average Ethanol Sales Price|\n",
      "+-----+---------------------------+\n",
      "|   AC|                       5.57|\n",
      "|   AM|                       5.48|\n",
      "|   AP|                       5.47|\n",
      "|   RO|                       5.25|\n",
      "|   CE|                       5.25|\n",
      "|   RR|                       5.16|\n",
      "|   MA|                       5.04|\n",
      "|   AL|                       4.98|\n",
      "|   RN|                       4.96|\n",
      "|   RS|                       4.94|\n",
      "+-----+---------------------------+\n",
      "only showing top 10 rows\n",
      "\n"
     ]
    }
   ],
   "source": [
    "ethanol_by_state.orderBy(\"Average Ethanol Sales Price\", ascending=False).show(10)"
   ]
  },
  {
   "cell_type": "code",
   "execution_count": null,
   "id": "3c6413cd",
   "metadata": {},
   "outputs": [
    {
     "name": "stdout",
     "output_type": "stream",
     "text": [
      "+-----+---------------------------+\n",
      "|State|Average Ethanol Sales Price|\n",
      "+-----+---------------------------+\n",
      "|   MT|                       4.09|\n",
      "|   SP|                       4.16|\n",
      "|   MS|                        4.2|\n",
      "|   GO|                       4.32|\n",
      "|   MG|                       4.38|\n",
      "|   PR|                       4.53|\n",
      "|   ES|                       4.59|\n",
      "|   PB|                       4.62|\n",
      "|   RJ|                       4.69|\n",
      "|   DF|                       4.71|\n",
      "+-----+---------------------------+\n",
      "only showing top 10 rows\n",
      "\n"
     ]
    }
   ],
   "source": [
    "ethanol_by_state.orderBy(\"Average Ethanol Sales Price\", ascending=True).show(10)"
   ]
  },
  {
   "cell_type": "markdown",
   "id": "45cad27a",
   "metadata": {},
   "source": [
    "### Ethanol Prices by City"
   ]
  },
  {
   "cell_type": "code",
   "execution_count": null,
   "id": "cc65d477",
   "metadata": {},
   "outputs": [],
   "source": [
    "ethanol_by_city = df_ethanol.groupBy(\"City\", \"State\", \"Region\") \\\n",
    "    .agg(round(avg(\"Sales Price\"), 2).alias(\"Average Ethanol Sales Price\"))"
   ]
  },
  {
   "cell_type": "code",
   "execution_count": null,
   "id": "f881540b",
   "metadata": {},
   "outputs": [
    {
     "name": "stdout",
     "output_type": "stream",
     "text": [
      "+--------------------+-----+------+---------------------------+\n",
      "|                City|State|Region|Average Ethanol Sales Price|\n",
      "+--------------------+-----+------+---------------------------+\n",
      "|     CRUZEIRO DO SUL|   AC|     N|                       5.98|\n",
      "|             VILHENA|   RO|     N|                       5.74|\n",
      "|SANTANA DO LIVRAM...|   RS|     S|                       5.68|\n",
      "|            ALTAMIRA|   PA|     N|                       5.61|\n",
      "|           ITAPIPOCA|   CE|    NE|                        5.6|\n",
      "|                CODO|   MA|    NE|                       5.57|\n",
      "|              MANAUS|   AM|     N|                       5.49|\n",
      "|              MACAPA|   AP|     N|                       5.47|\n",
      "|             CRATEUS|   CE|    NE|                       5.47|\n",
      "|         PORTO VELHO|   RO|     N|                       5.46|\n",
      "+--------------------+-----+------+---------------------------+\n",
      "only showing top 10 rows\n",
      "\n"
     ]
    }
   ],
   "source": [
    "ethanol_by_city.orderBy(\"Average Ethanol Sales Price\", ascending=False).show(10)"
   ]
  },
  {
   "cell_type": "code",
   "execution_count": null,
   "id": "66b3e2db",
   "metadata": {},
   "outputs": [
    {
     "name": "stdout",
     "output_type": "stream",
     "text": [
      "+--------------------+-----+------+---------------------------+\n",
      "|                City|State|Region|Average Ethanol Sales Price|\n",
      "+--------------------+-----+------+---------------------------+\n",
      "|                LINS|   SP|    SE|                       3.79|\n",
      "|           ARACATUBA|   SP|    SE|                       3.79|\n",
      "|SAO JOSE DO RIO P...|   SP|    SE|                       3.83|\n",
      "|             BIRIGUI|   SP|    SE|                       3.85|\n",
      "|            ANAPOLIS|   GO|    CO|                       3.87|\n",
      "|            GOIATUBA|   GO|    CO|                       3.93|\n",
      "|             MARILIA|   SP|    SE|                       3.94|\n",
      "|          UBERLANDIA|   MG|    SE|                       3.94|\n",
      "|              FRANCA|   SP|    SE|                       3.94|\n",
      "|          ADAMANTINA|   SP|    SE|                       3.96|\n",
      "+--------------------+-----+------+---------------------------+\n",
      "only showing top 10 rows\n",
      "\n"
     ]
    }
   ],
   "source": [
    "ethanol_by_city.orderBy(\"Average Ethanol Sales Price\", ascending=True).show(10)"
   ]
  },
  {
   "cell_type": "markdown",
   "id": "6914def3",
   "metadata": {},
   "source": [
    "### Ethanol Prices by Brand"
   ]
  },
  {
   "cell_type": "code",
   "execution_count": null,
   "id": "9b06cc6d",
   "metadata": {},
   "outputs": [],
   "source": [
    "ethanol_by_brand = df_fuels.filter(col(\"Product\") == \"Ethanol\") \\\n",
    "    .groupBy(\"Fuel Brand\") \\\n",
    "    .agg(round(avg(\"Sales Price\"), 2).alias(\"Average Ethanol Sales Price\"))"
   ]
  },
  {
   "cell_type": "code",
   "execution_count": null,
   "id": "6c2abd5d",
   "metadata": {},
   "outputs": [
    {
     "name": "stdout",
     "output_type": "stream",
     "text": [
      "+-----------------+---------------------------+\n",
      "|       Fuel Brand|Average Ethanol Sales Price|\n",
      "+-----------------+---------------------------+\n",
      "|RZD DISTRIBUIDORA|                       5.49|\n",
      "|          ATEM' S|                       5.47|\n",
      "|          EQUADOR|                       5.35|\n",
      "|              FAN|                       5.22|\n",
      "|               SP|                       5.21|\n",
      "|            SABBÁ|                       5.02|\n",
      "|      RAIZEN MIME|                       4.99|\n",
      "|      SANTA LUCIA|                       4.99|\n",
      "|           DISLUB|                       4.96|\n",
      "|         ON PETRO|                       4.93|\n",
      "+-----------------+---------------------------+\n",
      "only showing top 10 rows\n",
      "\n"
     ]
    }
   ],
   "source": [
    "ethanol_by_brand.orderBy(\"Average Ethanol Sales Price\", ascending=False).show(10)"
   ]
  },
  {
   "cell_type": "code",
   "execution_count": null,
   "id": "bb45ddd7",
   "metadata": {},
   "outputs": [
    {
     "name": "stdout",
     "output_type": "stream",
     "text": [
      "+----------------+---------------------------+\n",
      "|      Fuel Brand|Average Ethanol Sales Price|\n",
      "+----------------+---------------------------+\n",
      "|       ROYAL FIC|                       3.79|\n",
      "|          D`MAIS|                       4.03|\n",
      "|SIM DISTRIBUIDOR|                       4.04|\n",
      "|            WATT|                       4.16|\n",
      "|           IDAZA|                       4.25|\n",
      "|        CIAPETRO|                       4.27|\n",
      "|          TAURUS|                       4.31|\n",
      "|   TOTALENERGIES|                       4.37|\n",
      "|      PETROSERRA|                        4.4|\n",
      "|          BRANCA|                       4.41|\n",
      "+----------------+---------------------------+\n",
      "only showing top 10 rows\n",
      "\n"
     ]
    }
   ],
   "source": [
    "ethanol_by_brand.orderBy(\"Average Ethanol Sales Price\", ascending=True).show(10)"
   ]
  },
  {
   "cell_type": "markdown",
   "id": "60e79153",
   "metadata": {},
   "source": [
    "### Ethanol Prices by Gas Station"
   ]
  },
  {
   "cell_type": "code",
   "execution_count": null,
   "id": "f5766a87",
   "metadata": {},
   "outputs": [
    {
     "name": "stdout",
     "output_type": "stream",
     "text": [
      "+------+-----+---------------+--------------------+----------------+-----------+--------------+----------+\n",
      "|Region|State|           City|         Gas Station|         Product|Sales Price|Purchase Price|Fuel Brand|\n",
      "+------+-----+---------------+--------------------+----------------+-----------+--------------+----------+\n",
      "|    SE|   SP|       SOROCABA|COMPETRO COMERCIO...|        Gasoline|       5.65|          null|    BRANCA|\n",
      "|    SE|   SP|       SOROCABA|COMPETRO COMERCIO...|         Ethanol|       3.78|          null|    BRANCA|\n",
      "|     N|   AC|CRUZEIRO DO SUL|AMAZONIA COMERCIO...|        Gasoline|       8.09|          null|  IPIRANGA|\n",
      "|     N|   AC|CRUZEIRO DO SUL|AMAZONIA COMERCIO...|Premium Gasoline|       8.19|          null|  IPIRANGA|\n",
      "|     N|   AC|CRUZEIRO DO SUL|AMAZONIA COMERCIO...|         Ethanol|       5.95|          null|  IPIRANGA|\n",
      "|     N|   AC|     RIO BRANCO|CODEPE COMBUSTIVE...|        Gasoline|       7.62|          null|     VIBRA|\n",
      "|     N|   AC|     RIO BRANCO|CODEPE COMBUSTIVE...|Premium Gasoline|       7.65|          null|     VIBRA|\n",
      "|     N|   AC|     RIO BRANCO|CODEPE COMBUSTIVE...|         Ethanol|       5.29|          null|     VIBRA|\n",
      "|     N|   AC|     RIO BRANCO|AUTO POSTO CASTAN...|        Gasoline|       7.64|          null|   EQUADOR|\n",
      "|     N|   AC|     RIO BRANCO|AUTO POSTO CASTAN...|Premium Gasoline|       7.69|          null|   EQUADOR|\n",
      "|     N|   AC|     RIO BRANCO|AUTO POSTO CASTAN...|         Ethanol|       5.49|          null|   EQUADOR|\n",
      "|     N|   AC|     RIO BRANCO|AUTO POSTO CIDADE...|        Gasoline|        7.6|          null|     VIBRA|\n",
      "|     N|   AC|     RIO BRANCO|AUTO POSTO CIDADE...|         Ethanol|       5.29|          null|     VIBRA|\n",
      "|     N|   AC|     RIO BRANCO|AUTO POSTO DISTRI...|        Gasoline|       7.64|          null|     VIBRA|\n",
      "|     N|   AC|     RIO BRANCO|AUTO POSTO DISTRI...|Premium Gasoline|       7.64|          null|     VIBRA|\n",
      "|     N|   AC|     RIO BRANCO|AUTO POSTO DISTRI...|         Ethanol|       5.49|          null|     VIBRA|\n",
      "|     N|   AC|     RIO BRANCO|AUTO POSTO SANTO ...|        Gasoline|       7.65|          null|     VIBRA|\n",
      "|     N|   AC|     RIO BRANCO|AUTO POSTO SANTO ...|Premium Gasoline|       7.73|          null|     VIBRA|\n",
      "|     N|   AC|     RIO BRANCO|AUTO POSTO SANTO ...|         Ethanol|       5.32|          null|     VIBRA|\n",
      "|    NE|   AL|      ARAPIRACA|AUTO POSTO M M GA...|        Gasoline|       6.26|          null|     VIBRA|\n",
      "+------+-----+---------------+--------------------+----------------+-----------+--------------+----------+\n",
      "only showing top 20 rows\n",
      "\n"
     ]
    }
   ],
   "source": [
    "df_fuels.show()"
   ]
  },
  {
   "cell_type": "code",
   "execution_count": null,
   "id": "fca27588",
   "metadata": {},
   "outputs": [],
   "source": [
    "ethanol_by_gas_station = df_fuels.filter(col(\"Product\") == \"Ethanol\") \\\n",
    "    .groupBy(\"Gas Station\", \"City\", \"State\", \"Region\") \\\n",
    "    .agg(round(avg(\"Sales Price\"), 2).alias(\"Average Ethanol Sales Price\"))"
   ]
  },
  {
   "cell_type": "code",
   "execution_count": null,
   "id": "12f7bb7f",
   "metadata": {},
   "outputs": [
    {
     "name": "stdout",
     "output_type": "stream",
     "text": [
      "+--------------------+---------------+-----+------+---------------------------+\n",
      "|         Gas Station|           City|State|Region|Average Ethanol Sales Price|\n",
      "+--------------------+---------------+-----+------+---------------------------+\n",
      "|COMERCIAL ALTO SA...|  SERRA TALHADA|   PE|    NE|                       6.49|\n",
      "|SADI DALLACORTE E...|        CHAPECO|   SC|     S|                       6.36|\n",
      "|C M DERIVADOS DE ...|      FORTALEZA|   CE|    NE|                       6.09|\n",
      "| S & G PETROLEO LTDA|CRUZEIRO DO SUL|   AC|     N|                       6.08|\n",
      "|PG COMERCIO E TRA...|        VACARIA|   RS|     S|                       6.05|\n",
      "| SKY AUTO POSTO LTDA|      SAO PAULO|   SP|    SE|                       5.99|\n",
      "|AUTO POSTO DUQUE ...|      SAO PAULO|   SP|    SE|                       5.99|\n",
      "|MASTER POSTO COME...|         SOBRAL|   CE|    NE|                       5.99|\n",
      "|AUTO POSTO R&R AL...|        BARUERI|   SP|    SE|                       5.99|\n",
      "|AUTO POSTO CATARI...|        VILHENA|   RO|     N|                       5.99|\n",
      "+--------------------+---------------+-----+------+---------------------------+\n",
      "only showing top 10 rows\n",
      "\n"
     ]
    }
   ],
   "source": [
    "ethanol_by_gas_station.orderBy(\"Average Ethanol Sales Price\", ascending=False).show(10)"
   ]
  },
  {
   "cell_type": "code",
   "execution_count": null,
   "id": "c0db2151",
   "metadata": {},
   "outputs": [
    {
     "name": "stdout",
     "output_type": "stream",
     "text": [
      "+--------------------+---------------+-----+------+---------------------------+\n",
      "|         Gas Station|           City|State|Region|Average Ethanol Sales Price|\n",
      "+--------------------+---------------+-----+------+---------------------------+\n",
      "|COMERCIAL ALTO SA...|  SERRA TALHADA|   PE|    NE|                       6.49|\n",
      "|SADI DALLACORTE E...|        CHAPECO|   SC|     S|                       6.36|\n",
      "|C M DERIVADOS DE ...|      FORTALEZA|   CE|    NE|                       6.09|\n",
      "| S & G PETROLEO LTDA|CRUZEIRO DO SUL|   AC|     N|                       6.08|\n",
      "|PG COMERCIO E TRA...|        VACARIA|   RS|     S|                       6.05|\n",
      "| SKY AUTO POSTO LTDA|      SAO PAULO|   SP|    SE|                       5.99|\n",
      "|AUTO POSTO DUQUE ...|      SAO PAULO|   SP|    SE|                       5.99|\n",
      "|MASTER POSTO COME...|         SOBRAL|   CE|    NE|                       5.99|\n",
      "|AUTO POSTO R&R AL...|        BARUERI|   SP|    SE|                       5.99|\n",
      "|AUTO POSTO CATARI...|        VILHENA|   RO|     N|                       5.99|\n",
      "+--------------------+---------------+-----+------+---------------------------+\n",
      "only showing top 10 rows\n",
      "\n"
     ]
    }
   ],
   "source": [
    "ethanol_by_gas_station.orderBy(\"Average Ethanol Sales Price\", ascending=False).show(10)"
   ]
  },
  {
   "cell_type": "code",
   "execution_count": null,
   "id": "d3d2ff9a",
   "metadata": {},
   "outputs": [],
   "source": []
  },
  {
   "cell_type": "markdown",
   "id": "51d224b4",
   "metadata": {},
   "source": [
    "# CNG Prices"
   ]
  },
  {
   "cell_type": "code",
   "execution_count": null,
   "id": "164eb341",
   "metadata": {},
   "outputs": [
    {
     "name": "stdout",
     "output_type": "stream",
     "text": [
      "+------+-----+-------------------+--------------------+-------+-----------+--------------+----------+\n",
      "|Region|State|               City|         Gas Station|Product|Sales Price|Purchase Price|Fuel Brand|\n",
      "+------+-----+-------------------+--------------------+-------+-----------+--------------+----------+\n",
      "|    SE|   SP|           SOROCABA|COMPETRO COMERCIO...|Ethanol|       3.78|          null|    BRANCA|\n",
      "|     N|   AC|    CRUZEIRO DO SUL|AMAZONIA COMERCIO...|Ethanol|       5.95|          null|  IPIRANGA|\n",
      "|     N|   AC|         RIO BRANCO|CODEPE COMBUSTIVE...|Ethanol|       5.29|          null|     VIBRA|\n",
      "|     N|   AC|         RIO BRANCO|AUTO POSTO CASTAN...|Ethanol|       5.49|          null|   EQUADOR|\n",
      "|     N|   AC|         RIO BRANCO|AUTO POSTO CIDADE...|Ethanol|       5.29|          null|     VIBRA|\n",
      "|     N|   AC|         RIO BRANCO|AUTO POSTO DISTRI...|Ethanol|       5.49|          null|     VIBRA|\n",
      "|     N|   AC|         RIO BRANCO|AUTO POSTO SANTO ...|Ethanol|       5.32|          null|     VIBRA|\n",
      "|    NE|   AL|          ARAPIRACA|AUTO POSTO M M GA...|Ethanol|       4.99|          null|     VIBRA|\n",
      "|    NE|   AL|          ARAPIRACA|AUTO POSTO MASSAR...|Ethanol|       4.98|          null|    BRANCA|\n",
      "|    NE|   AL|          ARAPIRACA|DISTRIBUIDORA DE ...|Ethanol|       5.09|          null|    RAIZEN|\n",
      "|    NE|   AL|          ARAPIRACA|IBN PINTO E SILVA...|Ethanol|       4.99|          null|    BRANCA|\n",
      "|    NE|   AL|    DELMIRO GOUVEIA|AUTO POSTO DA PED...|Ethanol|       5.12|          null|     VIBRA|\n",
      "|    NE|   AL|    DELMIRO GOUVEIA|COMERCIO DE COMBU...|Ethanol|       5.08|          null|    BRANCA|\n",
      "|    NE|   AL|PALMEIRA DOS INDIOS|SEVERINO S. LOPES...|Ethanol|       4.99|          null|     VIBRA|\n",
      "|    NE|   AL|PALMEIRA DOS INDIOS|A. B. LESSA NETO ...|Ethanol|       5.09|          null|     VIBRA|\n",
      "|    NE|   AL|          RIO LARGO|OLIVEIRA & FREITA...|Ethanol|       5.19|          null|  IPIRANGA|\n",
      "|    NE|   AL|          RIO LARGO|AUTO POSTO FORENE...|Ethanol|       4.79|          null|     VIBRA|\n",
      "|    NE|   AL|          RIO LARGO|AUTO POSTO PIONEI...|Ethanol|       4.89|          null|     VIBRA|\n",
      "|     N|   AP|             MACAPA|SEPE TIARAJU EMPR...|Ethanol|       5.33|          null|    BRANCA|\n",
      "|     N|   AP|             MACAPA|COMERCIAL GRAO DE...|Ethanol|       5.33|          null|    BRANCA|\n",
      "+------+-----+-------------------+--------------------+-------+-----------+--------------+----------+\n",
      "only showing top 20 rows\n",
      "\n"
     ]
    }
   ],
   "source": [
    "df_ethanol = df_fuels.filter(df_fuels[\"Product\"] == \"Ethanol\")\n",
    "df_ethanol.show()"
   ]
  },
  {
   "cell_type": "markdown",
   "id": "4d927a87",
   "metadata": {},
   "source": [
    "### Ethanol Prices by Region"
   ]
  },
  {
   "cell_type": "code",
   "execution_count": null,
   "id": "0d2c9cab",
   "metadata": {},
   "outputs": [
    {
     "name": "stdout",
     "output_type": "stream",
     "text": [
      "+------+---------------------------+\n",
      "|Region|Average Ethanol Sales Price|\n",
      "+------+---------------------------+\n",
      "|     N|                       5.11|\n",
      "|    NE|                       4.91|\n",
      "|     S|                        4.7|\n",
      "|    SE|                        4.3|\n",
      "|    CO|                       4.28|\n",
      "+------+---------------------------+\n",
      "\n"
     ]
    }
   ],
   "source": [
    "df_ethanol.groupBy(\"Region\") \\\n",
    "    .agg(round(avg(\"Sales Price\"), 2).alias(\"Average Ethanol Sales Price\")) \\\n",
    "    .orderBy(\"Average Ethanol Sales Price\", ascending=False) \\\n",
    "    .show()"
   ]
  },
  {
   "cell_type": "markdown",
   "id": "8eafd348",
   "metadata": {},
   "source": [
    "### Ethanol Prices by State"
   ]
  },
  {
   "cell_type": "code",
   "execution_count": null,
   "id": "0bc8bf27",
   "metadata": {},
   "outputs": [],
   "source": [
    "ethanol_by_state = df_ethanol.groupBy(\"State\") \\\n",
    "    .agg(round(avg(\"Sales Price\"), 2).alias(\"Average Ethanol Sales Price\"))"
   ]
  },
  {
   "cell_type": "code",
   "execution_count": null,
   "id": "c8af1671",
   "metadata": {},
   "outputs": [
    {
     "name": "stdout",
     "output_type": "stream",
     "text": [
      "+-----+---------------------------+\n",
      "|State|Average Ethanol Sales Price|\n",
      "+-----+---------------------------+\n",
      "|   AC|                       5.57|\n",
      "|   AM|                       5.48|\n",
      "|   AP|                       5.47|\n",
      "|   RO|                       5.25|\n",
      "|   CE|                       5.25|\n",
      "|   RR|                       5.16|\n",
      "|   MA|                       5.04|\n",
      "|   AL|                       4.98|\n",
      "|   RN|                       4.96|\n",
      "|   RS|                       4.94|\n",
      "+-----+---------------------------+\n",
      "only showing top 10 rows\n",
      "\n"
     ]
    }
   ],
   "source": [
    "ethanol_by_state.orderBy(\"Average Ethanol Sales Price\", ascending=False).show(10)"
   ]
  },
  {
   "cell_type": "code",
   "execution_count": null,
   "id": "6f90a3bd",
   "metadata": {},
   "outputs": [
    {
     "name": "stdout",
     "output_type": "stream",
     "text": [
      "+-----+---------------------------+\n",
      "|State|Average Ethanol Sales Price|\n",
      "+-----+---------------------------+\n",
      "|   MT|                       4.09|\n",
      "|   SP|                       4.16|\n",
      "|   MS|                        4.2|\n",
      "|   GO|                       4.32|\n",
      "|   MG|                       4.38|\n",
      "|   PR|                       4.53|\n",
      "|   ES|                       4.59|\n",
      "|   PB|                       4.62|\n",
      "|   RJ|                       4.69|\n",
      "|   DF|                       4.71|\n",
      "+-----+---------------------------+\n",
      "only showing top 10 rows\n",
      "\n"
     ]
    }
   ],
   "source": [
    "ethanol_by_state.orderBy(\"Average Ethanol Sales Price\", ascending=True).show(10)"
   ]
  },
  {
   "cell_type": "markdown",
   "id": "eb612abe",
   "metadata": {},
   "source": [
    "### Ethanol Prices by City"
   ]
  },
  {
   "cell_type": "code",
   "execution_count": null,
   "id": "35727e45",
   "metadata": {},
   "outputs": [],
   "source": [
    "ethanol_by_city = df_ethanol.groupBy(\"City\", \"State\", \"Region\") \\\n",
    "    .agg(round(avg(\"Sales Price\"), 2).alias(\"Average Ethanol Sales Price\"))"
   ]
  },
  {
   "cell_type": "code",
   "execution_count": null,
   "id": "72fe2d7b",
   "metadata": {},
   "outputs": [
    {
     "name": "stdout",
     "output_type": "stream",
     "text": [
      "+--------------------+-----+------+---------------------------+\n",
      "|                City|State|Region|Average Ethanol Sales Price|\n",
      "+--------------------+-----+------+---------------------------+\n",
      "|     CRUZEIRO DO SUL|   AC|     N|                       5.98|\n",
      "|             VILHENA|   RO|     N|                       5.74|\n",
      "|SANTANA DO LIVRAM...|   RS|     S|                       5.68|\n",
      "|            ALTAMIRA|   PA|     N|                       5.61|\n",
      "|           ITAPIPOCA|   CE|    NE|                        5.6|\n",
      "|                CODO|   MA|    NE|                       5.57|\n",
      "|              MANAUS|   AM|     N|                       5.49|\n",
      "|              MACAPA|   AP|     N|                       5.47|\n",
      "|             CRATEUS|   CE|    NE|                       5.47|\n",
      "|         PORTO VELHO|   RO|     N|                       5.46|\n",
      "+--------------------+-----+------+---------------------------+\n",
      "only showing top 10 rows\n",
      "\n"
     ]
    }
   ],
   "source": [
    "ethanol_by_city.orderBy(\"Average Ethanol Sales Price\", ascending=False).show(10)"
   ]
  },
  {
   "cell_type": "code",
   "execution_count": null,
   "id": "b9979b04",
   "metadata": {},
   "outputs": [
    {
     "name": "stdout",
     "output_type": "stream",
     "text": [
      "+--------------------+-----+------+---------------------------+\n",
      "|                City|State|Region|Average Ethanol Sales Price|\n",
      "+--------------------+-----+------+---------------------------+\n",
      "|                LINS|   SP|    SE|                       3.79|\n",
      "|           ARACATUBA|   SP|    SE|                       3.79|\n",
      "|SAO JOSE DO RIO P...|   SP|    SE|                       3.83|\n",
      "|             BIRIGUI|   SP|    SE|                       3.85|\n",
      "|            ANAPOLIS|   GO|    CO|                       3.87|\n",
      "|            GOIATUBA|   GO|    CO|                       3.93|\n",
      "|             MARILIA|   SP|    SE|                       3.94|\n",
      "|          UBERLANDIA|   MG|    SE|                       3.94|\n",
      "|              FRANCA|   SP|    SE|                       3.94|\n",
      "|          ADAMANTINA|   SP|    SE|                       3.96|\n",
      "+--------------------+-----+------+---------------------------+\n",
      "only showing top 10 rows\n",
      "\n"
     ]
    }
   ],
   "source": [
    "ethanol_by_city.orderBy(\"Average Ethanol Sales Price\", ascending=True).show(10)"
   ]
  },
  {
   "cell_type": "markdown",
   "id": "0a4c811c",
   "metadata": {},
   "source": [
    "### Ethanol Prices by Brand"
   ]
  },
  {
   "cell_type": "code",
   "execution_count": null,
   "id": "19f94202",
   "metadata": {},
   "outputs": [],
   "source": [
    "ethanol_by_brand = df_fuels.filter(col(\"Product\") == \"Ethanol\") \\\n",
    "    .groupBy(\"Fuel Brand\") \\\n",
    "    .agg(round(avg(\"Sales Price\"), 2).alias(\"Average Ethanol Sales Price\"))"
   ]
  },
  {
   "cell_type": "code",
   "execution_count": null,
   "id": "cc2afa0d",
   "metadata": {},
   "outputs": [
    {
     "name": "stdout",
     "output_type": "stream",
     "text": [
      "+-----------------+---------------------------+\n",
      "|       Fuel Brand|Average Ethanol Sales Price|\n",
      "+-----------------+---------------------------+\n",
      "|RZD DISTRIBUIDORA|                       5.49|\n",
      "|          ATEM' S|                       5.47|\n",
      "|          EQUADOR|                       5.35|\n",
      "|              FAN|                       5.22|\n",
      "|               SP|                       5.21|\n",
      "|            SABBÁ|                       5.02|\n",
      "|      RAIZEN MIME|                       4.99|\n",
      "|      SANTA LUCIA|                       4.99|\n",
      "|           DISLUB|                       4.96|\n",
      "|         ON PETRO|                       4.93|\n",
      "+-----------------+---------------------------+\n",
      "only showing top 10 rows\n",
      "\n"
     ]
    }
   ],
   "source": [
    "ethanol_by_brand.orderBy(\"Average Ethanol Sales Price\", ascending=False).show(10)"
   ]
  },
  {
   "cell_type": "code",
   "execution_count": null,
   "id": "37aa5031",
   "metadata": {},
   "outputs": [
    {
     "name": "stdout",
     "output_type": "stream",
     "text": [
      "+----------------+---------------------------+\n",
      "|      Fuel Brand|Average Ethanol Sales Price|\n",
      "+----------------+---------------------------+\n",
      "|       ROYAL FIC|                       3.79|\n",
      "|          D`MAIS|                       4.03|\n",
      "|SIM DISTRIBUIDOR|                       4.04|\n",
      "|            WATT|                       4.16|\n",
      "|           IDAZA|                       4.25|\n",
      "|        CIAPETRO|                       4.27|\n",
      "|          TAURUS|                       4.31|\n",
      "|   TOTALENERGIES|                       4.37|\n",
      "|      PETROSERRA|                        4.4|\n",
      "|          BRANCA|                       4.41|\n",
      "+----------------+---------------------------+\n",
      "only showing top 10 rows\n",
      "\n"
     ]
    }
   ],
   "source": [
    "ethanol_by_brand.orderBy(\"Average Ethanol Sales Price\", ascending=True).show(10)"
   ]
  },
  {
   "cell_type": "markdown",
   "id": "bad82ea7",
   "metadata": {},
   "source": [
    "### Ethanol Prices by Gas Station"
   ]
  },
  {
   "cell_type": "code",
   "execution_count": null,
   "id": "242ca5b7",
   "metadata": {},
   "outputs": [
    {
     "name": "stdout",
     "output_type": "stream",
     "text": [
      "+------+-----+---------------+--------------------+----------------+-----------+--------------+----------+\n",
      "|Region|State|           City|         Gas Station|         Product|Sales Price|Purchase Price|Fuel Brand|\n",
      "+------+-----+---------------+--------------------+----------------+-----------+--------------+----------+\n",
      "|    SE|   SP|       SOROCABA|COMPETRO COMERCIO...|        Gasoline|       5.65|          null|    BRANCA|\n",
      "|    SE|   SP|       SOROCABA|COMPETRO COMERCIO...|         Ethanol|       3.78|          null|    BRANCA|\n",
      "|     N|   AC|CRUZEIRO DO SUL|AMAZONIA COMERCIO...|        Gasoline|       8.09|          null|  IPIRANGA|\n",
      "|     N|   AC|CRUZEIRO DO SUL|AMAZONIA COMERCIO...|Premium Gasoline|       8.19|          null|  IPIRANGA|\n",
      "|     N|   AC|CRUZEIRO DO SUL|AMAZONIA COMERCIO...|         Ethanol|       5.95|          null|  IPIRANGA|\n",
      "|     N|   AC|     RIO BRANCO|CODEPE COMBUSTIVE...|        Gasoline|       7.62|          null|     VIBRA|\n",
      "|     N|   AC|     RIO BRANCO|CODEPE COMBUSTIVE...|Premium Gasoline|       7.65|          null|     VIBRA|\n",
      "|     N|   AC|     RIO BRANCO|CODEPE COMBUSTIVE...|         Ethanol|       5.29|          null|     VIBRA|\n",
      "|     N|   AC|     RIO BRANCO|AUTO POSTO CASTAN...|        Gasoline|       7.64|          null|   EQUADOR|\n",
      "|     N|   AC|     RIO BRANCO|AUTO POSTO CASTAN...|Premium Gasoline|       7.69|          null|   EQUADOR|\n",
      "|     N|   AC|     RIO BRANCO|AUTO POSTO CASTAN...|         Ethanol|       5.49|          null|   EQUADOR|\n",
      "|     N|   AC|     RIO BRANCO|AUTO POSTO CIDADE...|        Gasoline|        7.6|          null|     VIBRA|\n",
      "|     N|   AC|     RIO BRANCO|AUTO POSTO CIDADE...|         Ethanol|       5.29|          null|     VIBRA|\n",
      "|     N|   AC|     RIO BRANCO|AUTO POSTO DISTRI...|        Gasoline|       7.64|          null|     VIBRA|\n",
      "|     N|   AC|     RIO BRANCO|AUTO POSTO DISTRI...|Premium Gasoline|       7.64|          null|     VIBRA|\n",
      "|     N|   AC|     RIO BRANCO|AUTO POSTO DISTRI...|         Ethanol|       5.49|          null|     VIBRA|\n",
      "|     N|   AC|     RIO BRANCO|AUTO POSTO SANTO ...|        Gasoline|       7.65|          null|     VIBRA|\n",
      "|     N|   AC|     RIO BRANCO|AUTO POSTO SANTO ...|Premium Gasoline|       7.73|          null|     VIBRA|\n",
      "|     N|   AC|     RIO BRANCO|AUTO POSTO SANTO ...|         Ethanol|       5.32|          null|     VIBRA|\n",
      "|    NE|   AL|      ARAPIRACA|AUTO POSTO M M GA...|        Gasoline|       6.26|          null|     VIBRA|\n",
      "+------+-----+---------------+--------------------+----------------+-----------+--------------+----------+\n",
      "only showing top 20 rows\n",
      "\n"
     ]
    }
   ],
   "source": [
    "df_fuels.show()"
   ]
  },
  {
   "cell_type": "code",
   "execution_count": null,
   "id": "d7ea7347",
   "metadata": {},
   "outputs": [],
   "source": [
    "ethanol_by_gas_station = df_fuels.filter(col(\"Product\") == \"Ethanol\") \\\n",
    "    .groupBy(\"Gas Station\", \"City\", \"State\", \"Region\") \\\n",
    "    .agg(round(avg(\"Sales Price\"), 2).alias(\"Average Ethanol Sales Price\"))"
   ]
  },
  {
   "cell_type": "code",
   "execution_count": null,
   "id": "8efd0eaa",
   "metadata": {},
   "outputs": [
    {
     "name": "stdout",
     "output_type": "stream",
     "text": [
      "+--------------------+---------------+-----+------+---------------------------+\n",
      "|         Gas Station|           City|State|Region|Average Ethanol Sales Price|\n",
      "+--------------------+---------------+-----+------+---------------------------+\n",
      "|COMERCIAL ALTO SA...|  SERRA TALHADA|   PE|    NE|                       6.49|\n",
      "|SADI DALLACORTE E...|        CHAPECO|   SC|     S|                       6.36|\n",
      "|C M DERIVADOS DE ...|      FORTALEZA|   CE|    NE|                       6.09|\n",
      "| S & G PETROLEO LTDA|CRUZEIRO DO SUL|   AC|     N|                       6.08|\n",
      "|PG COMERCIO E TRA...|        VACARIA|   RS|     S|                       6.05|\n",
      "| SKY AUTO POSTO LTDA|      SAO PAULO|   SP|    SE|                       5.99|\n",
      "|AUTO POSTO DUQUE ...|      SAO PAULO|   SP|    SE|                       5.99|\n",
      "|MASTER POSTO COME...|         SOBRAL|   CE|    NE|                       5.99|\n",
      "|AUTO POSTO R&R AL...|        BARUERI|   SP|    SE|                       5.99|\n",
      "|AUTO POSTO CATARI...|        VILHENA|   RO|     N|                       5.99|\n",
      "+--------------------+---------------+-----+------+---------------------------+\n",
      "only showing top 10 rows\n",
      "\n"
     ]
    }
   ],
   "source": [
    "ethanol_by_gas_station.orderBy(\"Average Ethanol Sales Price\", ascending=False).show(10)"
   ]
  },
  {
   "cell_type": "code",
   "execution_count": null,
   "id": "8e4843a6",
   "metadata": {},
   "outputs": [
    {
     "name": "stdout",
     "output_type": "stream",
     "text": [
      "+--------------------+---------------+-----+------+---------------------------+\n",
      "|         Gas Station|           City|State|Region|Average Ethanol Sales Price|\n",
      "+--------------------+---------------+-----+------+---------------------------+\n",
      "|COMERCIAL ALTO SA...|  SERRA TALHADA|   PE|    NE|                       6.49|\n",
      "|SADI DALLACORTE E...|        CHAPECO|   SC|     S|                       6.36|\n",
      "|C M DERIVADOS DE ...|      FORTALEZA|   CE|    NE|                       6.09|\n",
      "| S & G PETROLEO LTDA|CRUZEIRO DO SUL|   AC|     N|                       6.08|\n",
      "|PG COMERCIO E TRA...|        VACARIA|   RS|     S|                       6.05|\n",
      "| SKY AUTO POSTO LTDA|      SAO PAULO|   SP|    SE|                       5.99|\n",
      "|AUTO POSTO DUQUE ...|      SAO PAULO|   SP|    SE|                       5.99|\n",
      "|MASTER POSTO COME...|         SOBRAL|   CE|    NE|                       5.99|\n",
      "|AUTO POSTO R&R AL...|        BARUERI|   SP|    SE|                       5.99|\n",
      "|AUTO POSTO CATARI...|        VILHENA|   RO|     N|                       5.99|\n",
      "+--------------------+---------------+-----+------+---------------------------+\n",
      "only showing top 10 rows\n",
      "\n"
     ]
    }
   ],
   "source": [
    "ethanol_by_gas_station.orderBy(\"Average Ethanol Sales Price\", ascending=False).show(10)"
   ]
  },
  {
   "cell_type": "code",
   "execution_count": null,
   "id": "6cb60dcf",
   "metadata": {},
   "outputs": [],
   "source": []
  },
  {
   "cell_type": "markdown",
   "id": "bd795815",
   "metadata": {},
   "source": [
    "# LPG Prices"
   ]
  },
  {
   "cell_type": "code",
   "execution_count": null,
   "id": "5be46952",
   "metadata": {},
   "outputs": [
    {
     "name": "stdout",
     "output_type": "stream",
     "text": [
      "+------+-----+-------------------+--------------------+-------+-----------+--------------+----------+\n",
      "|Region|State|               City|         Gas Station|Product|Sales Price|Purchase Price|Fuel Brand|\n",
      "+------+-----+-------------------+--------------------+-------+-----------+--------------+----------+\n",
      "|    SE|   SP|           SOROCABA|COMPETRO COMERCIO...|Ethanol|       3.78|          null|    BRANCA|\n",
      "|     N|   AC|    CRUZEIRO DO SUL|AMAZONIA COMERCIO...|Ethanol|       5.95|          null|  IPIRANGA|\n",
      "|     N|   AC|         RIO BRANCO|CODEPE COMBUSTIVE...|Ethanol|       5.29|          null|     VIBRA|\n",
      "|     N|   AC|         RIO BRANCO|AUTO POSTO CASTAN...|Ethanol|       5.49|          null|   EQUADOR|\n",
      "|     N|   AC|         RIO BRANCO|AUTO POSTO CIDADE...|Ethanol|       5.29|          null|     VIBRA|\n",
      "|     N|   AC|         RIO BRANCO|AUTO POSTO DISTRI...|Ethanol|       5.49|          null|     VIBRA|\n",
      "|     N|   AC|         RIO BRANCO|AUTO POSTO SANTO ...|Ethanol|       5.32|          null|     VIBRA|\n",
      "|    NE|   AL|          ARAPIRACA|AUTO POSTO M M GA...|Ethanol|       4.99|          null|     VIBRA|\n",
      "|    NE|   AL|          ARAPIRACA|AUTO POSTO MASSAR...|Ethanol|       4.98|          null|    BRANCA|\n",
      "|    NE|   AL|          ARAPIRACA|DISTRIBUIDORA DE ...|Ethanol|       5.09|          null|    RAIZEN|\n",
      "|    NE|   AL|          ARAPIRACA|IBN PINTO E SILVA...|Ethanol|       4.99|          null|    BRANCA|\n",
      "|    NE|   AL|    DELMIRO GOUVEIA|AUTO POSTO DA PED...|Ethanol|       5.12|          null|     VIBRA|\n",
      "|    NE|   AL|    DELMIRO GOUVEIA|COMERCIO DE COMBU...|Ethanol|       5.08|          null|    BRANCA|\n",
      "|    NE|   AL|PALMEIRA DOS INDIOS|SEVERINO S. LOPES...|Ethanol|       4.99|          null|     VIBRA|\n",
      "|    NE|   AL|PALMEIRA DOS INDIOS|A. B. LESSA NETO ...|Ethanol|       5.09|          null|     VIBRA|\n",
      "|    NE|   AL|          RIO LARGO|OLIVEIRA & FREITA...|Ethanol|       5.19|          null|  IPIRANGA|\n",
      "|    NE|   AL|          RIO LARGO|AUTO POSTO FORENE...|Ethanol|       4.79|          null|     VIBRA|\n",
      "|    NE|   AL|          RIO LARGO|AUTO POSTO PIONEI...|Ethanol|       4.89|          null|     VIBRA|\n",
      "|     N|   AP|             MACAPA|SEPE TIARAJU EMPR...|Ethanol|       5.33|          null|    BRANCA|\n",
      "|     N|   AP|             MACAPA|COMERCIAL GRAO DE...|Ethanol|       5.33|          null|    BRANCA|\n",
      "+------+-----+-------------------+--------------------+-------+-----------+--------------+----------+\n",
      "only showing top 20 rows\n",
      "\n"
     ]
    }
   ],
   "source": [
    "df_ethanol = df_fuels.filter(df_fuels[\"Product\"] == \"Ethanol\")\n",
    "df_ethanol.show()"
   ]
  },
  {
   "cell_type": "markdown",
   "id": "1a07249f",
   "metadata": {},
   "source": [
    "### Ethanol Prices by Region"
   ]
  },
  {
   "cell_type": "code",
   "execution_count": null,
   "id": "88b321de",
   "metadata": {},
   "outputs": [
    {
     "name": "stdout",
     "output_type": "stream",
     "text": [
      "+------+---------------------------+\n",
      "|Region|Average Ethanol Sales Price|\n",
      "+------+---------------------------+\n",
      "|     N|                       5.11|\n",
      "|    NE|                       4.91|\n",
      "|     S|                        4.7|\n",
      "|    SE|                        4.3|\n",
      "|    CO|                       4.28|\n",
      "+------+---------------------------+\n",
      "\n"
     ]
    }
   ],
   "source": [
    "df_ethanol.groupBy(\"Region\") \\\n",
    "    .agg(round(avg(\"Sales Price\"), 2).alias(\"Average Ethanol Sales Price\")) \\\n",
    "    .orderBy(\"Average Ethanol Sales Price\", ascending=False) \\\n",
    "    .show()"
   ]
  },
  {
   "cell_type": "markdown",
   "id": "78461cd2",
   "metadata": {},
   "source": [
    "### Ethanol Prices by State"
   ]
  },
  {
   "cell_type": "code",
   "execution_count": null,
   "id": "2c6d644e",
   "metadata": {},
   "outputs": [],
   "source": [
    "ethanol_by_state = df_ethanol.groupBy(\"State\") \\\n",
    "    .agg(round(avg(\"Sales Price\"), 2).alias(\"Average Ethanol Sales Price\"))"
   ]
  },
  {
   "cell_type": "code",
   "execution_count": null,
   "id": "82724376",
   "metadata": {},
   "outputs": [
    {
     "name": "stdout",
     "output_type": "stream",
     "text": [
      "+-----+---------------------------+\n",
      "|State|Average Ethanol Sales Price|\n",
      "+-----+---------------------------+\n",
      "|   AC|                       5.57|\n",
      "|   AM|                       5.48|\n",
      "|   AP|                       5.47|\n",
      "|   RO|                       5.25|\n",
      "|   CE|                       5.25|\n",
      "|   RR|                       5.16|\n",
      "|   MA|                       5.04|\n",
      "|   AL|                       4.98|\n",
      "|   RN|                       4.96|\n",
      "|   RS|                       4.94|\n",
      "+-----+---------------------------+\n",
      "only showing top 10 rows\n",
      "\n"
     ]
    }
   ],
   "source": [
    "ethanol_by_state.orderBy(\"Average Ethanol Sales Price\", ascending=False).show(10)"
   ]
  },
  {
   "cell_type": "code",
   "execution_count": null,
   "id": "dd309b1f",
   "metadata": {},
   "outputs": [
    {
     "name": "stdout",
     "output_type": "stream",
     "text": [
      "+-----+---------------------------+\n",
      "|State|Average Ethanol Sales Price|\n",
      "+-----+---------------------------+\n",
      "|   MT|                       4.09|\n",
      "|   SP|                       4.16|\n",
      "|   MS|                        4.2|\n",
      "|   GO|                       4.32|\n",
      "|   MG|                       4.38|\n",
      "|   PR|                       4.53|\n",
      "|   ES|                       4.59|\n",
      "|   PB|                       4.62|\n",
      "|   RJ|                       4.69|\n",
      "|   DF|                       4.71|\n",
      "+-----+---------------------------+\n",
      "only showing top 10 rows\n",
      "\n"
     ]
    }
   ],
   "source": [
    "ethanol_by_state.orderBy(\"Average Ethanol Sales Price\", ascending=True).show(10)"
   ]
  },
  {
   "cell_type": "markdown",
   "id": "961e0c46",
   "metadata": {},
   "source": [
    "### Ethanol Prices by City"
   ]
  },
  {
   "cell_type": "code",
   "execution_count": null,
   "id": "bf907b8e",
   "metadata": {},
   "outputs": [],
   "source": [
    "ethanol_by_city = df_ethanol.groupBy(\"City\", \"State\", \"Region\") \\\n",
    "    .agg(round(avg(\"Sales Price\"), 2).alias(\"Average Ethanol Sales Price\"))"
   ]
  },
  {
   "cell_type": "code",
   "execution_count": null,
   "id": "ed36367f",
   "metadata": {},
   "outputs": [
    {
     "name": "stdout",
     "output_type": "stream",
     "text": [
      "+--------------------+-----+------+---------------------------+\n",
      "|                City|State|Region|Average Ethanol Sales Price|\n",
      "+--------------------+-----+------+---------------------------+\n",
      "|     CRUZEIRO DO SUL|   AC|     N|                       5.98|\n",
      "|             VILHENA|   RO|     N|                       5.74|\n",
      "|SANTANA DO LIVRAM...|   RS|     S|                       5.68|\n",
      "|            ALTAMIRA|   PA|     N|                       5.61|\n",
      "|           ITAPIPOCA|   CE|    NE|                        5.6|\n",
      "|                CODO|   MA|    NE|                       5.57|\n",
      "|              MANAUS|   AM|     N|                       5.49|\n",
      "|              MACAPA|   AP|     N|                       5.47|\n",
      "|             CRATEUS|   CE|    NE|                       5.47|\n",
      "|         PORTO VELHO|   RO|     N|                       5.46|\n",
      "+--------------------+-----+------+---------------------------+\n",
      "only showing top 10 rows\n",
      "\n"
     ]
    }
   ],
   "source": [
    "ethanol_by_city.orderBy(\"Average Ethanol Sales Price\", ascending=False).show(10)"
   ]
  },
  {
   "cell_type": "code",
   "execution_count": null,
   "id": "c1fe6925",
   "metadata": {},
   "outputs": [
    {
     "name": "stdout",
     "output_type": "stream",
     "text": [
      "+--------------------+-----+------+---------------------------+\n",
      "|                City|State|Region|Average Ethanol Sales Price|\n",
      "+--------------------+-----+------+---------------------------+\n",
      "|                LINS|   SP|    SE|                       3.79|\n",
      "|           ARACATUBA|   SP|    SE|                       3.79|\n",
      "|SAO JOSE DO RIO P...|   SP|    SE|                       3.83|\n",
      "|             BIRIGUI|   SP|    SE|                       3.85|\n",
      "|            ANAPOLIS|   GO|    CO|                       3.87|\n",
      "|            GOIATUBA|   GO|    CO|                       3.93|\n",
      "|             MARILIA|   SP|    SE|                       3.94|\n",
      "|          UBERLANDIA|   MG|    SE|                       3.94|\n",
      "|              FRANCA|   SP|    SE|                       3.94|\n",
      "|          ADAMANTINA|   SP|    SE|                       3.96|\n",
      "+--------------------+-----+------+---------------------------+\n",
      "only showing top 10 rows\n",
      "\n"
     ]
    }
   ],
   "source": [
    "ethanol_by_city.orderBy(\"Average Ethanol Sales Price\", ascending=True).show(10)"
   ]
  },
  {
   "cell_type": "markdown",
   "id": "f4eb5b23",
   "metadata": {},
   "source": [
    "### Ethanol Prices by Brand"
   ]
  },
  {
   "cell_type": "code",
   "execution_count": null,
   "id": "28ff8c02",
   "metadata": {},
   "outputs": [],
   "source": [
    "ethanol_by_brand = df_fuels.filter(col(\"Product\") == \"Ethanol\") \\\n",
    "    .groupBy(\"Fuel Brand\") \\\n",
    "    .agg(round(avg(\"Sales Price\"), 2).alias(\"Average Ethanol Sales Price\"))"
   ]
  },
  {
   "cell_type": "code",
   "execution_count": null,
   "id": "b0aa7ca0",
   "metadata": {},
   "outputs": [
    {
     "name": "stdout",
     "output_type": "stream",
     "text": [
      "+-----------------+---------------------------+\n",
      "|       Fuel Brand|Average Ethanol Sales Price|\n",
      "+-----------------+---------------------------+\n",
      "|RZD DISTRIBUIDORA|                       5.49|\n",
      "|          ATEM' S|                       5.47|\n",
      "|          EQUADOR|                       5.35|\n",
      "|              FAN|                       5.22|\n",
      "|               SP|                       5.21|\n",
      "|            SABBÁ|                       5.02|\n",
      "|      RAIZEN MIME|                       4.99|\n",
      "|      SANTA LUCIA|                       4.99|\n",
      "|           DISLUB|                       4.96|\n",
      "|         ON PETRO|                       4.93|\n",
      "+-----------------+---------------------------+\n",
      "only showing top 10 rows\n",
      "\n"
     ]
    }
   ],
   "source": [
    "ethanol_by_brand.orderBy(\"Average Ethanol Sales Price\", ascending=False).show(10)"
   ]
  },
  {
   "cell_type": "code",
   "execution_count": null,
   "id": "ff5c4b78",
   "metadata": {},
   "outputs": [
    {
     "name": "stdout",
     "output_type": "stream",
     "text": [
      "+----------------+---------------------------+\n",
      "|      Fuel Brand|Average Ethanol Sales Price|\n",
      "+----------------+---------------------------+\n",
      "|       ROYAL FIC|                       3.79|\n",
      "|          D`MAIS|                       4.03|\n",
      "|SIM DISTRIBUIDOR|                       4.04|\n",
      "|            WATT|                       4.16|\n",
      "|           IDAZA|                       4.25|\n",
      "|        CIAPETRO|                       4.27|\n",
      "|          TAURUS|                       4.31|\n",
      "|   TOTALENERGIES|                       4.37|\n",
      "|      PETROSERRA|                        4.4|\n",
      "|          BRANCA|                       4.41|\n",
      "+----------------+---------------------------+\n",
      "only showing top 10 rows\n",
      "\n"
     ]
    }
   ],
   "source": [
    "ethanol_by_brand.orderBy(\"Average Ethanol Sales Price\", ascending=True).show(10)"
   ]
  },
  {
   "cell_type": "markdown",
   "id": "59e5e15b",
   "metadata": {},
   "source": [
    "### Ethanol Prices by Gas Station"
   ]
  },
  {
   "cell_type": "code",
   "execution_count": null,
   "id": "546f8957",
   "metadata": {},
   "outputs": [
    {
     "name": "stdout",
     "output_type": "stream",
     "text": [
      "+------+-----+---------------+--------------------+----------------+-----------+--------------+----------+\n",
      "|Region|State|           City|         Gas Station|         Product|Sales Price|Purchase Price|Fuel Brand|\n",
      "+------+-----+---------------+--------------------+----------------+-----------+--------------+----------+\n",
      "|    SE|   SP|       SOROCABA|COMPETRO COMERCIO...|        Gasoline|       5.65|          null|    BRANCA|\n",
      "|    SE|   SP|       SOROCABA|COMPETRO COMERCIO...|         Ethanol|       3.78|          null|    BRANCA|\n",
      "|     N|   AC|CRUZEIRO DO SUL|AMAZONIA COMERCIO...|        Gasoline|       8.09|          null|  IPIRANGA|\n",
      "|     N|   AC|CRUZEIRO DO SUL|AMAZONIA COMERCIO...|Premium Gasoline|       8.19|          null|  IPIRANGA|\n",
      "|     N|   AC|CRUZEIRO DO SUL|AMAZONIA COMERCIO...|         Ethanol|       5.95|          null|  IPIRANGA|\n",
      "|     N|   AC|     RIO BRANCO|CODEPE COMBUSTIVE...|        Gasoline|       7.62|          null|     VIBRA|\n",
      "|     N|   AC|     RIO BRANCO|CODEPE COMBUSTIVE...|Premium Gasoline|       7.65|          null|     VIBRA|\n",
      "|     N|   AC|     RIO BRANCO|CODEPE COMBUSTIVE...|         Ethanol|       5.29|          null|     VIBRA|\n",
      "|     N|   AC|     RIO BRANCO|AUTO POSTO CASTAN...|        Gasoline|       7.64|          null|   EQUADOR|\n",
      "|     N|   AC|     RIO BRANCO|AUTO POSTO CASTAN...|Premium Gasoline|       7.69|          null|   EQUADOR|\n",
      "|     N|   AC|     RIO BRANCO|AUTO POSTO CASTAN...|         Ethanol|       5.49|          null|   EQUADOR|\n",
      "|     N|   AC|     RIO BRANCO|AUTO POSTO CIDADE...|        Gasoline|        7.6|          null|     VIBRA|\n",
      "|     N|   AC|     RIO BRANCO|AUTO POSTO CIDADE...|         Ethanol|       5.29|          null|     VIBRA|\n",
      "|     N|   AC|     RIO BRANCO|AUTO POSTO DISTRI...|        Gasoline|       7.64|          null|     VIBRA|\n",
      "|     N|   AC|     RIO BRANCO|AUTO POSTO DISTRI...|Premium Gasoline|       7.64|          null|     VIBRA|\n",
      "|     N|   AC|     RIO BRANCO|AUTO POSTO DISTRI...|         Ethanol|       5.49|          null|     VIBRA|\n",
      "|     N|   AC|     RIO BRANCO|AUTO POSTO SANTO ...|        Gasoline|       7.65|          null|     VIBRA|\n",
      "|     N|   AC|     RIO BRANCO|AUTO POSTO SANTO ...|Premium Gasoline|       7.73|          null|     VIBRA|\n",
      "|     N|   AC|     RIO BRANCO|AUTO POSTO SANTO ...|         Ethanol|       5.32|          null|     VIBRA|\n",
      "|    NE|   AL|      ARAPIRACA|AUTO POSTO M M GA...|        Gasoline|       6.26|          null|     VIBRA|\n",
      "+------+-----+---------------+--------------------+----------------+-----------+--------------+----------+\n",
      "only showing top 20 rows\n",
      "\n"
     ]
    }
   ],
   "source": [
    "df_fuels.show()"
   ]
  },
  {
   "cell_type": "code",
   "execution_count": null,
   "id": "2b931ada",
   "metadata": {},
   "outputs": [],
   "source": [
    "ethanol_by_gas_station = df_fuels.filter(col(\"Product\") == \"Ethanol\") \\\n",
    "    .groupBy(\"Gas Station\", \"City\", \"State\", \"Region\") \\\n",
    "    .agg(round(avg(\"Sales Price\"), 2).alias(\"Average Ethanol Sales Price\"))"
   ]
  },
  {
   "cell_type": "code",
   "execution_count": null,
   "id": "f87f7400",
   "metadata": {},
   "outputs": [
    {
     "name": "stdout",
     "output_type": "stream",
     "text": [
      "+--------------------+---------------+-----+------+---------------------------+\n",
      "|         Gas Station|           City|State|Region|Average Ethanol Sales Price|\n",
      "+--------------------+---------------+-----+------+---------------------------+\n",
      "|COMERCIAL ALTO SA...|  SERRA TALHADA|   PE|    NE|                       6.49|\n",
      "|SADI DALLACORTE E...|        CHAPECO|   SC|     S|                       6.36|\n",
      "|C M DERIVADOS DE ...|      FORTALEZA|   CE|    NE|                       6.09|\n",
      "| S & G PETROLEO LTDA|CRUZEIRO DO SUL|   AC|     N|                       6.08|\n",
      "|PG COMERCIO E TRA...|        VACARIA|   RS|     S|                       6.05|\n",
      "| SKY AUTO POSTO LTDA|      SAO PAULO|   SP|    SE|                       5.99|\n",
      "|AUTO POSTO DUQUE ...|      SAO PAULO|   SP|    SE|                       5.99|\n",
      "|MASTER POSTO COME...|         SOBRAL|   CE|    NE|                       5.99|\n",
      "|AUTO POSTO R&R AL...|        BARUERI|   SP|    SE|                       5.99|\n",
      "|AUTO POSTO CATARI...|        VILHENA|   RO|     N|                       5.99|\n",
      "+--------------------+---------------+-----+------+---------------------------+\n",
      "only showing top 10 rows\n",
      "\n"
     ]
    }
   ],
   "source": [
    "ethanol_by_gas_station.orderBy(\"Average Ethanol Sales Price\", ascending=False).show(10)"
   ]
  },
  {
   "cell_type": "code",
   "execution_count": null,
   "id": "d3619b62",
   "metadata": {},
   "outputs": [
    {
     "name": "stdout",
     "output_type": "stream",
     "text": [
      "+--------------------+---------------+-----+------+---------------------------+\n",
      "|         Gas Station|           City|State|Region|Average Ethanol Sales Price|\n",
      "+--------------------+---------------+-----+------+---------------------------+\n",
      "|COMERCIAL ALTO SA...|  SERRA TALHADA|   PE|    NE|                       6.49|\n",
      "|SADI DALLACORTE E...|        CHAPECO|   SC|     S|                       6.36|\n",
      "|C M DERIVADOS DE ...|      FORTALEZA|   CE|    NE|                       6.09|\n",
      "| S & G PETROLEO LTDA|CRUZEIRO DO SUL|   AC|     N|                       6.08|\n",
      "|PG COMERCIO E TRA...|        VACARIA|   RS|     S|                       6.05|\n",
      "| SKY AUTO POSTO LTDA|      SAO PAULO|   SP|    SE|                       5.99|\n",
      "|AUTO POSTO DUQUE ...|      SAO PAULO|   SP|    SE|                       5.99|\n",
      "|MASTER POSTO COME...|         SOBRAL|   CE|    NE|                       5.99|\n",
      "|AUTO POSTO R&R AL...|        BARUERI|   SP|    SE|                       5.99|\n",
      "|AUTO POSTO CATARI...|        VILHENA|   RO|     N|                       5.99|\n",
      "+--------------------+---------------+-----+------+---------------------------+\n",
      "only showing top 10 rows\n",
      "\n"
     ]
    }
   ],
   "source": [
    "ethanol_by_gas_station.orderBy(\"Average Ethanol Sales Price\", ascending=False).show(10)"
   ]
  },
  {
   "cell_type": "code",
   "execution_count": null,
   "id": "28c5563f",
   "metadata": {},
   "outputs": [],
   "source": []
  }
 ],
 "metadata": {
  "kernelspec": {
   "display_name": "venv",
   "language": "python",
   "name": "python3"
  },
  "language_info": {
   "codemirror_mode": {
    "name": "ipython",
    "version": 3
   },
   "file_extension": ".py",
   "mimetype": "text/x-python",
   "name": "python",
   "nbconvert_exporter": "python",
   "pygments_lexer": "ipython3",
   "version": "3.10.11"
  }
 },
 "nbformat": 4,
 "nbformat_minor": 5
}
